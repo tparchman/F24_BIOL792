{
 "cells": [
  {
   "cell_type": "markdown",
   "metadata": {},
   "source": [
    "# `numpy` and `pandas` - Python data science libraries\n",
    "\n",
    "**Author: Trevor Faske (updated by T. Parchman)  \n",
    "Modified: 11/11/2023**\n",
    "\n",
    "`pandas` is a must learn tool for data science. It is a powerful python package and swiss army knife for all data analysis. \"The name is derived from the term 'panel data', an econometrics term for data sets that include observations over multiple time periods for the same individuals. Also a play on the phrase 'Python data analysis.'\" - wikipedia\n",
    "\n",
    "`pandas` works with the data structure called **DataFrame** (same as in R). This consists of a matrix with rows and columns and will very similar to an excel spreadsheet or csv file. `pandas` allows you to easily manipulate, filter, summarize, and merge data for downstream processing. `pandas` is part of the SciPy (https://www.scipy.org/) ecosystem so works great for plotting and data analysis. \n",
    "\n",
    "`numpy` is a widely used python library that supports working with large, multi-dimensional arrays and matrices. It has a diversity of mathematical functions to operate on these arrays or matrices. `pandas` was built from `numpy`, so requires or resembles much of its functionality."
   ]
  },
  {
   "cell_type": "markdown",
   "metadata": {},
   "source": [
    "## Useful Resources\n",
    "\n",
    "- https://github.com/jvns/pandas-cookbook\n",
    "- https://www.w3schools.com/python/ (great NumPy intro)\n",
    "- https://pandas.pydata.org/docs/getting_started/tutorials.html (community tutorials)\n",
    "- https://pandas.pydata.org/docs/user_guide/index.html\n",
    "- https://www.kaggle.com/learn/pandas  \n",
    "- https://blog.resolvingpython.com/01-getting-started-with-pandas"
   ]
  },
  {
   "cell_type": "markdown",
   "metadata": {},
   "source": [
    "## Installing libraries\n",
    "\n",
    "Python has substantial built in data structures and functions, but external libraries (packages) have an insane diversity of workflows and functions. Most of the growing flexibility and tool kit associated with python come from these libraries.\n",
    "\n",
    "Most will have have `pip3` or `conda` associated commands available and these can used to install needed libraries from the terminal. \n",
    "\n",
    "**If using pip3**:  \n",
    "\n",
    "`$ pip3 install numpy`   \n",
    "`$ pip3 install pandas`\n",
    "    \n",
    "You might get a permissions error. If so, install like:  \n",
    "`$ pip3 install --user pandas`\n",
    "\n",
    "**If using conda**:  \n",
    "\n",
    "`$ conda install -c anaconda numpy`  \n",
    "`$ conda install -c anaconda pandas`\n"
   ]
  },
  {
   "cell_type": "markdown",
   "metadata": {},
   "source": [
    "## Getting started with NumPy\n",
    "\n",
    "#### Resource: https://www.w3schools.com/python/numpy_intro.asp\n",
    "\n",
    "`NumPy` is a popular array – processing package that also allows for a lot of rapid mathematical operations (i.e., matrix math). Everything is array/matrix based and are designed to work much faster than compareable tasks with base python lists. `pandas` uses much of the same syntax, so it is useful, if not necessary, to know one for the other."
   ]
  },
  {
   "cell_type": "markdown",
   "metadata": {},
   "source": [
    "### importing library\n"
   ]
  },
  {
   "cell_type": "code",
   "execution_count": 2,
   "metadata": {},
   "outputs": [],
   "source": [
    "import numpy as np #np used as a shorter alias. I suggest always doing this"
   ]
  },
  {
   "cell_type": "markdown",
   "metadata": {},
   "source": [
    "### ndarrays\n",
    "\n",
    "#### Create 1-D array with `.array()` function\n",
    "Array is kind of just another word for list. As in base python, the array is given as a list of values enclosed in `[]`.\n",
    "\n",
    "`type` returns the type of numpy object. IN the case below, an ndarray."
   ]
  },
  {
   "cell_type": "code",
   "execution_count": 3,
   "metadata": {},
   "outputs": [
    {
     "name": "stdout",
     "output_type": "stream",
     "text": [
      "[1 3 5 2 4 6]\n"
     ]
    },
    {
     "data": {
      "text/plain": [
       "numpy.ndarray"
      ]
     },
     "execution_count": 3,
     "metadata": {},
     "output_type": "execute_result"
    }
   ],
   "source": [
    "d1 = np.array([1,3,5,2,4,6])\n",
    "print(d1)\n",
    "type(d1)"
   ]
  },
  {
   "cell_type": "markdown",
   "metadata": {},
   "source": [
    "#### Create 2-D array with `.array()` function\n",
    "\n",
    "This is essentially a list of lists, essentially a 2-dimensional data frame of rows with their values being in columns."
   ]
  },
  {
   "cell_type": "code",
   "execution_count": 4,
   "metadata": {},
   "outputs": [
    {
     "name": "stdout",
     "output_type": "stream",
     "text": [
      "[[1 3 5]\n",
      " [2 4 6]]\n"
     ]
    },
    {
     "data": {
      "text/plain": [
       "numpy.ndarray"
      ]
     },
     "execution_count": 4,
     "metadata": {},
     "output_type": "execute_result"
    }
   ],
   "source": [
    "d2 = np.array([[1,3,5],[2,4,6]])\n",
    "print(d2)\n",
    "type(d2)"
   ]
  },
  {
   "cell_type": "markdown",
   "metadata": {},
   "source": [
    "#### Get dimensions and total size of any `ndarray`"
   ]
  },
  {
   "cell_type": "code",
   "execution_count": 3,
   "metadata": {},
   "outputs": [
    {
     "ename": "NameError",
     "evalue": "name 'd2' is not defined",
     "output_type": "error",
     "traceback": [
      "\u001b[0;31m---------------------------------------------------------------------------\u001b[0m",
      "\u001b[0;31mNameError\u001b[0m                                 Traceback (most recent call last)",
      "Cell \u001b[0;32mIn[3], line 1\u001b[0m\n\u001b[0;32m----> 1\u001b[0m \u001b[38;5;28mprint\u001b[39m(d2\u001b[38;5;241m.\u001b[39mshape) \u001b[38;5;66;03m#rows, columns\u001b[39;00m\n\u001b[1;32m      2\u001b[0m \u001b[38;5;28mprint\u001b[39m(d2\u001b[38;5;241m.\u001b[39msize) \n\u001b[1;32m      3\u001b[0m d2\u001b[38;5;241m.\u001b[39mshape\n",
      "\u001b[0;31mNameError\u001b[0m: name 'd2' is not defined"
     ]
    }
   ],
   "source": [
    "print(d2.shape) #rows, columns\n",
    "print(d2.size) \n",
    "d2.shape"
   ]
  },
  {
   "cell_type": "markdown",
   "metadata": {},
   "source": [
    "### Accessing and indexing `numpy.ndarrays` is similar to lists but with added dimension. Very similar to R indexing of data frames.\n",
    "\n",
    "This means that `0` is the first index in an array. For a 2-dimensional `numpy.ndarray`, rows are given with the first index, and columns are given with the second: `array_name[row,column]`. This is so similar to dataframes in R, that if you know one the other is quite easy."
   ]
  },
  {
   "cell_type": "code",
   "execution_count": 4,
   "metadata": {},
   "outputs": [
    {
     "ename": "NameError",
     "evalue": "name 'd2' is not defined",
     "output_type": "error",
     "traceback": [
      "\u001b[0;31m---------------------------------------------------------------------------\u001b[0m",
      "\u001b[0;31mNameError\u001b[0m                                 Traceback (most recent call last)",
      "Cell \u001b[0;32mIn[4], line 1\u001b[0m\n\u001b[0;32m----> 1\u001b[0m \u001b[38;5;28mprint\u001b[39m(d2)\n\u001b[1;32m      3\u001b[0m \u001b[38;5;66;03m# 2nd row, 1st column \u001b[39;00m\n\u001b[1;32m      4\u001b[0m \u001b[38;5;28mprint\u001b[39m(d2[\u001b[38;5;241m1\u001b[39m,\u001b[38;5;241m0\u001b[39m]) \n",
      "\u001b[0;31mNameError\u001b[0m: name 'd2' is not defined"
     ]
    }
   ],
   "source": [
    "print(d2)\n",
    "\n",
    "# 2nd row, 1st column \n",
    "print(d2[1,0]) \n",
    "\n",
    "# 1st row, 3rd column\n",
    "print(d2[0,2])"
   ]
  },
  {
   "cell_type": "markdown",
   "metadata": {},
   "source": [
    "#### Slicing works very similarly to lists in base python. \n",
    "\n",
    "This is similar to extracting part of a single row, or collection of rows, or part of a single column, or collection of columns.\n"
   ]
  },
  {
   "cell_type": "code",
   "execution_count": 5,
   "metadata": {},
   "outputs": [
    {
     "ename": "NameError",
     "evalue": "name 'd2' is not defined",
     "output_type": "error",
     "traceback": [
      "\u001b[0;31m---------------------------------------------------------------------------\u001b[0m",
      "\u001b[0;31mNameError\u001b[0m                                 Traceback (most recent call last)",
      "Cell \u001b[0;32mIn[5], line 2\u001b[0m\n\u001b[1;32m      1\u001b[0m \u001b[38;5;66;03m#extract first 2 elements of the 2nd row\u001b[39;00m\n\u001b[0;32m----> 2\u001b[0m \u001b[38;5;28mprint\u001b[39m(d2[\u001b[38;5;241m1\u001b[39m,:\u001b[38;5;241m2\u001b[39m])\n\u001b[1;32m      3\u001b[0m \u001b[38;5;28mprint\u001b[39m(d2)\n",
      "\u001b[0;31mNameError\u001b[0m: name 'd2' is not defined"
     ]
    }
   ],
   "source": [
    "#extract first 2 elements of the 2nd row\n",
    "print(d2[1,:2])\n",
    "print(d2)"
   ]
  },
  {
   "cell_type": "markdown",
   "metadata": {},
   "source": [
    "### Reshape array format with `.reshape()`\n",
    "\n",
    "Reshaping an array involves changing its dimensions. For example, we might want to turn a long 1-d array into a 2-d array. \n",
    "\n",
    "The code below takes a 1-d array and turns into a 2-d array with 2 rows, and 3 columns."
   ]
  },
  {
   "cell_type": "code",
   "execution_count": 6,
   "metadata": {},
   "outputs": [
    {
     "name": "stdout",
     "output_type": "stream",
     "text": [
      "[1 3 5 2 4 6]\n"
     ]
    },
    {
     "data": {
      "text/plain": [
       "array([[1, 3],\n",
       "       [5, 2],\n",
       "       [4, 6]])"
      ]
     },
     "execution_count": 6,
     "metadata": {},
     "output_type": "execute_result"
    }
   ],
   "source": [
    "d1 = np.array([1,3,5,2,4,6]) \n",
    "print(d1)\n",
    "d1.reshape(2,3) # 2 rows, 3 columns\n",
    "d1.reshape(3,2) # 3 rows, 2 columns\n"
   ]
  },
  {
   "cell_type": "markdown",
   "metadata": {},
   "source": [
    "The code below takes a 2-d array  with 2 rows, and 3 columns and turns it into a 1-d array."
   ]
  },
  {
   "cell_type": "code",
   "execution_count": 7,
   "metadata": {},
   "outputs": [
    {
     "data": {
      "text/plain": [
       "array([[1, 3, 5, 2, 4, 6]])"
      ]
     },
     "execution_count": 7,
     "metadata": {},
     "output_type": "execute_result"
    }
   ],
   "source": [
    "d2 = np.array([[1,3,5],[2,4,6]])\n",
    "d2.reshape(1,6)  "
   ]
  },
  {
   "cell_type": "markdown",
   "metadata": {},
   "source": [
    "### create 1D array containing a range of values using the `.arange()` function. \n",
    "\n",
    "This function simply returns \"A Range\" of values."
   ]
  },
  {
   "cell_type": "code",
   "execution_count": 8,
   "metadata": {},
   "outputs": [
    {
     "data": {
      "text/plain": [
       "array([0, 1, 2, 3, 4, 5, 6, 7, 8, 9])"
      ]
     },
     "execution_count": 8,
     "metadata": {},
     "output_type": "execute_result"
    }
   ],
   "source": [
    "np.arange(10)"
   ]
  },
  {
   "cell_type": "markdown",
   "metadata": {},
   "source": [
    "#### array 0 to 50 by 5 (start,stop,step)"
   ]
  },
  {
   "cell_type": "code",
   "execution_count": 9,
   "metadata": {},
   "outputs": [
    {
     "data": {
      "text/plain": [
       "array([ 0,  5, 10, 15, 20, 25, 30, 35, 40, 45])"
      ]
     },
     "execution_count": 9,
     "metadata": {},
     "output_type": "execute_result"
    }
   ],
   "source": [
    "np.arange(0,50,5)"
   ]
  },
  {
   "cell_type": "markdown",
   "metadata": {},
   "source": [
    "### Random number generation with `.random()` library of `numpy`\n",
    "\n",
    "Very useful for permutation techniques, simulating data, or anything else you might want random numbers for.\n",
    "\n",
    "Import `random` from `numpy` as below:"
   ]
  },
  {
   "cell_type": "code",
   "execution_count": 10,
   "metadata": {},
   "outputs": [],
   "source": [
    "from numpy import random"
   ]
  },
  {
   "cell_type": "markdown",
   "metadata": {},
   "source": [
    "#### Generate a random float from 0 to 1 with `.rand()` function"
   ]
  },
  {
   "cell_type": "code",
   "execution_count": 11,
   "metadata": {},
   "outputs": [
    {
     "data": {
      "text/plain": [
       "0.1717424004934437"
      ]
     },
     "execution_count": 11,
     "metadata": {},
     "output_type": "execute_result"
    }
   ],
   "source": [
    "random.rand()"
   ]
  },
  {
   "cell_type": "markdown",
   "metadata": {},
   "source": [
    "#### Generate 5 random floats from 0 to 1"
   ]
  },
  {
   "cell_type": "code",
   "execution_count": 12,
   "metadata": {},
   "outputs": [
    {
     "data": {
      "text/plain": [
       "array([0.42929298, 0.71318927, 0.36047879, 0.35215489, 0.83002852])"
      ]
     },
     "execution_count": 12,
     "metadata": {},
     "output_type": "execute_result"
    }
   ],
   "source": [
    "random.rand(5)"
   ]
  },
  {
   "cell_type": "markdown",
   "metadata": {},
   "source": [
    "#### Generate one random integer between 0-99 with `.randint()` "
   ]
  },
  {
   "cell_type": "code",
   "execution_count": 13,
   "metadata": {},
   "outputs": [
    {
     "data": {
      "text/plain": [
       "88"
      ]
     },
     "execution_count": 13,
     "metadata": {},
     "output_type": "execute_result"
    }
   ],
   "source": [
    "random.randint(100)"
   ]
  },
  {
   "cell_type": "markdown",
   "metadata": {},
   "source": [
    "#### Generate 7 random integers between 0-99 "
   ]
  },
  {
   "cell_type": "code",
   "execution_count": 14,
   "metadata": {},
   "outputs": [
    {
     "data": {
      "text/plain": [
       "array([29, 15, 59, 39, 60, 30, 10])"
      ]
     },
     "execution_count": 14,
     "metadata": {},
     "output_type": "execute_result"
    }
   ],
   "source": [
    "random.randint(100, size = 7)"
   ]
  },
  {
   "cell_type": "markdown",
   "metadata": {},
   "source": [
    "#### Generate 2D array of random integers between 0-99"
   ]
  },
  {
   "cell_type": "code",
   "execution_count": 15,
   "metadata": {},
   "outputs": [
    {
     "data": {
      "text/plain": [
       "array([[93, 40, 54],\n",
       "       [50, 21,  7]])"
      ]
     },
     "execution_count": 15,
     "metadata": {},
     "output_type": "execute_result"
    }
   ],
   "source": [
    "random.randint(100, size=(2,3))"
   ]
  },
  {
   "cell_type": "markdown",
   "metadata": {},
   "source": [
    "### Choose or randomly sample from an array\n",
    "\n",
    "#### Take a random sample from an array"
   ]
  },
  {
   "cell_type": "code",
   "execution_count": 16,
   "metadata": {},
   "outputs": [
    {
     "data": {
      "text/plain": [
       "9"
      ]
     },
     "execution_count": 16,
     "metadata": {},
     "output_type": "execute_result"
    }
   ],
   "source": [
    "random.choice([3, 5, 7, 9])"
   ]
  },
  {
   "cell_type": "markdown",
   "metadata": {},
   "source": [
    "#### Sample with replacement from list\n",
    "\n",
    "The code below samples repeatedly, with replacement, from the list until an 2-d array with 3 rows and 4 columns is built."
   ]
  },
  {
   "cell_type": "code",
   "execution_count": 17,
   "metadata": {},
   "outputs": [
    {
     "data": {
      "text/plain": [
       "array([[3, 3, 9, 9],\n",
       "       [5, 7, 7, 7],\n",
       "       [7, 9, 3, 9]])"
      ]
     },
     "execution_count": 17,
     "metadata": {},
     "output_type": "execute_result"
    }
   ],
   "source": [
    "random.choice([3, 5, 7, 9],size=(3,4))"
   ]
  },
  {
   "cell_type": "markdown",
   "metadata": {},
   "source": [
    "## Math in `numpy`\n",
    "\n",
    "(https://numpy.org/doc/stable/reference/routines.math.html)\n",
    "\n",
    "### Generate 100 random numbers from 1 to 1000 and get length, max, min, mean"
   ]
  },
  {
   "cell_type": "code",
   "execution_count": 18,
   "metadata": {},
   "outputs": [
    {
     "name": "stdout",
     "output_type": "stream",
     "text": [
      "100\n",
      "996\n",
      "3\n",
      "516.51\n"
     ]
    }
   ],
   "source": [
    "x = random.randint(1000,size=100)\n",
    "\n",
    "print(len(x))\n",
    "print(x.max())\n",
    "print(x.min())\n",
    "print(x.mean())\n"
   ]
  },
  {
   "cell_type": "markdown",
   "metadata": {},
   "source": [
    "### Mathematical operations can easily and rapidly be conducted on each element of an array. \n",
    "\n",
    "Below, we are making a 1-d array of ten random integers. We are then using `np.divide` to divide each element by 2, `np.power` to raise each element to the power of 2, and `np.sqrt` to take the square root of each element. "
   ]
  },
  {
   "cell_type": "code",
   "execution_count": 19,
   "metadata": {},
   "outputs": [
    {
     "name": "stdout",
     "output_type": "stream",
     "text": [
      "[[402 400 631 776 449]\n",
      " [720 296 746 841  98]]\n",
      "[[201.  200.  315.5 388.  224.5]\n",
      " [360.  148.  373.  420.5  49. ]]\n",
      "[[161604 160000 398161 602176 201601]\n",
      " [518400  87616 556516 707281   9604]]\n",
      "[[20.04993766 20.         25.11971337 27.85677655 21.1896201 ]\n",
      " [26.83281573 17.20465053 27.31300057 29.          9.89949494]]\n"
     ]
    }
   ],
   "source": [
    "x = random.randint(1000,size=10)\n",
    "x2= x.reshape(2,5) #reshape into a 2d array with 2 rows and 5 columns, just for fun.\n",
    "print(x2)\n",
    "print(np.divide(x2, 2))\n",
    "\n",
    "print(np.power(x2, 2))\n",
    "\n",
    "print(np.sqrt(x2))"
   ]
  },
  {
   "cell_type": "markdown",
   "metadata": {},
   "source": [
    "## Iterating through numpy arrays\n",
    "\n",
    "Just as you can iterate through lists or other data structures in base python, `numpy` ndarrays offer a more rapid environment for iterating. This can mean iterating through a 1-d array or 2-d array, or single 'columns' or 'rows' of 2-d arrays. The idea here is to speed up dataframe operations for large-scale data sets.\n",
    "\n",
    "### Iterating through a 1-d array"
   ]
  },
  {
   "cell_type": "code",
   "execution_count": 20,
   "metadata": {},
   "outputs": [
    {
     "name": "stdout",
     "output_type": "stream",
     "text": [
      "1\n",
      "2\n",
      "3\n",
      "4\n",
      "100\n",
      "150\n"
     ]
    }
   ],
   "source": [
    "arr = np.array([1, 2, 3, 4, 100, 150])\n",
    "\n",
    "for x in arr:\n",
    "  print(x) "
   ]
  },
  {
   "cell_type": "markdown",
   "metadata": {},
   "source": [
    "### Iterating through a 2-d array"
   ]
  },
  {
   "cell_type": "code",
   "execution_count": 21,
   "metadata": {},
   "outputs": [
    {
     "name": "stdout",
     "output_type": "stream",
     "text": [
      "[1 2 3]\n",
      "[  4 100 150]\n"
     ]
    }
   ],
   "source": [
    "arr = np.array([[1, 2, 3], [4, 100, 150]])\n",
    "\n",
    "for x in arr:\n",
    "  print(x) "
   ]
  },
  {
   "cell_type": "markdown",
   "metadata": {},
   "source": [
    "### Iterating through one 'column' of a 2-d array\n",
    "\n",
    "`arr[0:,2]` below specifies first, all rows, and second, the third column"
   ]
  },
  {
   "cell_type": "code",
   "execution_count": 22,
   "metadata": {},
   "outputs": [
    {
     "name": "stdout",
     "output_type": "stream",
     "text": [
      "3\n",
      "150\n"
     ]
    }
   ],
   "source": [
    "arr = np.array([[1, 2, 3], [4, 100, 150]])\n",
    "\n",
    "for x in arr[0:,2]:\n",
    "  print(x) "
   ]
  },
  {
   "cell_type": "markdown",
   "metadata": {},
   "source": [
    "## Building `numpy` ndarrays from files, writing ndarrays to files\n",
    "\n",
    "Using `numpy`, we can quickly read 1-dimensional or 2-dimensional data from text files into ndarray objects. This is very similar to using `read.csv`, `read.delim`, or `read.table` in `R` for those of you with `R` experience.\n",
    "\n",
    "Lets start by reading a .csv text file into a 2-d array object. We will use a simple file with lat and long for 15 stands of *Pinus muricata* from the coast of California that resides in the same directory as this notebook.\n",
    "\n",
    "`np.loadtxt` is used to read delimited text that does not have missing values. To control for missing values, `np.genfromtxt` can be used to load data from a text file, with missing values handled as defined. `np.loadtxt` works the same as `np.genfromtxt` when there is no missing data."
   ]
  },
  {
   "cell_type": "code",
   "execution_count": 16,
   "metadata": {},
   "outputs": [
    {
     "name": "stdout",
     "output_type": "stream",
     "text": [
      "[[  34.003334   -119.614283  ]\n",
      " [  34.013676   -119.797136  ]\n",
      " [  35.244959   -120.879209  ]\n",
      " [  36.5935446  -121.9257046 ]\n",
      " [  38.519014   -123.246679  ]\n",
      " [  34.003334   -119.614283  ]\n",
      " [  39.19511111 -123.765     ]\n",
      " [  38.87558333 -123.6632778 ]\n",
      " [  34.024463   -119.692431  ]\n",
      " [  41.139904   -124.153496  ]\n",
      " [  38.062777   -122.848611  ]\n",
      " [  34.013676   -119.797136  ]\n",
      " [  38.576889   -123.33385   ]\n",
      " [  38.72941    -123.472548  ]]\n"
     ]
    }
   ],
   "source": [
    "x2d = np.loadtxt(\"muricata_pops_lat_long.csv\", delimiter=\",\")\n",
    "print(x2d)"
   ]
  },
  {
   "cell_type": "code",
   "execution_count": 17,
   "metadata": {},
   "outputs": [
    {
     "name": "stdout",
     "output_type": "stream",
     "text": [
      "Latitude is:  34.003334\n",
      "Latitude is:  34.013676\n",
      "Latitude is:  35.244959\n",
      "Latitude is:  36.5935446\n",
      "Latitude is:  38.519014\n",
      "Latitude is:  34.003334\n",
      "Latitude is:  39.19511111\n",
      "Latitude is:  38.87558333\n",
      "Latitude is:  34.024463\n",
      "Latitude is:  41.139904\n",
      "Latitude is:  38.062777\n",
      "Latitude is:  34.013676\n",
      "Latitude is:  38.576889\n",
      "Latitude is:  38.72941\n"
     ]
    }
   ],
   "source": [
    "for i in x2d[0:,0]:\n",
    "    print(\"Latitude is: \", i)"
   ]
  },
  {
   "cell_type": "markdown",
   "metadata": {},
   "source": [
    "### Writing ndarray to file:"
   ]
  },
  {
   "cell_type": "code",
   "execution_count": 18,
   "metadata": {},
   "outputs": [
    {
     "name": "stdout",
     "output_type": "stream",
     "text": [
      "[34.003334   34.013676   35.244959   36.5935446  38.519014   34.003334\n",
      " 39.19511111 38.87558333 34.024463   41.139904   38.062777   34.013676\n",
      " 38.576889   38.72941   ]\n"
     ]
    }
   ],
   "source": [
    "x = x2d[0:,0] # making 1-d array from twodarray, this will contain just latitudes\n",
    "print(x)\n",
    "np.savetxt(\"np_savetxt_test.txt\", x)"
   ]
  },
  {
   "cell_type": "code",
   "execution_count": 5,
   "metadata": {},
   "outputs": [
    {
     "name": "stdout",
     "output_type": "stream",
     "text": [
      "Bloom_etal_2018_Reduced_Dataset.csv     python12_numpy_pandas.pptx\r\n",
      "assignment_6_python.ipynb               pythonModules.pptx\r\n",
      "logfiles.tgz                            state_plot04-01.png\r\n",
      "muricata_pops_lat_long.csv              states_covid.csv\r\n",
      "np_savetxt_test.txt                     ~$python12_pandas.pptx\r\n",
      "primer_python7_numpy_pandas_partI.ipynb ~$pythonModules.pptx\r\n"
     ]
    }
   ],
   "source": [
    "#from command line, to verify that file was created\n",
    "!ls"
   ]
  },
  {
   "cell_type": "markdown",
   "metadata": {},
   "source": [
    "# Getting started with pandas "
   ]
  },
  {
   "cell_type": "markdown",
   "metadata": {},
   "source": [
    "### side note on linux commands: \n",
    "\n",
    "`jupyter` notebooks can run linux commands as in the terminal, with some adjustments for certain commands. `!` at the start of a code block will allow many unix commands, `%` will allow others, and other adjustments are illustrated below\n",
    "\n",
    "For the work below, make sure this jupyter notebook is saved in the same directory as the **states_covid.csv** file that you can find in the same github directory. You need your path to be correct to load files.\n",
    "\n",
    "Below code is setting a working directory. This is only necessary if notebook is in different directory from where you want to read from or write to\n"
   ]
  },
  {
   "cell_type": "code",
   "execution_count": 20,
   "metadata": {},
   "outputs": [],
   "source": [
    "### Change to pandas working directory. This is only necessary if notebook is in different directory from where you want to read from or write to\n",
    "pandas_dir = '/Users/thomasparchman/Desktop/files/courses/data_scienceI/python_work/week12_python7_pandas'"
   ]
  },
  {
   "cell_type": "code",
   "execution_count": 21,
   "metadata": {
    "scrolled": true
   },
   "outputs": [
    {
     "name": "stdout",
     "output_type": "stream",
     "text": [
      "/Users/thomasparchman/Dropbox/Mac/Desktop/files/courses/data_scienceI/python_work/week12_python7_pandas\n"
     ]
    }
   ],
   "source": [
    "cd $pandas_dir"
   ]
  },
  {
   "cell_type": "markdown",
   "metadata": {},
   "source": [
    "Code below illustrates use of some linux commands from within `jupyter`"
   ]
  },
  {
   "cell_type": "code",
   "execution_count": 39,
   "metadata": {},
   "outputs": [
    {
     "name": "stdout",
     "output_type": "stream",
     "text": [
      "Bloom_etal_2018_Reduced_Dataset.csv pythonModules.pptx\r\n",
      "assignment_6_python.ipynb           state_plot04-01.png\r\n",
      "logfiles.tgz                        states_covid.csv\r\n",
      "\u001b[1m\u001b[36mnew_dir\u001b[m\u001b[m                             ~$python12_pandas.pptx\r\n",
      "primer_python6_pandas.ipynb         ~$pythonModules.pptx\r\n",
      "python12_pandas.pptx\r\n"
     ]
    }
   ],
   "source": [
    "!mkdir new_dir\n",
    "!ls"
   ]
  },
  {
   "cell_type": "code",
   "execution_count": 40,
   "metadata": {},
   "outputs": [
    {
     "name": "stdout",
     "output_type": "stream",
     "text": [
      "Bloom_etal_2018_Reduced_Dataset.csv pythonModules.pptx\r\n",
      "assignment_6_python.ipynb           state_plot04-01.png\r\n",
      "logfiles.tgz                        states_covid.csv\r\n",
      "primer_python6_pandas.ipynb         ~$python12_pandas.pptx\r\n",
      "python12_pandas.pptx                ~$pythonModules.pptx\r\n"
     ]
    }
   ],
   "source": [
    "!rmdir new_dir\n",
    "!ls"
   ]
  },
  {
   "cell_type": "markdown",
   "metadata": {},
   "source": [
    "### Covid data for the demo contained below\n",
    "\n",
    "Data downloaded from: https://github.com/COVID19Tracking/covid-tracking-data   \n",
    "(data stopped updating March, 2021) "
   ]
  },
  {
   "cell_type": "markdown",
   "metadata": {},
   "source": [
    "### Uses of numpy and pandas with a simple data science example \n",
    "\n",
    "Scraping covid data, summarizing by state, plotting\n",
    "\n",
    "![covid_fig_04-1](state_plot04-01.png)"
   ]
  },
  {
   "cell_type": "markdown",
   "metadata": {},
   "source": [
    "### Read and write files (using DataFrame) \n",
    "\n",
    "Make sure you have **states_covid.csv** in your pandas directory from above.   \n"
   ]
  },
  {
   "cell_type": "code",
   "execution_count": 41,
   "metadata": {},
   "outputs": [
    {
     "data": {
      "text/html": [
       "<div>\n",
       "<style scoped>\n",
       "    .dataframe tbody tr th:only-of-type {\n",
       "        vertical-align: middle;\n",
       "    }\n",
       "\n",
       "    .dataframe tbody tr th {\n",
       "        vertical-align: top;\n",
       "    }\n",
       "\n",
       "    .dataframe thead th {\n",
       "        text-align: right;\n",
       "    }\n",
       "</style>\n",
       "<table border=\"1\" class=\"dataframe\">\n",
       "  <thead>\n",
       "    <tr style=\"text-align: right;\">\n",
       "      <th></th>\n",
       "      <th>date</th>\n",
       "      <th>state</th>\n",
       "      <th>death</th>\n",
       "      <th>deathConfirmed</th>\n",
       "      <th>deathIncrease</th>\n",
       "      <th>deathProbable</th>\n",
       "      <th>hospitalized</th>\n",
       "      <th>hospitalizedCumulative</th>\n",
       "      <th>hospitalizedCurrently</th>\n",
       "      <th>hospitalizedIncrease</th>\n",
       "      <th>...</th>\n",
       "      <th>totalTestResults</th>\n",
       "      <th>totalTestResultsIncrease</th>\n",
       "      <th>totalTestsAntibody</th>\n",
       "      <th>totalTestsAntigen</th>\n",
       "      <th>totalTestsPeopleAntibody</th>\n",
       "      <th>totalTestsPeopleAntigen</th>\n",
       "      <th>totalTestsPeopleViral</th>\n",
       "      <th>totalTestsPeopleViralIncrease</th>\n",
       "      <th>totalTestsViral</th>\n",
       "      <th>totalTestsViralIncrease</th>\n",
       "    </tr>\n",
       "  </thead>\n",
       "  <tbody>\n",
       "    <tr>\n",
       "      <th>0</th>\n",
       "      <td>2021-02-23</td>\n",
       "      <td>AK</td>\n",
       "      <td>290.0</td>\n",
       "      <td>NaN</td>\n",
       "      <td>0</td>\n",
       "      <td>NaN</td>\n",
       "      <td>1260.0</td>\n",
       "      <td>1260.0</td>\n",
       "      <td>38.0</td>\n",
       "      <td>9</td>\n",
       "      <td>...</td>\n",
       "      <td>1653425.0</td>\n",
       "      <td>4640</td>\n",
       "      <td>NaN</td>\n",
       "      <td>NaN</td>\n",
       "      <td>NaN</td>\n",
       "      <td>NaN</td>\n",
       "      <td>NaN</td>\n",
       "      <td>0</td>\n",
       "      <td>1653425.0</td>\n",
       "      <td>4640</td>\n",
       "    </tr>\n",
       "    <tr>\n",
       "      <th>1</th>\n",
       "      <td>2021-02-23</td>\n",
       "      <td>AL</td>\n",
       "      <td>9660.0</td>\n",
       "      <td>7575.0</td>\n",
       "      <td>68</td>\n",
       "      <td>2085.0</td>\n",
       "      <td>45250.0</td>\n",
       "      <td>45250.0</td>\n",
       "      <td>762.0</td>\n",
       "      <td>122</td>\n",
       "      <td>...</td>\n",
       "      <td>2265086.0</td>\n",
       "      <td>4825</td>\n",
       "      <td>NaN</td>\n",
       "      <td>NaN</td>\n",
       "      <td>115256.0</td>\n",
       "      <td>NaN</td>\n",
       "      <td>2265086.0</td>\n",
       "      <td>4825</td>\n",
       "      <td>NaN</td>\n",
       "      <td>0</td>\n",
       "    </tr>\n",
       "    <tr>\n",
       "      <th>2</th>\n",
       "      <td>2021-02-23</td>\n",
       "      <td>AR</td>\n",
       "      <td>5377.0</td>\n",
       "      <td>4321.0</td>\n",
       "      <td>14</td>\n",
       "      <td>1056.0</td>\n",
       "      <td>14617.0</td>\n",
       "      <td>14617.0</td>\n",
       "      <td>545.0</td>\n",
       "      <td>47</td>\n",
       "      <td>...</td>\n",
       "      <td>2609837.0</td>\n",
       "      <td>4779</td>\n",
       "      <td>NaN</td>\n",
       "      <td>NaN</td>\n",
       "      <td>NaN</td>\n",
       "      <td>436309.0</td>\n",
       "      <td>NaN</td>\n",
       "      <td>0</td>\n",
       "      <td>2609837.0</td>\n",
       "      <td>4779</td>\n",
       "    </tr>\n",
       "    <tr>\n",
       "      <th>3</th>\n",
       "      <td>2021-02-23</td>\n",
       "      <td>AS</td>\n",
       "      <td>0.0</td>\n",
       "      <td>NaN</td>\n",
       "      <td>0</td>\n",
       "      <td>NaN</td>\n",
       "      <td>NaN</td>\n",
       "      <td>NaN</td>\n",
       "      <td>NaN</td>\n",
       "      <td>0</td>\n",
       "      <td>...</td>\n",
       "      <td>2140.0</td>\n",
       "      <td>0</td>\n",
       "      <td>NaN</td>\n",
       "      <td>NaN</td>\n",
       "      <td>NaN</td>\n",
       "      <td>NaN</td>\n",
       "      <td>NaN</td>\n",
       "      <td>0</td>\n",
       "      <td>2140.0</td>\n",
       "      <td>0</td>\n",
       "    </tr>\n",
       "    <tr>\n",
       "      <th>4</th>\n",
       "      <td>2021-02-23</td>\n",
       "      <td>AZ</td>\n",
       "      <td>15650.0</td>\n",
       "      <td>13821.0</td>\n",
       "      <td>148</td>\n",
       "      <td>1829.0</td>\n",
       "      <td>57072.0</td>\n",
       "      <td>57072.0</td>\n",
       "      <td>1515.0</td>\n",
       "      <td>78</td>\n",
       "      <td>...</td>\n",
       "      <td>7478323.0</td>\n",
       "      <td>19439</td>\n",
       "      <td>435091.0</td>\n",
       "      <td>NaN</td>\n",
       "      <td>NaN</td>\n",
       "      <td>NaN</td>\n",
       "      <td>3709365.0</td>\n",
       "      <td>6212</td>\n",
       "      <td>7478323.0</td>\n",
       "      <td>19439</td>\n",
       "    </tr>\n",
       "  </tbody>\n",
       "</table>\n",
       "<p>5 rows × 41 columns</p>\n",
       "</div>"
      ],
      "text/plain": [
       "         date state    death  deathConfirmed  deathIncrease  deathProbable  \\\n",
       "0  2021-02-23    AK    290.0             NaN              0            NaN   \n",
       "1  2021-02-23    AL   9660.0          7575.0             68         2085.0   \n",
       "2  2021-02-23    AR   5377.0          4321.0             14         1056.0   \n",
       "3  2021-02-23    AS      0.0             NaN              0            NaN   \n",
       "4  2021-02-23    AZ  15650.0         13821.0            148         1829.0   \n",
       "\n",
       "   hospitalized  hospitalizedCumulative  hospitalizedCurrently  \\\n",
       "0        1260.0                  1260.0                   38.0   \n",
       "1       45250.0                 45250.0                  762.0   \n",
       "2       14617.0                 14617.0                  545.0   \n",
       "3           NaN                     NaN                    NaN   \n",
       "4       57072.0                 57072.0                 1515.0   \n",
       "\n",
       "   hospitalizedIncrease  ...  totalTestResults  totalTestResultsIncrease  \\\n",
       "0                     9  ...         1653425.0                      4640   \n",
       "1                   122  ...         2265086.0                      4825   \n",
       "2                    47  ...         2609837.0                      4779   \n",
       "3                     0  ...            2140.0                         0   \n",
       "4                    78  ...         7478323.0                     19439   \n",
       "\n",
       "   totalTestsAntibody  totalTestsAntigen  totalTestsPeopleAntibody  \\\n",
       "0                 NaN                NaN                       NaN   \n",
       "1                 NaN                NaN                  115256.0   \n",
       "2                 NaN                NaN                       NaN   \n",
       "3                 NaN                NaN                       NaN   \n",
       "4            435091.0                NaN                       NaN   \n",
       "\n",
       "   totalTestsPeopleAntigen  totalTestsPeopleViral  \\\n",
       "0                      NaN                    NaN   \n",
       "1                      NaN              2265086.0   \n",
       "2                 436309.0                    NaN   \n",
       "3                      NaN                    NaN   \n",
       "4                      NaN              3709365.0   \n",
       "\n",
       "   totalTestsPeopleViralIncrease  totalTestsViral  totalTestsViralIncrease  \n",
       "0                              0        1653425.0                     4640  \n",
       "1                           4825              NaN                        0  \n",
       "2                              0        2609837.0                     4779  \n",
       "3                              0           2140.0                        0  \n",
       "4                           6212        7478323.0                    19439  \n",
       "\n",
       "[5 rows x 41 columns]"
      ]
     },
     "execution_count": 41,
     "metadata": {},
     "output_type": "execute_result"
    }
   ],
   "source": [
    "import pandas as pd\n",
    "\n",
    "state_covid_df = pd.read_csv('states_covid.csv') #read in csv\n",
    "state_covid_df.head() #views the top 5 lines"
   ]
  },
  {
   "cell_type": "code",
   "execution_count": 52,
   "metadata": {},
   "outputs": [
    {
     "data": {
      "text/plain": [
       "0          290.0\n",
       "1         9660.0\n",
       "2         5377.0\n",
       "3            0.0\n",
       "4        15650.0\n",
       "          ...   \n",
       "20103        NaN\n",
       "20104        NaN\n",
       "20105        NaN\n",
       "20106        NaN\n",
       "20107        NaN\n",
       "Name: death, Length: 20108, dtype: float64"
      ]
     },
     "execution_count": 52,
     "metadata": {},
     "output_type": "execute_result"
    }
   ],
   "source": [
    "state_covid_df['death']"
   ]
  },
  {
   "cell_type": "code",
   "execution_count": 53,
   "metadata": {},
   "outputs": [
    {
     "data": {
      "text/plain": [
       "(20108, 41)"
      ]
     },
     "execution_count": 53,
     "metadata": {},
     "output_type": "execute_result"
    }
   ],
   "source": [
    "state_covid_df.shape #row, column length"
   ]
  },
  {
   "cell_type": "code",
   "execution_count": 54,
   "metadata": {},
   "outputs": [
    {
     "data": {
      "text/plain": [
       "Index(['date', 'state', 'death', 'deathConfirmed', 'deathIncrease',\n",
       "       'deathProbable', 'hospitalized', 'hospitalizedCumulative',\n",
       "       'hospitalizedCurrently', 'hospitalizedIncrease', 'inIcuCumulative',\n",
       "       'inIcuCurrently', 'negative', 'negativeIncrease',\n",
       "       'negativeTestsAntibody', 'negativeTestsPeopleAntibody',\n",
       "       'negativeTestsViral', 'onVentilatorCumulative', 'onVentilatorCurrently',\n",
       "       'positive', 'positiveCasesViral', 'positiveIncrease', 'positiveScore',\n",
       "       'positiveTestsAntibody', 'positiveTestsAntigen',\n",
       "       'positiveTestsPeopleAntibody', 'positiveTestsPeopleAntigen',\n",
       "       'positiveTestsViral', 'recovered', 'totalTestEncountersViral',\n",
       "       'totalTestEncountersViralIncrease', 'totalTestResults',\n",
       "       'totalTestResultsIncrease', 'totalTestsAntibody', 'totalTestsAntigen',\n",
       "       'totalTestsPeopleAntibody', 'totalTestsPeopleAntigen',\n",
       "       'totalTestsPeopleViral', 'totalTestsPeopleViralIncrease',\n",
       "       'totalTestsViral', 'totalTestsViralIncrease'],\n",
       "      dtype='object')"
      ]
     },
     "execution_count": 54,
     "metadata": {},
     "output_type": "execute_result"
    }
   ],
   "source": [
    "state_covid_df.columns #views the column names"
   ]
  },
  {
   "cell_type": "markdown",
   "metadata": {},
   "source": [
    "While the above example is very straight forward with a clean csv file, **pd.read_csv()** is a very powerful tool for reading/parsing complicated data. For more information of all the commands it has, visit here: https://pandas.pydata.org/pandas-docs/stable/reference/api/pandas.read_csv.html. Otherwise, google is your best friend. Any issue you have, someone has figured it out already. \n",
    "\n",
    "One common issue with all data formats are *Dates*. Pandas has a way to read dates in without much headache and nice features for doing things with dates. You can also only select various columns, rename headers, remove headers, change what characters you want to be recognized as NAs, etc.\n",
    "\n",
    "Below is an example of some of the things you can do. "
   ]
  },
  {
   "cell_type": "code",
   "execution_count": 58,
   "metadata": {},
   "outputs": [
    {
     "data": {
      "text/html": [
       "<div>\n",
       "<style scoped>\n",
       "    .dataframe tbody tr th:only-of-type {\n",
       "        vertical-align: middle;\n",
       "    }\n",
       "\n",
       "    .dataframe tbody tr th {\n",
       "        vertical-align: top;\n",
       "    }\n",
       "\n",
       "    .dataframe thead th {\n",
       "        text-align: right;\n",
       "    }\n",
       "</style>\n",
       "<table border=\"1\" class=\"dataframe\">\n",
       "  <thead>\n",
       "    <tr style=\"text-align: right;\">\n",
       "      <th></th>\n",
       "      <th>date</th>\n",
       "      <th>state</th>\n",
       "      <th>death</th>\n",
       "      <th>negative</th>\n",
       "      <th>positive</th>\n",
       "      <th>totalTestResults</th>\n",
       "    </tr>\n",
       "  </thead>\n",
       "  <tbody>\n",
       "    <tr>\n",
       "      <th>0</th>\n",
       "      <td>2021-02-23</td>\n",
       "      <td>AK</td>\n",
       "      <td>290.0</td>\n",
       "      <td>NaN</td>\n",
       "      <td>55560.0</td>\n",
       "      <td>1653425.0</td>\n",
       "    </tr>\n",
       "    <tr>\n",
       "      <th>1</th>\n",
       "      <td>2021-02-23</td>\n",
       "      <td>AL</td>\n",
       "      <td>9660.0</td>\n",
       "      <td>1882180.0</td>\n",
       "      <td>488973.0</td>\n",
       "      <td>2265086.0</td>\n",
       "    </tr>\n",
       "    <tr>\n",
       "      <th>2</th>\n",
       "      <td>2021-02-23</td>\n",
       "      <td>AR</td>\n",
       "      <td>5377.0</td>\n",
       "      <td>2359571.0</td>\n",
       "      <td>316593.0</td>\n",
       "      <td>2609837.0</td>\n",
       "    </tr>\n",
       "    <tr>\n",
       "      <th>3</th>\n",
       "      <td>2021-02-23</td>\n",
       "      <td>AS</td>\n",
       "      <td>0.0</td>\n",
       "      <td>2140.0</td>\n",
       "      <td>0.0</td>\n",
       "      <td>2140.0</td>\n",
       "    </tr>\n",
       "    <tr>\n",
       "      <th>4</th>\n",
       "      <td>2021-02-23</td>\n",
       "      <td>AZ</td>\n",
       "      <td>15650.0</td>\n",
       "      <td>2953210.0</td>\n",
       "      <td>810658.0</td>\n",
       "      <td>7478323.0</td>\n",
       "    </tr>\n",
       "  </tbody>\n",
       "</table>\n",
       "</div>"
      ],
      "text/plain": [
       "        date state    death   negative  positive  totalTestResults\n",
       "0 2021-02-23    AK    290.0        NaN   55560.0         1653425.0\n",
       "1 2021-02-23    AL   9660.0  1882180.0  488973.0         2265086.0\n",
       "2 2021-02-23    AR   5377.0  2359571.0  316593.0         2609837.0\n",
       "3 2021-02-23    AS      0.0     2140.0       0.0            2140.0\n",
       "4 2021-02-23    AZ  15650.0  2953210.0  810658.0         7478323.0"
      ]
     },
     "execution_count": 58,
     "metadata": {},
     "output_type": "execute_result"
    }
   ],
   "source": [
    "state_covid_sub_df = pd.read_csv('states_covid.csv',\n",
    "                                 usecols=['date','state','death','positive','negative','totalTestResults'],\n",
    "                                 parse_dates=['date'],\n",
    "                                 infer_datetime_format=True)\n",
    "state_covid_sub_df.head()"
   ]
  },
  {
   "cell_type": "markdown",
   "metadata": {},
   "source": [
    "#### check and make sure dtypes are right (dates specifically)"
   ]
  },
  {
   "cell_type": "code",
   "execution_count": 59,
   "metadata": {},
   "outputs": [
    {
     "data": {
      "text/plain": [
       "date                datetime64[ns]\n",
       "state                       object\n",
       "death                      float64\n",
       "negative                   float64\n",
       "positive                   float64\n",
       "totalTestResults           float64\n",
       "dtype: object"
      ]
     },
     "execution_count": 59,
     "metadata": {},
     "output_type": "execute_result"
    }
   ],
   "source": [
    "state_covid_sub_df.dtypes"
   ]
  },
  {
   "cell_type": "markdown",
   "metadata": {},
   "source": [
    "### Write DataFrame to outfile \n",
    "(https://pandas.pydata.org/pandas-docs/stable/reference/api/pandas.DataFrame.to_csv.html)\n",
    "\n",
    "**note:** make sure you provide the path or are in the working directory you want"
   ]
  },
  {
   "cell_type": "code",
   "execution_count": 60,
   "metadata": {},
   "outputs": [],
   "source": [
    "outfile_path = pandas_dir + 'state_covid_sub.csv'\n",
    "#print(outfile_path)\n",
    "#outfile_path = os.path.join(pandas_dir,'state_covid_sub.csv')\n",
    "state_covid_sub_df.to_csv(path_or_buf=outfile_path,index=False)"
   ]
  },
  {
   "cell_type": "code",
   "execution_count": 61,
   "metadata": {},
   "outputs": [
    {
     "name": "stdout",
     "output_type": "stream",
     "text": [
      "Bloom_etal_2018_Reduced_Dataset.csv pythonModules.pptx\r\n",
      "assignment_6_python.ipynb           state_covid_sub.csv\r\n",
      "logfiles.tgz                        state_plot04-01.png\r\n",
      "primer_python6_pandas.ipynb         states_covid.csv\r\n"
     ]
    }
   ],
   "source": [
    "!ls"
   ]
  },
  {
   "cell_type": "code",
   "execution_count": 63,
   "metadata": {},
   "outputs": [
    {
     "name": "stdout",
     "output_type": "stream",
     "text": [
      "./state_covid_sub.csv\r\n",
      "./Bloom_etal_2018_Reduced_Dataset.csv\r\n",
      "./states_covid.csv\r\n"
     ]
    }
   ],
   "source": [
    "!find . -name '*csv'"
   ]
  }
 ],
 "metadata": {
  "kernelspec": {
   "display_name": "Python 3 (ipykernel)",
   "language": "python",
   "name": "python3"
  },
  "language_info": {
   "codemirror_mode": {
    "name": "ipython",
    "version": 3
   },
   "file_extension": ".py",
   "mimetype": "text/x-python",
   "name": "python",
   "nbconvert_exporter": "python",
   "pygments_lexer": "ipython3",
   "version": "3.11.5"
  }
 },
 "nbformat": 4,
 "nbformat_minor": 4
}
