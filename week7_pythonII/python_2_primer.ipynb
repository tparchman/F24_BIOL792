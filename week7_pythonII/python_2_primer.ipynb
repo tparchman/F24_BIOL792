{
 "cells": [
  {
   "cell_type": "markdown",
   "id": "880d2c32",
   "metadata": {},
   "source": [
    "# Python primer II, Data Science I \n",
    "\n",
    "## Topics to cover\n",
    "- lists\n",
    "- `if`, `else`, and `elif`\n",
    "- `for` loops\n",
    "- Haddock and Dunn chapter 9\n",
    "- updated document that has corrections for python3 where necessary (PythonLesson2_Chapter9.pdf)\n",
    "<p>&nbsp;</p>\n",
    "\n",
    "# 1. Lists\n",
    "Lists store vectors of information, and you will commonly use them. They are convenient because they can be used with loops to execute the same blocks of code on each element.\n",
    "\n",
    "Hardcoding lists within your python code is good for learning, although once you start working with real data you will learn to build lists quickly on the fly. To build lists, we enclose the set in brackets. The contents of a list can be a mixture of data types, although you will usually work with lists of only one type (strings, integers, floats)."
   ]
  },
  {
   "cell_type": "code",
   "execution_count": 3,
   "id": "6712468a",
   "metadata": {},
   "outputs": [
    {
     "name": "stdout",
     "output_type": "stream",
     "text": [
      "['Jim', 'Bob', 'Amy', 'Beth'] [9, 28, 18, 83, 85]\n"
     ]
    }
   ],
   "source": [
    "NameList = ['Jim', 'Bob', 'Amy', 'Beth']    # list of strings\n",
    "NumList = [9, 28, 18, 83, 85]   # list of integers\n",
    "BothList =['Jim', 'Bob', 'Amy', '3', '5', '7']\n",
    "print(NameList, NumList)"
   ]
  },
  {
   "cell_type": "markdown",
   "id": "f82127f3",
   "metadata": {},
   "source": [
    "List elements are accessed by their indeces, 0 coming before the first list element. Rather than thinking of each element as matching its index, think of the indeces as representing the boundaries between elements (see page 159 of Haddock and Dunn for additional explanation)."
   ]
  },
  {
   "cell_type": "code",
   "execution_count": 1,
   "id": "2bdae045",
   "metadata": {},
   "outputs": [
    {
     "name": "stdout",
     "output_type": "stream",
     "text": [
      "a\n",
      "c\n"
     ]
    }
   ],
   "source": [
    "List=['a', 'b', 'c', 'd', 'e']\n",
    "print(List[0])  \n",
    "print(List[2])  "
   ]
  },
  {
   "cell_type": "markdown",
   "id": "40614209",
   "metadata": {},
   "source": [
    "List elements can be accessed by specifying elements based on their distance from the beginning or end of the list accessed by their indices. For example -1 is the last list element."
   ]
  },
  {
   "cell_type": "code",
   "execution_count": 4,
   "id": "8e71a4a9",
   "metadata": {},
   "outputs": [
    {
     "name": "stdout",
     "output_type": "stream",
     "text": [
      "e\n",
      "('c', 'd')\n"
     ]
    }
   ],
   "source": [
    "List=('a', 'b', 'c', 'd', 'e')\n",
    "print(List[-1])  \n",
    "print(List[-3:-1])  "
   ]
  },
  {
   "cell_type": "markdown",
   "id": "99433958",
   "metadata": {},
   "source": [
    "Specifying ranges of elements is done using `:`, with indices corresponding to boundaries between elements (see page 159 of Haddock and Dunn for explanation)."
   ]
  },
  {
   "cell_type": "code",
   "execution_count": 5,
   "id": "487811c5",
   "metadata": {},
   "outputs": [
    {
     "name": "stdout",
     "output_type": "stream",
     "text": [
      "('a', 'b', 'c')\n",
      "('b', 'c', 'd', 'e')\n",
      "('a', 'b')\n",
      "('b', 'c', 'd')\n",
      "('c', 'd', 'e')\n"
     ]
    }
   ],
   "source": [
    "print(List[0:3])  \n",
    "print(List[1:])  \n",
    "print(List[:2]) \n",
    "print(List[1:4]) \n",
    "print(List[-3:]) "
   ]
  },
  {
   "cell_type": "markdown",
   "id": "a9d1723e",
   "metadata": {},
   "source": [
    "Note, that information from strings can be similarly extracted. One difference is that you can not modify a portion of a string, but you can modify portions of a list."
   ]
  },
  {
   "cell_type": "code",
   "execution_count": 6,
   "id": "2ef2d9f8",
   "metadata": {},
   "outputs": [
    {
     "name": "stdout",
     "output_type": "stream",
     "text": [
      "Tom\n",
      "Trevor\n"
     ]
    }
   ],
   "source": [
    "Names = \"TomJoshTrevor\"\n",
    "print(Names[0:3]) # prints 'Tom'\n",
    "print(Names[7:]) # prints 'Trevor'"
   ]
  },
  {
   "cell_type": "markdown",
   "id": "f215b983",
   "metadata": {},
   "source": [
    "## Useful functions for working with lists:\n",
    "\n",
    "`list()` translates a string into a list. This is useful because lists are easy to iterate through, e.g., by using `for`"
   ]
  },
  {
   "cell_type": "code",
   "execution_count": 10,
   "id": "f6031299",
   "metadata": {},
   "outputs": [
    {
     "name": "stdout",
     "output_type": "stream",
     "text": [
      "1234533324555434343 \n",
      " ['1', '2', '3', '4', '5', '3', '3', '3', '2', '4', '5', '5', '5', '4', '3', '4', '3', '4', '3']\n"
     ]
    }
   ],
   "source": [
    "NumString=\"1234533324555434343\"\n",
    "NumList=list(NumString)\n",
    "print(NumString,\"\\n\", NumList)"
   ]
  },
  {
   "cell_type": "markdown",
   "id": "89627bdc",
   "metadata": {},
   "source": [
    "`str.split` splits a string by specified delimiters. This is common when you have a line of data (\\t or , delimited) and you want to make that line into a list that can be worked wiht efficiently."
   ]
  },
  {
   "cell_type": "code",
   "execution_count": 12,
   "id": "a3c27f1e",
   "metadata": {},
   "outputs": [],
   "source": [
    "Temp=\"65,76,77,77,65,67,65,45,45,90,91,91\"\n",
    "List_Temp= Temp.split(\",\")"
   ]
  },
  {
   "cell_type": "markdown",
   "id": "00e4cca1",
   "metadata": {},
   "source": [
    "`.join()` \"joins\" elements of a list into a string. Delimiter, if used, is supplied before `.join`"
   ]
  },
  {
   "cell_type": "code",
   "execution_count": 15,
   "id": "9913fd13",
   "metadata": {},
   "outputs": [
    {
     "name": "stdout",
     "output_type": "stream",
     "text": [
      "AGGCTTTATC\n",
      "A,G,G,C,TTT,ATC\n",
      "A,G,G,C\n"
     ]
    }
   ],
   "source": [
    "Bases=['A', 'G', 'G', 'C', 'TTT', 'ATC']\n",
    "BasesString=''.join(Bases) # no delimiter, creates 'AGGCTTTATC'\n",
    "BasesComma=','.join(Bases) # comma delimiter, creates 'A,G,G,C,TTT,ATC'\n",
    "print(BasesString)\n",
    "print(BasesComma)\n",
    "String=','.join(Bases[0:4]) # comma delimiter, sends first 4 elements to variable String\n",
    "print(String)"
   ]
  },
  {
   "cell_type": "markdown",
   "id": "c2a3fa32",
   "metadata": {},
   "source": [
    "Note that strings and lists store information in a similar manner (See Haddock and Dunn pg 164)\n",
    "\n",
    "`range()` generates lists of integers based on starting, ending, and interval values. The simplist use is to make a list of integers with specified start and stop points. Notice that the list will end ONE integer before the stop point."
   ]
  },
  {
   "cell_type": "code",
   "execution_count": 50,
   "id": "5fe82622",
   "metadata": {
    "scrolled": true
   },
   "outputs": [
    {
     "name": "stdout",
     "output_type": "stream",
     "text": [
      "[0, 1, 2, 3, 4, 5, 6, 7, 8]\n"
     ]
    }
   ],
   "source": [
    "IntList = list(range(0,9))   \n",
    "print(IntList) "
   ]
  },
  {
   "cell_type": "markdown",
   "id": "47e7e47d",
   "metadata": {},
   "source": [
    "Another value can be added to specify interval between integers.\n"
   ]
  },
  {
   "cell_type": "code",
   "execution_count": 17,
   "id": "97a0b4cd",
   "metadata": {},
   "outputs": [
    {
     "name": "stdout",
     "output_type": "stream",
     "text": [
      "[0, 2, 4, 6, 8, 10, 12, 14, 16, 18]\n"
     ]
    }
   ],
   "source": [
    "SeqList = list(range(0,20,2))\n",
    "print(SeqList) "
   ]
  },
  {
   "cell_type": "markdown",
   "id": "7e38c04e",
   "metadata": {},
   "source": [
    "`append()` used to add elements to the end of an array"
   ]
  },
  {
   "cell_type": "code",
   "execution_count": 69,
   "id": "46920378",
   "metadata": {},
   "outputs": [
    {
     "name": "stdout",
     "output_type": "stream",
     "text": [
      "['labrador', 'golden', 'flatcoat', 'chesapeake', 'curlycoat']\n"
     ]
    }
   ],
   "source": [
    "Breeds=['labrador', 'golden', 'flatcoat', 'chesapeake']\n",
    "Breeds.append('curlycoat') \n",
    "print(Breeds)"
   ]
  },
  {
   "cell_type": "markdown",
   "id": "25051b8f",
   "metadata": {},
   "source": [
    "`extend()` is used to add elements at the end of the list like append, but `extend()` allows the addition of multiple elements at once."
   ]
  },
  {
   "cell_type": "code",
   "execution_count": 51,
   "id": "198d76e8",
   "metadata": {},
   "outputs": [
    {
     "name": "stdout",
     "output_type": "stream",
     "text": [
      "[1, 2, 3, 4, 5, 6]\n"
     ]
    }
   ],
   "source": [
    "numList = [1,2,3]\n",
    "numList.extend([4, 5, 6]) \n",
    "print(numList)"
   ]
  },
  {
   "cell_type": "markdown",
   "id": "b1acea16",
   "metadata": {},
   "source": [
    "Joining two lists together is very simple, just use `+`"
   ]
  },
  {
   "cell_type": "code",
   "execution_count": 20,
   "id": "46c3a195",
   "metadata": {},
   "outputs": [
    {
     "name": "stdout",
     "output_type": "stream",
     "text": [
      "['a', 'b', 'c', 1, 2, 3]\n"
     ]
    }
   ],
   "source": [
    "List1 = [\"a\", \"b\" , \"c\"]\n",
    "List2 = [1, 2, 3]\n",
    "List3 = List1 + List2\n",
    "print(List3)"
   ]
  },
  {
   "cell_type": "markdown",
   "id": "f5ca8723",
   "metadata": {},
   "source": [
    "`remove()` removes any specified elements from a list"
   ]
  },
  {
   "cell_type": "code",
   "execution_count": 70,
   "id": "1629eca2",
   "metadata": {},
   "outputs": [
    {
     "name": "stdout",
     "output_type": "stream",
     "text": [
      "['golden', 'flatcoat', 'chesapeake', 'curlycoat']\n"
     ]
    }
   ],
   "source": [
    "Breeds.remove('labrador')\n",
    "print(Breeds)\n"
   ]
  },
  {
   "cell_type": "markdown",
   "id": "0bc740f3",
   "metadata": {},
   "source": [
    "`.sort()` can be used to sort the elements of a list. Try it with the code below, note that this function doesn't return anything, but changes the order of the list indeces on the fly. In otherwords, applying the function reverses the order of the original list without needing to create an additional list."
   ]
  },
  {
   "cell_type": "code",
   "execution_count": 57,
   "id": "9a43da6d",
   "metadata": {},
   "outputs": [
    {
     "name": "stdout",
     "output_type": "stream",
     "text": [
      "['chesapeake', 'curlycoat', 'flatcoat', 'golden', 'labrador']\n"
     ]
    }
   ],
   "source": [
    "Breeds.sort()\n",
    "print(Breeds)"
   ]
  },
  {
   "cell_type": "markdown",
   "id": "7dc24293",
   "metadata": {},
   "source": [
    "`.reverse()` reverses a list. **Note, this function doesn't return a value, it just reverses the existing list.**"
   ]
  },
  {
   "cell_type": "code",
   "execution_count": 23,
   "id": "6e184133",
   "metadata": {},
   "outputs": [
    {
     "name": "stdout",
     "output_type": "stream",
     "text": [
      "['T', 'T', 'T', 'G', 'G', 'A']\n"
     ]
    }
   ],
   "source": [
    "Bases=['A', 'G', 'G', 'T', 'T', 'T']\n",
    "Bases.reverse()\n",
    "print(Bases) # ['T', 'T', 'T', 'G', 'G', 'A']"
   ]
  },
  {
   "cell_type": "markdown",
   "id": "1b424ca3",
   "metadata": {},
   "source": [
    "Reversing strings is a bit less straight forward. The text below looks funny, you will learn more about the meaning of the syntax later (this involves 'slicing')"
   ]
  },
  {
   "cell_type": "code",
   "execution_count": 25,
   "id": "957d1a0c",
   "metadata": {},
   "outputs": [
    {
     "name": "stdout",
     "output_type": "stream",
     "text": [
      "GGGGGGCTA\n"
     ]
    }
   ],
   "source": [
    "Seq='ATCGGGGGG'\n",
    "Rev = Seq[::-1]\n",
    "print(Rev)"
   ]
  },
  {
   "cell_type": "markdown",
   "id": "2aa7a2b3",
   "metadata": {},
   "source": [
    "`len()`returns the length of a list\n"
   ]
  },
  {
   "cell_type": "code",
   "execution_count": 52,
   "id": "16e10e71",
   "metadata": {},
   "outputs": [
    {
     "name": "stdout",
     "output_type": "stream",
     "text": [
      "9\n"
     ]
    }
   ],
   "source": [
    "numList = [1,2,3,4,5,6,7,8,9]   \n",
    "print(len(numList))"
   ]
  },
  {
   "cell_type": "markdown",
   "id": "c1ffe095",
   "metadata": {},
   "source": [
    "`min()`returns the minimum value in the list, `max` returns the maximum value in a list. You can use min operation successfully only if the list is homogenous. "
   ]
  },
  {
   "cell_type": "code",
   "execution_count": 53,
   "id": "e194bc82",
   "metadata": {},
   "outputs": [
    {
     "name": "stdout",
     "output_type": "stream",
     "text": [
      "1\n",
      "9\n"
     ]
    }
   ],
   "source": [
    "numList = [1,2,3,4,5,6,7,8,9]   \n",
    "print(min(numList))\n",
    "print(max(numList))"
   ]
  },
  {
   "cell_type": "markdown",
   "id": "6a1e03b4",
   "metadata": {},
   "source": [
    "# 2. Conditional statements: `if`, `else`, `elif`\n",
    "\n",
    "Comparison operators, such as those listed below, will return boolean values in some statements (True or False; 1 or 0). You will find yourself making regular use of these in conditional statements, such as `if`, `else`, and `elif`.\n",
    "<p>&nbsp;</p>\n",
    "\n",
    "| Operators | Meaning |\n",
    "|---------- | ---------- |\n",
    "|==  | Equal To |\n",
    "|>   | Greater Than |\n",
    "|>=  | Greater Than or Equal To |\n",
    "|<   | Less Than |\n",
    "|<=  | Less Than or Equal To |\n",
    "|!=  | Not Equal |\n",
    "<p>&nbsp;</p>\n",
    "\n",
    "Logical operators, as listed below are also useful in conditional statements.\n",
    "\n",
    "| Operator | True if |\n",
    "|---------- | ---------- |\n",
    "|and  | Equal To |\n",
    "|or  | Greater Than |\n",
    "|not  | Greater Than or Equal To |\n",
    "|(not A) or B | Less Than |\n",
    "|not (A or B)| Less Than or Equal To |\n",
    "<p>&nbsp;</p>\n",
    "\n",
    "### `if` is used prior to a condition being stated, and code under `if` must be indented:"
   ]
  },
  {
   "cell_type": "code",
   "execution_count": 26,
   "id": "5f54b2f5",
   "metadata": {},
   "outputs": [
    {
     "name": "stdout",
     "output_type": "stream",
     "text": [
      "4 is greater than 3\n"
     ]
    }
   ],
   "source": [
    "X = 4\n",
    "if (X > 3):\n",
    "    print(\"%d is greater than 3\" % (X))"
   ]
  },
  {
   "cell_type": "markdown",
   "id": "a9926287",
   "metadata": {},
   "source": [
    "### `else` is used following `if` as below"
   ]
  },
  {
   "cell_type": "code",
   "execution_count": 27,
   "id": "00767293",
   "metadata": {},
   "outputs": [
    {
     "name": "stdout",
     "output_type": "stream",
     "text": [
      "4 is greater than or equal to 3\n"
     ]
    }
   ],
   "source": [
    "if (X >= 3):\n",
    "    print(\"%d is greater than or equal to 3\" % (X))\n",
    "else:\n",
    "    print(\"%d is less than 3\" % (X))"
   ]
  },
  {
   "cell_type": "markdown",
   "id": "494392d9",
   "metadata": {},
   "source": [
    "### `elif` is used when multiple conditions follow the initial `if`\n"
   ]
  },
  {
   "cell_type": "code",
   "execution_count": 28,
   "id": "c0ae003f",
   "metadata": {},
   "outputs": [
    {
     "name": "stdout",
     "output_type": "stream",
     "text": [
      "3 equals 3\n"
     ]
    }
   ],
   "source": [
    "Y = 3\n",
    "if (Y > 3):\n",
    "    print(\"%d is greater than 3\" % (Y))\n",
    "elif (Y == 3):\n",
    "    print(\"%d equals 3\" % (Y))\n",
    "else:\n",
    "    print(\"%d is less than 3\" % (Y))"
   ]
  },
  {
   "cell_type": "markdown",
   "id": "43179253",
   "metadata": {},
   "source": [
    "# 3. `for`\n",
    "\n",
    "`for` can be used with lists, and even strings at some points. Unlike the conditional statements above, `for` is used to loop (or iterate) through a data structure, executing the same block of code on each item. Python uses indentation in an **inflexible** manner (other languages often use curly brackets with indentation optional) to set apart code inside `for` loops. A common error in your python code will come from incorrect indentation.\n",
    "\n",
    "### Using `for` to loop through a string:\n",
    "\n",
    "\n",
    " The code below should print each base in the DNA string on its own line of output."
   ]
  },
  {
   "cell_type": "code",
   "execution_count": 29,
   "id": "30427159",
   "metadata": {},
   "outputs": [
    {
     "name": "stdout",
     "output_type": "stream",
     "text": [
      "A\n",
      "T\n",
      "C\n",
      "G\n",
      "G\n",
      "G\n",
      "A\n",
      "A\n",
      "A\n",
      "C\n",
      "C\n"
     ]
    }
   ],
   "source": [
    "DNA = \"ATCGGGAAACC\"\n",
    "for Seq in DNA: \n",
    "    print(Seq)"
   ]
  },
  {
   "cell_type": "markdown",
   "id": "ef5571b1",
   "metadata": {},
   "source": [
    "### You will often use `for` to loop through lists. The syntax is similar to above. Lets make a list of numbers and loop through it."
   ]
  },
  {
   "cell_type": "code",
   "execution_count": 30,
   "id": "fef028b2",
   "metadata": {},
   "outputs": [
    {
     "name": "stdout",
     "output_type": "stream",
     "text": [
      "multiple of 10:  0\n",
      "multiple of 10:  10\n",
      "multiple of 10:  20\n",
      "multiple of 10:  30\n",
      "multiple of 10:  40\n",
      "multiple of 10:  50\n",
      "multiple of 10:  60\n",
      "multiple of 10:  70\n",
      "multiple of 10:  80\n",
      "multiple of 10:  90\n"
     ]
    }
   ],
   "source": [
    "RanList = list(range(0,100))   \n",
    "for Num in RanList:\n",
    "    if Num%10==0:\n",
    "        print (\"multiple of 10: \", Num)"
   ]
  },
  {
   "cell_type": "markdown",
   "id": "47c4d1ac",
   "metadata": {},
   "source": [
    "Notice above we are doing three things. \n",
    "- First, we are making a list of integers from 0 through 100. \n",
    "- We are then looping through that list with `for`. Note that the statement \"for Num in RanList\" uses an already named list. Because you are looping through that list, you need to name each element so that it can be referred to within your loop. You can name it whatever you want, here I used \"Num\". \n",
    "- We then put a conditional statement to print something only if that condition is met.\n",
    "- `%` is the modulo operator. It returns the *remainder* of division. So 10%10 = 0, 20%10 = 0, etc., but 5%3=2 and 10%8=2.\n",
    "\n",
    "# Incrementing with loop iteration (e.g., `ctr += 1`)\n",
    "\n",
    "While looping through data structures, we will often want to use an incrementer or counter, to keep track of how far we have gone, how far we should go, or how many times we have encountered a particular object. The `+=` operator can easily be, and often is, used for this.\n",
    "\n",
    "Here is an example of how to simply increment a counter to keep track of how far you have gone through a list. If you start with zero, you will essentially be tracking correct list indices (because the first list element is 0)"
   ]
  },
  {
   "cell_type": "code",
   "execution_count": 37,
   "id": "0650b4a3",
   "metadata": {},
   "outputs": [
    {
     "name": "stdout",
     "output_type": "stream",
     "text": [
      "List index is : 0\n",
      "List index is : 1\n",
      "List index is : 2\n",
      "List index is : 3\n",
      "List index is : 4\n",
      "List index is : 5\n",
      "List index is : 6\n",
      "List index is : 7\n",
      "List index is : 8\n",
      "List index is : 9\n"
     ]
    }
   ],
   "source": [
    "List=['1','2','3','4','5','6','7','8','9','10']\n",
    "CTR = 0\n",
    "for Num in List:\n",
    "    print(\"List index is :\", CTR)\n",
    "    CTR += 1"
   ]
  },
  {
   "cell_type": "markdown",
   "id": "bb71928a",
   "metadata": {},
   "source": [
    "Below is some more detailed use of incrementers. Here we are incrementing (adding plus one) each time we encounter a specific character. The below code is simply counting the number of bases (A, T, C, and G) in a DNA sequence. Notice here and above that initializing incrementers set to zero before entering a for loop is good control."
   ]
  },
  {
   "cell_type": "code",
   "execution_count": 38,
   "id": "da4c233d",
   "metadata": {},
   "outputs": [
    {
     "name": "stdout",
     "output_type": "stream",
     "text": [
      "There are 9 A bases\n",
      "There are 4 C bases\n",
      "There are 4 G bases\n",
      "There are 4 T bases\n"
     ]
    }
   ],
   "source": [
    "\n",
    "num_a = 0\n",
    "num_c = 0\n",
    "num_g = 0\n",
    "num_t = 0\n",
    "DNA_seq = \"ATCGGGAAACCTTAAGCTAAA\"\n",
    "for base in DNA_seq:\n",
    "    if (base==\"A\"):\n",
    "        num_a += 1\n",
    "    elif (base==\"C\"):\n",
    "        num_c += 1\n",
    "    elif (base==\"G\"):\n",
    "        num_g += 1\n",
    "    else:\n",
    "        num_t += 1\n",
    "print(\"There are %d A bases\" % (num_a))        \n",
    "print(\"There are %d C bases\" % (num_c))        \n",
    "print(\"There are %d G bases\" % (num_g))        \n",
    "print(\"There are %d T bases\" % (num_t))"
   ]
  },
  {
   "cell_type": "markdown",
   "id": "728f339b",
   "metadata": {},
   "source": [
    "\n",
    "An alternative way to print the variables from the print statements above, without using `%`."
   ]
  },
  {
   "cell_type": "code",
   "execution_count": 42,
   "id": "453f30e9",
   "metadata": {},
   "outputs": [
    {
     "name": "stdout",
     "output_type": "stream",
     "text": [
      "Number of A bases is: 9\n",
      "Number of C bases is: 4\n",
      "Number of G bases is: 4\n",
      "Number of T bases is: 4\n"
     ]
    }
   ],
   "source": [
    "print(\"Number of A bases is:\",num_a)\n",
    "print(\"Number of C bases is:\",num_c)\n",
    "print(\"Number of G bases is:\",num_g)\n",
    "print(\"Number of T bases is:\",num_t)"
   ]
  },
  {
   "cell_type": "markdown",
   "id": "a95ea093",
   "metadata": {},
   "source": [
    "# 4. List comprehension\n",
    "\n",
    "It is common to want to execute the same code on each element of a list and to want to return those values to a new list. This can be done longform within a for loop, by performing some calculation or operation on each list element and appending that to a new list as below."
   ]
  },
  {
   "cell_type": "code",
   "execution_count": 43,
   "id": "a5016ea4",
   "metadata": {},
   "outputs": [
    {
     "name": "stdout",
     "output_type": "stream",
     "text": [
      "[0, 10, 20, 30, 40, 50, 60, 70, 80, 90]\n"
     ]
    }
   ],
   "source": [
    "MyList=list(range(0,10))\n",
    "TenfactorList = [] # initializing empty list\n",
    "for num in MyList:\n",
    "    TenfactorList.append(num*10)\n",
    "print(TenfactorList)"
   ]
  },
  {
   "cell_type": "markdown",
   "id": "04300fce",
   "metadata": {},
   "source": [
    "However, list comprehension in python offers a more compact way to do this. As demonstrated below, you can directly operate on each value in a list, sending the results to a new list in a single line of code."
   ]
  },
  {
   "cell_type": "code",
   "execution_count": 44,
   "id": "841a84d9",
   "metadata": {},
   "outputs": [
    {
     "name": "stdout",
     "output_type": "stream",
     "text": [
      "[0, 10, 20, 30, 40, 50, 60, 70, 80, 90]\n"
     ]
    }
   ],
   "source": [
    "MyList=list(range(0,10))\n",
    "TenfactorList = [num*10 for num in MyList] # List comprehension, very nice.\n",
    "print(TenfactorList)"
   ]
  },
  {
   "cell_type": "markdown",
   "id": "e834a6f2",
   "metadata": {},
   "source": [
    "Below are a few additional examples of list comprehension."
   ]
  },
  {
   "cell_type": "code",
   "execution_count": 45,
   "id": "8065425e",
   "metadata": {},
   "outputs": [
    {
     "name": "stdout",
     "output_type": "stream",
     "text": [
      "['golden retriever', 'labrador retriever', 'flatcoat retriever', 'chesapeake retriever', 'goldador retriever']\n"
     ]
    }
   ],
   "source": [
    "Breedshort = ['golden', 'labrador', 'flatcoat', 'chesapeake', 'goldador']\n",
    "Breedlong = [dog + ' retriever' for dog in Breedshort]\n",
    "print(Breedlong)"
   ]
  },
  {
   "cell_type": "markdown",
   "id": "3ad7298e",
   "metadata": {},
   "source": [
    "Converting fahrenheit to celsius:"
   ]
  },
  {
   "cell_type": "code",
   "execution_count": 46,
   "id": "2e75fbfe",
   "metadata": {},
   "outputs": [
    {
     "name": "stdout",
     "output_type": "stream",
     "text": [
      "[16.666666666666668, 12.777777777777779, 22.77777777777778, 25.0, 26.666666666666668, 0.0, -2.7777777777777777]\n"
     ]
    }
   ],
   "source": [
    "Ftemps=[62, 55, 73, 77, 80, 32, 27]\n",
    "Ctemps=[(5/9 * (ft-32)) for ft in Ftemps]\n",
    "print(Ctemps)"
   ]
  },
  {
   "cell_type": "markdown",
   "id": "78b3e55b",
   "metadata": {},
   "source": [
    "Converting quarts to liters:"
   ]
  },
  {
   "cell_type": "code",
   "execution_count": 47,
   "id": "c29f705b",
   "metadata": {},
   "outputs": [],
   "source": [
    "Qvol = [.5, .3, .31, .45, 1.6, 1.5, 1.8]\n",
    "Lvol = [q * .946353 for q in Qvol]"
   ]
  },
  {
   "cell_type": "markdown",
   "id": "0ffcc60a",
   "metadata": {},
   "source": [
    "# 5. Lists vs. tuples\n",
    "\n",
    "Both lists and tuples are used for one dimensional collections of scalars or other data structure. While lists are much more commonly used, tuples may be preferable in some cases.  The most important difference between lists and tuples is that tuples are immutable and can not be modified in terms of indeces or membership. They are designated with slightly different notation, as below."
   ]
  },
  {
   "cell_type": "code",
   "execution_count": 49,
   "id": "d9ddbc9d",
   "metadata": {},
   "outputs": [
    {
     "name": "stdout",
     "output_type": "stream",
     "text": [
      "<class 'list'>\n",
      "<class 'tuple'>\n"
     ]
    }
   ],
   "source": [
    "Ftemps=[62, 55, 73, 77, 80, 32, 27] # list\n",
    "Ftemps_tuple=(62, 55, 73, 77, 80, 32, 27) # tuple, not parentheses\n",
    "print(type(Ftemps))\n",
    "print(type(Ftemps_tuple))"
   ]
  },
  {
   "cell_type": "code",
   "execution_count": null,
   "id": "f8228cd3",
   "metadata": {},
   "outputs": [],
   "source": []
  }
 ],
 "metadata": {
  "kernelspec": {
   "display_name": "Python 3",
   "language": "python",
   "name": "python3"
  },
  "language_info": {
   "codemirror_mode": {
    "name": "ipython",
    "version": 3
   },
   "file_extension": ".py",
   "mimetype": "text/x-python",
   "name": "python",
   "nbconvert_exporter": "python",
   "pygments_lexer": "ipython3",
   "version": "3.8.8"
  }
 },
 "nbformat": 4,
 "nbformat_minor": 5
}
