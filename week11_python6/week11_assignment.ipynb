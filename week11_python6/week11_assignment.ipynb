{
 "cells": [
  {
   "cell_type": "markdown",
   "id": "b1149ae0",
   "metadata": {},
   "source": [
    "# Python assignment 6, Data Science for Biology\n",
    "## Topics to cover\n",
    "- Working with files: Input/Output\n",
    "- Dictionaries\n",
    "- More regular expressions\n",
    "<p>&nbsp;</p>\n",
    "\n",
    "### I. Intro to dictionary assignment. \n",
    "The purpose of this problem is for you to learn and practice how to assign keys and values to a dictionary, to use some dictionary functions to demonstrate that your dictionary is working, and to print out some useful information. We are first going to use the file SG_ref.fasta that is available on the course website. Read in the SG_ref.fasta file from `sys.argv[]` or `glob.glob` and try the following:\n",
    "<p>&nbsp;</p>\n",
    "\n",
    "A. You will want to use a `for` loop to go through your file line by line, but for this problem, you will want to access two lines at a time. This is a fairly common situation (and one we have seen before) and here is a hint of one way to do this:\n",
    "\n",
    "    for Line in IN:\n",
    "        ID = Line\n",
    "        Seq = Line.readline()\n",
    "\n",
    "\n",
    "\t\n",
    "While executing the `for` loop, make one dictionary that has the fasta ids (the line that starts with `>`) as keys, and the sequences themselves as values (Seq as above).  Inside the same loop make a separate dictionary that has the fasta ids as keys and the sequence length as a value (remember that calculating the length of a scalar is easy). Now you should have two dictionaries, and you could do some things with either or both of them.\n",
    "\n",
    "<p>&nbsp;</p>\n"
   ]
  },
  {
   "cell_type": "code",
   "execution_count": 14,
   "id": "04a225d7",
   "metadata": {},
   "outputs": [],
   "source": [
    "import glob\n",
    "import sys\n",
    "import re\n",
    "\n",
    "IN = open(\"SG_ref.fasta\", 'r')\n",
    "OUT = open(\"seqLenout.txt\", 'w')\n",
    "ID_seq={}\n",
    "ID_len={}\n",
    "\n",
    "for line in IN:\n",
    "    ID=line.strip(\"\\n\")\n",
    "    Seq=IN.readline()\n",
    "    Seq=Seq.strip(\"\\n\")\n",
    "    SeqLen=len(Seq)\n",
    "    ID_seq[ID]=Seq\n",
    "    ID_len[ID]=SeqLen\n"
   ]
  },
  {
   "cell_type": "markdown",
   "id": "2783b549",
   "metadata": {},
   "source": [
    "\n",
    "B. Use the `keys` function to put the keys for your dictionaries into their own lists and print those arrays to make sure your dictionaries are set up the way you want them to be set up. \n"
   ]
  },
  {
   "cell_type": "code",
   "execution_count": 8,
   "id": "053d832e",
   "metadata": {},
   "outputs": [],
   "source": [
    "IDSeqlist=ID_seq.keys()\n",
    "IDLenlist=ID_len.keys()\n",
    "IDSeqStr = \",\".join(IDSeqlist)\n",
    "IDLenStr = \",\".join(IDLenlist)\n",
    "#print(IDSeqStr)"
   ]
  },
  {
   "cell_type": "markdown",
   "id": "8fadd15f",
   "metadata": {},
   "source": [
    "C. Use a `for` loop to go through your dictionary and then to print out the fasta Ids and their associated sequence length to an outfile.  This file should have a line for each key-value pair, that is each line should start with a sequence id, which should be followed by the length of the sequence associated with that id."
   ]
  },
  {
   "cell_type": "code",
   "execution_count": 9,
   "id": "f5b27cee",
   "metadata": {},
   "outputs": [],
   "source": [
    "for thing in ID_len.keys():\n",
    "    OUT.write(\"ID: %s, Length: %s \\n\" % (thing, ID_len[thing]))"
   ]
  },
  {
   "cell_type": "markdown",
   "id": "a1b184e1",
   "metadata": {},
   "source": [
    "\n",
    "D. Now use a `for` loop to print out the dictionary in the same way as above, except in this case we want the keys sorted and the dictionary printed in sorted order. What does the difference between these two outputs (C and D) tell you about how dictionaries are organized?"
   ]
  },
  {
   "cell_type": "code",
   "execution_count": 15,
   "id": "036d0882",
   "metadata": {},
   "outputs": [],
   "source": [
    "for thing in sorted(ID_len.keys()):\n",
    "    OUT.write(\"ID: %s, Length: %s \\n\" % (thing, ID_len[thing]))"
   ]
  }
 ],
 "metadata": {
  "kernelspec": {
   "display_name": "Python 3 (ipykernel)",
   "language": "python",
   "name": "python3"
  },
  "language_info": {
   "codemirror_mode": {
    "name": "ipython",
    "version": 3
   },
   "file_extension": ".py",
   "mimetype": "text/x-python",
   "name": "python",
   "nbconvert_exporter": "python",
   "pygments_lexer": "ipython3",
   "version": "3.11.5"
  }
 },
 "nbformat": 4,
 "nbformat_minor": 5
}
