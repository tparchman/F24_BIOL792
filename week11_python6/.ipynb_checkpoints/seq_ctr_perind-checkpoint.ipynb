{
 "cells": [
  {
   "cell_type": "markdown",
   "id": "d7f58688",
   "metadata": {},
   "source": [
    "### II. Bonus task, python dictionary assignment\n",
    "\n",
    "Have a look at the sample_passerina.fastq.gz file we worked with early in the semester. This file has raw DNA sequencing data from an Illumina machine, each sequence with data organized into four lines (an id line, a sequence line, an additional id line, and a quality score line). The ids in this file represent individual birds (*Passerina amoena*), and there are many sequences for each individual bird. See if you can figure out how to use a dictionary to count the number of sequences associated with each individual in this file. This would involve buidling a dictionary where individual IDs (lines that start with \"@\") are assigned as keys and the values represent the number of sequences that are incremented each time the same key is read."
   ]
  },
  {
   "cell_type": "markdown",
   "id": "a1240dc1",
   "metadata": {},
   "source": [
    "Importing necessary libraries, `re` for regular expressions, and `glob` for reading in files in jupyter (note, `glob` is not necessary here because I am hardcoding file name anyway."
   ]
  },
  {
   "cell_type": "code",
   "execution_count": 4,
   "id": "2c81feee",
   "metadata": {},
   "outputs": [],
   "source": [
    "import re\n",
    "import glob"
   ]
  },
  {
   "cell_type": "code",
   "execution_count": 10,
   "id": "ab1fac91",
   "metadata": {},
   "outputs": [
    {
     "name": "stdout",
     "output_type": "stream",
     "text": [
      "['sample_passerina.fastq']\n"
     ]
    }
   ],
   "source": [
    "infile = glob.glob(\"sample_passerina.fastq\")\n",
    "IN = open(infile[0], 'r')\n",
    "print(infile)\n",
    "OUT = open(\"seq_count.txt\", 'w')\n",
    "\n",
    "ID_ctr={}\n"
   ]
  },
  {
   "cell_type": "code",
   "execution_count": null,
   "id": "ff947e10",
   "metadata": {},
   "outputs": [],
   "source": [
    "\n",
    "\n",
    "\n",
    "for Line in IN:\n",
    "\tLine.strip('\\n')\n",
    "\tif re.search(\"^@(\\w+)\", Line):\n",
    "\t\tM=re.search(\"^@(\\w+)\", Line)\n",
    "\t\tID = M.group(1)\n",
    "\t\tif ID_ctr[ID] > 0:\n",
    "\t\t\tID_ctr[ID] = ID_ctr[ID] + 1\n",
    "\t\telse:\n",
    "\t\t\tID_ctr[ID] = 1\n",
    "\t\tprint(ID_ctr[ID])\n"
   ]
  }
 ],
 "metadata": {
  "kernelspec": {
   "display_name": "Python 3",
   "language": "python",
   "name": "python3"
  },
  "language_info": {
   "codemirror_mode": {
    "name": "ipython",
    "version": 3
   },
   "file_extension": ".py",
   "mimetype": "text/x-python",
   "name": "python",
   "nbconvert_exporter": "python",
   "pygments_lexer": "ipython3",
   "version": "3.8.8"
  }
 },
 "nbformat": 4,
 "nbformat_minor": 5
}
