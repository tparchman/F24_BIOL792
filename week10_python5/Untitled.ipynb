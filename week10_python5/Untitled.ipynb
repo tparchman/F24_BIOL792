{
 "cells": [
  {
   "cell_type": "markdown",
   "id": "7389052c",
   "metadata": {},
   "source": [
    "# These are notes on how to use jupyter\n",
    "\n",
    "## subheader\n",
    "\n",
    "### sub subheader\n",
    "\n",
    "#### four levels increasing smaller font\n",
    "\n",
    "Plain text appears like this\n",
    "\n",
    "Bulleted list to explain code below\n",
    "- import libraries\n",
    "- opening filehandles\n",
    "- writing some loops to do stuff\n",
    "\n",
    "**Bold**\n",
    "*italics*\n",
    "`commands`\n"
   ]
  },
  {
   "cell_type": "markdown",
   "id": "7e08b4da",
   "metadata": {},
   "source": [
    "## Importing python modules to be used with this workflow"
   ]
  },
  {
   "cell_type": "code",
   "execution_count": 1,
   "id": "4fbbebb4",
   "metadata": {},
   "outputs": [],
   "source": [
    "import numpy\n",
    "import pandas\n",
    "import re\n",
    "import glob"
   ]
  },
  {
   "cell_type": "markdown",
   "id": "3772ad1a",
   "metadata": {},
   "source": [
    "## opening filehandles to multiple files in directory"
   ]
  },
  {
   "cell_type": "code",
   "execution_count": 3,
   "id": "8cd5901c",
   "metadata": {
    "collapsed": true
   },
   "outputs": [
    {
     "name": "stdout",
     "output_type": "stream",
     "text": [
      "test1.txt.txt\n",
      "test2.txt.txt\n"
     ]
    }
   ],
   "source": [
    "filelist=glob.glob(\"*txt.txt\")\n",
    "for file in filelist:\n",
    "    print(file)"
   ]
  },
  {
   "cell_type": "code",
   "execution_count": null,
   "id": "280fb4ae",
   "metadata": {},
   "outputs": [],
   "source": []
  }
 ],
 "metadata": {
  "kernelspec": {
   "display_name": "Python 3",
   "language": "python",
   "name": "python3"
  },
  "language_info": {
   "codemirror_mode": {
    "name": "ipython",
    "version": 3
   },
   "file_extension": ".py",
   "mimetype": "text/x-python",
   "name": "python",
   "nbconvert_exporter": "python",
   "pygments_lexer": "ipython3",
   "version": "3.8.8"
  }
 },
 "nbformat": 4,
 "nbformat_minor": 5
}
