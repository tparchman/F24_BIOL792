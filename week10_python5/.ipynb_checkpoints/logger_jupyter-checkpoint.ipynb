{
 "cells": [
  {
   "cell_type": "markdown",
   "id": "0bfe0c73",
   "metadata": {},
   "source": [
    "##  Python assignment 5, Data Science for Biology\n",
    "## Topics to cover\n",
    "- Working with files: Input/Output\n",
    "- `for` loops, processing files one line at a time.\n",
    "- Regular expressions\n",
    "- `sys.argv`, `re.search`, `glob`\n",
    "\n",
    "### The project for this week will involve reorganizing many files generated from temperature loggers that Kelly Klingler (former PhD student in Peacock lab) used to collect microclimate data around pika haypiles during 2012-2014. There are 38 temperature loggers that recorded data during 2012-2013 and 37 temperature loggers that recorded data during 2013-2014 (one was lost to water damage). Each of these automatic temperature loggers generates a text file (75 text files in total) with 5 columns of information. You will notice that almost every data logger will have two text files: one for 2012-2013 (denoted as “13”) and one for 2013-2014 (denoted as “14”). In addition, two data loggers were placed at each of 19 haypile locations (H1-H19) therefore each text file should also indicate whether a temperature logger was placed at the surface “S” or at some depth within the talus slope “D”.\n",
    "\n",
    "\n",
    "### To get started working with these files, you can access a `.tgz` directory containing the 75 files from the course webpage. To uncompress this you will need to use the unix command `tar`:\n",
    "\n",
    "    $ tar -zxvf logfiles.tgz\n",
    "\n",
    "Once you have downloaded and extracted the files, have a careful look at their contents. You will notice that they all have the same format, so you can use the same code to extract similar information from each file.\n",
    "\n",
    "### You will need to use `open` inside a loop so that you can read, and work on, each of the 75 files individually. Something like below will work (I realize I am giving you the solution here, but thats ok with me this week. I want folks to feel progress!):\n",
    "\n",
    "    for filename in sys.argv[1:]:\n",
    "        IN = open(filename, 'r')\n",
    "\n",
    "### For this weeks program you are going to read in all files and make a single file that has specified data in an easily accessible format. The data of interest in each individual logger file is arranged in 4 columns (we are going to ignore the first). We want to write the information from those four columns from each .txt file to an outfile that has all of the data we are interested in. For each .txt file that is read in from `sys.argv`, you want to write the data from each column (there are four) to a row in the outfile (which will have 4 rows for each infile). The start of each line should have the name of the infile, but different features of that name need to be comma separated so that the data can eventually be sorted by that information.\n",
    "\n",
    "For example: \n",
    "Infile: 1901302136_H15_D_14.txt.txt\n",
    "\n",
    "The beginning of each line in the outfile that will have data from the infile (after you have used a regular expression to get rid of \"_\" and \".txt.txt\") should look like this:\n",
    "\n",
    "1901302136,H15,D,14, data…………………..\n",
    "\n",
    "The output file should have 4 lines per logger (per infile) and should look as below. The idea here is that this file can easily be read into and worked on in R for the rest of the analyses Kelly needs to do. \n",
    "\n",
    "Example data for 1901302108,H7,D,13:\n",
    "\n",
    "    1901302108,H7,D,13,10/7/2012,10/7/2012,10/7/2012,10/7/2012,\n",
    "    1901302108,H7,D,13,8:00:00,8:35:00,9:10:00,9:45:00,10:20:00\n",
    "    1901302108,H7,D,13,AM,AM,AM,AM,AM,AM,AM,PM,PM,PM,PM,PM,PM,\n",
    "    1901302108,H7,D,13,41.4,41.4,41.4,41.4,41.6,41.7,42.0\n",
    "\n",
    "Example data for 1901302108,H7,D,14:\n",
    "\n",
    "    1901302108,H7,D,14,9/29/2013,9/29/2013,9/29/2013,9/29/2013,\n",
    "    1901302108,H7,D,14,8:00:00,8:35:00,9:10:00,9:45:00,10:20:00,\n",
    "    1901302108,H7,D,14,AM,AM,AM,AM,AM,AM,AM,PM,PM,PM,PM,PM,PM,PM,\n",
    "    1901302108,H7,D,14,32.4,32.5,32.5,32.6,33.0,33.0,32.9\n"
   ]
  },
  {
   "cell_type": "markdown",
   "id": "ba9b0629",
   "metadata": {},
   "source": [
    "### Example code with one way to do this, using `glob` to access files in the working directory"
   ]
  },
  {
   "cell_type": "markdown",
   "id": "210e2554",
   "metadata": {},
   "source": [
    "### importing modules"
   ]
  },
  {
   "cell_type": "code",
   "execution_count": 1,
   "id": "b4eb1617",
   "metadata": {},
   "outputs": [],
   "source": [
    "import glob\n",
    "import re\n",
    "import codecs"
   ]
  },
  {
   "cell_type": "markdown",
   "id": "0eddee13",
   "metadata": {},
   "source": [
    "### Using `glob` to process command line arguments in jupyter notebooks.\n",
    "- Code below will store all filenames in directory ending in `.txt.txt` into `filelist`\n",
    "- for loop below is just printing elements of the list to confirm this is working as expected.\n"
   ]
  },
  {
   "cell_type": "code",
   "execution_count": 2,
   "id": "82659fe8",
   "metadata": {},
   "outputs": [
    {
     "name": "stdout",
     "output_type": "stream",
     "text": [
      "test1.txt.txt\n",
      "test2.txt.txt\n"
     ]
    }
   ],
   "source": [
    "filelist = glob.glob('*.txt.txt')\n",
    "for file in filelist:\n",
    "    print(file)\n",
    "    \n",
    "# with sys.argv\n",
    "# for file in sys.argv[1:]\n",
    "#"
   ]
  },
  {
   "cell_type": "markdown",
   "id": "cd6f9131",
   "metadata": {},
   "source": [
    "### opening one output file handle to write to"
   ]
  },
  {
   "cell_type": "code",
   "execution_count": 3,
   "id": "9fc98e1c",
   "metadata": {},
   "outputs": [],
   "source": [
    "OUT = open(\"outNEW_logger.txt\", 'w')\n"
   ]
  },
  {
   "cell_type": "markdown",
   "id": "468d0306",
   "metadata": {},
   "source": [
    "### Two `for` loops to open filehandles to each file in the directory ending in .txt.txt, and to then go through each file one line at a time.\n",
    "`re.search` is used to match the file names, with parentheses enclosing matches that will be stored as .group variables.\n",
    "\n",
    "four lists are started by adding matches from regex above to each. These lists will then be built each time through the `for` loops below. The only reason I started them here was to get the information from each file as the first four elements of each list.\n",
    "\n",
    "The line with `codecs.open` will create the `IN` file handle\n",
    "\n",
    "`for` loop to go through `IN` one line at a time\n",
    "\n",
    "`.strip` and `.replace` to remove line ending and null `\\0` characters\n",
    "\n",
    "`.append` is used to grow each list (date, time, ampm, and temp)\n",
    "\n",
    "Once last line is processed in each file, the contents of list are written out. Using for loops here is a little clunky, only an alternative to using `\",\".join(list)` to join lists into comma separated values in a string.\n",
    "    "
   ]
  },
  {
   "cell_type": "code",
   "execution_count": 6,
   "id": "0deeabb5",
   "metadata": {
    "collapsed": true
   },
   "outputs": [
    {
     "ename": "AttributeError",
     "evalue": "'NoneType' object has no attribute 'group'",
     "output_type": "error",
     "traceback": [
      "\u001b[0;31m---------------------------------------------------------------------------\u001b[0m",
      "\u001b[0;31mAttributeError\u001b[0m                            Traceback (most recent call last)",
      "\u001b[0;32m<ipython-input-6-428d85b62797>\u001b[0m in \u001b[0;36m<module>\u001b[0;34m\u001b[0m\n\u001b[1;32m      1\u001b[0m \u001b[0;32mfor\u001b[0m \u001b[0mfilename\u001b[0m \u001b[0;32min\u001b[0m \u001b[0mfilelist\u001b[0m\u001b[0;34m:\u001b[0m\u001b[0;34m\u001b[0m\u001b[0;34m\u001b[0m\u001b[0m\n\u001b[1;32m      2\u001b[0m     \u001b[0mfile_match\u001b[0m \u001b[0;34m=\u001b[0m \u001b[0mre\u001b[0m\u001b[0;34m.\u001b[0m\u001b[0msearch\u001b[0m\u001b[0;34m(\u001b[0m\u001b[0;34m\"(\\d+)_(\\w\\d+)_(\\w)_(\\d+).txt.txt\"\u001b[0m\u001b[0;34m,\u001b[0m \u001b[0mfilename\u001b[0m\u001b[0;34m)\u001b[0m\u001b[0;34m\u001b[0m\u001b[0;34m\u001b[0m\u001b[0m\n\u001b[0;32m----> 3\u001b[0;31m     \u001b[0mdate\u001b[0m \u001b[0;34m=\u001b[0m \u001b[0;34m[\u001b[0m\u001b[0mfile_match\u001b[0m\u001b[0;34m.\u001b[0m\u001b[0mgroup\u001b[0m\u001b[0;34m(\u001b[0m\u001b[0;36m1\u001b[0m\u001b[0;34m)\u001b[0m\u001b[0;34m,\u001b[0m \u001b[0mfile_match\u001b[0m\u001b[0;34m.\u001b[0m\u001b[0mgroup\u001b[0m\u001b[0;34m(\u001b[0m\u001b[0;36m2\u001b[0m\u001b[0;34m)\u001b[0m\u001b[0;34m,\u001b[0m \u001b[0mfile_match\u001b[0m\u001b[0;34m.\u001b[0m\u001b[0mgroup\u001b[0m\u001b[0;34m(\u001b[0m\u001b[0;36m3\u001b[0m\u001b[0;34m)\u001b[0m\u001b[0;34m,\u001b[0m \u001b[0mfile_match\u001b[0m\u001b[0;34m.\u001b[0m\u001b[0mgroup\u001b[0m\u001b[0;34m(\u001b[0m\u001b[0;36m4\u001b[0m\u001b[0;34m)\u001b[0m\u001b[0;34m]\u001b[0m\u001b[0;34m\u001b[0m\u001b[0;34m\u001b[0m\u001b[0m\n\u001b[0m\u001b[1;32m      4\u001b[0m     \u001b[0mtime\u001b[0m \u001b[0;34m=\u001b[0m \u001b[0;34m[\u001b[0m\u001b[0mfile_match\u001b[0m\u001b[0;34m.\u001b[0m\u001b[0mgroup\u001b[0m\u001b[0;34m(\u001b[0m\u001b[0;36m1\u001b[0m\u001b[0;34m)\u001b[0m\u001b[0;34m,\u001b[0m \u001b[0mfile_match\u001b[0m\u001b[0;34m.\u001b[0m\u001b[0mgroup\u001b[0m\u001b[0;34m(\u001b[0m\u001b[0;36m2\u001b[0m\u001b[0;34m)\u001b[0m\u001b[0;34m,\u001b[0m \u001b[0mfile_match\u001b[0m\u001b[0;34m.\u001b[0m\u001b[0mgroup\u001b[0m\u001b[0;34m(\u001b[0m\u001b[0;36m3\u001b[0m\u001b[0;34m)\u001b[0m\u001b[0;34m,\u001b[0m \u001b[0mfile_match\u001b[0m\u001b[0;34m.\u001b[0m\u001b[0mgroup\u001b[0m\u001b[0;34m(\u001b[0m\u001b[0;36m4\u001b[0m\u001b[0;34m)\u001b[0m\u001b[0;34m]\u001b[0m\u001b[0;34m\u001b[0m\u001b[0;34m\u001b[0m\u001b[0m\n\u001b[1;32m      5\u001b[0m     \u001b[0mampm\u001b[0m \u001b[0;34m=\u001b[0m \u001b[0;34m[\u001b[0m\u001b[0mfile_match\u001b[0m\u001b[0;34m.\u001b[0m\u001b[0mgroup\u001b[0m\u001b[0;34m(\u001b[0m\u001b[0;36m1\u001b[0m\u001b[0;34m)\u001b[0m\u001b[0;34m,\u001b[0m \u001b[0mfile_match\u001b[0m\u001b[0;34m.\u001b[0m\u001b[0mgroup\u001b[0m\u001b[0;34m(\u001b[0m\u001b[0;36m2\u001b[0m\u001b[0;34m)\u001b[0m\u001b[0;34m,\u001b[0m \u001b[0mfile_match\u001b[0m\u001b[0;34m.\u001b[0m\u001b[0mgroup\u001b[0m\u001b[0;34m(\u001b[0m\u001b[0;36m3\u001b[0m\u001b[0;34m)\u001b[0m\u001b[0;34m,\u001b[0m \u001b[0mfile_match\u001b[0m\u001b[0;34m.\u001b[0m\u001b[0mgroup\u001b[0m\u001b[0;34m(\u001b[0m\u001b[0;36m4\u001b[0m\u001b[0;34m)\u001b[0m\u001b[0;34m]\u001b[0m\u001b[0;34m\u001b[0m\u001b[0;34m\u001b[0m\u001b[0m\n",
      "\u001b[0;31mAttributeError\u001b[0m: 'NoneType' object has no attribute 'group'"
     ]
    }
   ],
   "source": [
    "for filename in filelist:\n",
    "    # another idea newname=filename.replace(\"_\", \",\")\n",
    "    file_match = re.search(\"(\\d+)_(\\w\\d+)_(\\w)_(\\d+).txt.txt\", filename)\n",
    "    date = [file_match.group(1), file_match.group(2), file_match.group(3), file_match.group(4)]\n",
    "    time = [file_match.group(1), file_match.group(2), file_match.group(3), file_match.group(4)]\n",
    "    ampm = [file_match.group(1), file_match.group(2), file_match.group(3), file_match.group(4)]\n",
    "    temp = [file_match.group(1), file_match.group(2), file_match.group(3), file_match.group(4)]\n",
    "    mean_temp = [file_match.group(1), file_match.group(2), file_match.group(3), file_match.group(4)]\n",
    "    \n",
    "    IN = codecs.open(filename, 'r', encoding='utf-8', errors='ignore')\n",
    "    #with codecs.open(filename, 'r', encoding='utf-8', errors='ignore') as IN:\n",
    "    for line in IN:\n",
    "        stripped = line.strip(\"\\n\")\n",
    "        stripped = stripped.replace(\"\\0\",\"\")\n",
    "        if re.match(\"^\\d\", stripped):\n",
    "            split_strip = stripped.split(\"\\t\")\n",
    "            split_strip_time_ampm = split_strip[2].split(\" \")\n",
    "            date.append(split_strip[1])\n",
    "            time.append(split_strip_time_ampm[0])\n",
    "            ampm.append(split_strip_time_ampm[1])\n",
    "            temp.append(split_strip[3])\n",
    "\n",
    "    for thing in date:\n",
    "        OUT.write(thing+\",\")\n",
    "    OUT.write(\"\\n\")\n",
    "    \n",
    "    # another way to do this:\n",
    "    # datelist_as_string=\",\".join(date)\n",
    "    # OUT.write(date+\"\\n\")\n",
    "        \n",
    "    for thing in time:\n",
    "        OUT.write(thing+\",\")\n",
    "    OUT.write(\"\\n\")\n",
    "        \n",
    "    for thing in ampm:\n",
    "        OUT.write(thing+\",\")\n",
    "    OUT.write(\"\\n\")\n",
    "        \n",
    "    for thing in temp:\n",
    "        OUT.write(thing+\",\")\n",
    "    OUT.write(\"\\n\")        \n",
    "        \n",
    "    IN.close()\n",
    "OUT.close()\n"
   ]
  },
  {
   "cell_type": "code",
   "execution_count": null,
   "id": "efb0dd99",
   "metadata": {},
   "outputs": [],
   "source": []
  }
 ],
 "metadata": {
  "kernelspec": {
   "display_name": "Python 3",
   "language": "python",
   "name": "python3"
  },
  "language_info": {
   "codemirror_mode": {
    "name": "ipython",
    "version": 3
   },
   "file_extension": ".py",
   "mimetype": "text/x-python",
   "name": "python",
   "nbconvert_exporter": "python",
   "pygments_lexer": "ipython3",
   "version": "3.8.8"
  }
 },
 "nbformat": 4,
 "nbformat_minor": 5
}
