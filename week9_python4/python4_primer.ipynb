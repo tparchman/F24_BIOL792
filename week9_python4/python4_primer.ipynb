{
 "cells": [
  {
   "cell_type": "markdown",
   "id": "60e030e1",
   "metadata": {},
   "source": [
    "# Python primer IV, Data Science I, Fall 2021. \n",
    "\n",
    "## Topics to cover\n",
    "\n",
    "- working with regular expressions\n",
    "- various `re` functions (`re.search`, `re.finditer`, `re.findall`, `re.sub`, )\n",
    "- counting and storing matches\n",
    "\n",
    "## Useful materials\n",
    "- Haddock and Dunn chapters and 10, bit of 11 \n",
    "- updated document that has corrections for python3 where necessary (PythonLesson2_Chapter9.pdf, PythonLesson3_Chapter10.docx)\n",
    "- regular expression cheat sheet (python-regular-expressions-cheat-sheet-1.pdf)\n",
    "- [regular expression tester](https://regex101.com).\n",
    "- [python for biologists regular expression lesson](https://pythonforbiologists.com/tutorial/regex.html)\n",
    "- [pythonguru regular expression tutorial](https://thepythonguru.com/python-regular-expression/)\n",
    "\n",
    "\n",
    "\n",
    "## Introduction to regular expressions\n",
    "We have already used some Unix (e.g., `grep`, `sed`, `tr`, `awk`) and Python (`str.count()`) tools that allow pattern recognition as a basis for completing some task or file manipulation. However, we were using these tools mostly to search for fixed patterns. While working with biological data, and really any other form of big data, we will encounter many problems that will require the ability to match flexible patterns. \n",
    "\n",
    "Because pattern matching is a common task for working with big data, there is a standard set of tools in Python (and other languages) for dealing with them: regular expressions. Regular expressions are statements in code designed to match text with certain characteristics (ranging from exact matches to extremely fuzzy ones), are extremely useful in biology and across data science in general. This week we will start to learn about how to match specific and increasingly flexible patterns in data, as well as how to track, store, and manipulate the portions of strings that we wish to extract. Moving forward, you are likely to use regular expressions in many if not most of the code you write in Python.\n",
    "\n",
    "We will start working with regular expressions using the `re` module. As hinted previously with `sys`, libraries will play a major role in enabling your python code. We will cover that in more detail in a few weeks. For now, lets cover the basics of matching regular expressions with `re`.\n",
    "\n",
    "To use functionality in the `re` library in your code, you will add a line near the top of your scripts that uses the `import` function. \n"
   ]
  },
  {
   "cell_type": "code",
   "execution_count": 1,
   "id": "343807a3",
   "metadata": {},
   "outputs": [],
   "source": [
    "import re"
   ]
  },
  {
   "cell_type": "markdown",
   "id": "6c170bb5",
   "metadata": {},
   "source": [
    "## `re.search()`\n",
    "\n",
    "In general, `re` requires you to specify a pattern to match, followed by a string to match the pattern in. There are numerous functions built into `re`, but lets start here with `re.search`, which returns an object with information about the match and true/false based on whether the match occurs in the string or not. The general idea is as follows:\n",
    "\n",
    "    re.search(pattern, string)\n",
    "\n",
    "We can search a specified string, using an `if` statement as an example of how to control our code based on the presence or absence of matches:"
   ]
  },
  {
   "cell_type": "code",
   "execution_count": 3,
   "id": "ff23e5e1",
   "metadata": {},
   "outputs": [
    {
     "name": "stdout",
     "output_type": "stream",
     "text": [
      "Stop codon (TAG) found.\n",
      "\n"
     ]
    }
   ],
   "source": [
    "Seq = \"ATCGGGGCCTAGAAT\"\n",
    "if re.search(\"TAG\", Seq):\n",
    "    print(\"Stop codon (TAG) found.\\n\")"
   ]
  },
  {
   "cell_type": "markdown",
   "id": "3b164525",
   "metadata": {},
   "source": [
    "The `^` character can be used to anchor the pattern at the beginning of the string, and the `$` anchors the pattern at the end. Note that `^` used in a character class list (characters enclosed in brackets), such as [^ATCG] means something different (in this case it would any character that is NOT ATCG). We will cover this further below."
   ]
  },
  {
   "cell_type": "code",
   "execution_count": 4,
   "id": "a9313034",
   "metadata": {},
   "outputs": [
    {
     "name": "stdout",
     "output_type": "stream",
     "text": [
      "Seq begins with A.\n",
      "\n",
      "Seq ends with T.\n",
      "\n"
     ]
    }
   ],
   "source": [
    "Seq = \"ATCGGGGCCTAGAAT\"\n",
    "if re.search(\"^A\", Seq):\n",
    "    print(\"Seq begins with A.\\n\")\n",
    "\n",
    "Seq = \"ATCGGGGCCTAGAAT\"\n",
    "if re.search(\"T$\", Seq):\n",
    "    print(\"Seq ends with T.\\n\")"
   ]
  },
  {
   "cell_type": "markdown",
   "id": "99a8416c",
   "metadata": {},
   "source": [
    "We can use **alternation** (pattern A OR pattern B) to increase flexibility of  expressions."
   ]
  },
  {
   "cell_type": "code",
   "execution_count": 5,
   "id": "a94e2e4a",
   "metadata": {},
   "outputs": [
    {
     "name": "stdout",
     "output_type": "stream",
     "text": [
      "Seq has 'CCC' or 'CCT'.\n",
      "\n"
     ]
    }
   ],
   "source": [
    "Seq = \"ATCGGGGCCTAGAAT\"\n",
    "if re.search(\"CC(C|T)\", Seq):\n",
    "    print(\"Seq has 'CCC' or 'CCT'.\\n\")"
   ]
  },
  {
   "cell_type": "markdown",
   "id": "ba270591",
   "metadata": {},
   "source": [
    "`re.search()` also stores matches in an object. If parentheses are used to group matches, the object can have multiple groups."
   ]
  },
  {
   "cell_type": "code",
   "execution_count": 6,
   "id": "bc00eb71",
   "metadata": {},
   "outputs": [
    {
     "data": {
      "text/plain": [
       "<re.Match object; span=(0, 3), match='ATC'>"
      ]
     },
     "execution_count": 6,
     "metadata": {},
     "output_type": "execute_result"
    }
   ],
   "source": [
    "Seq = 'ATCGGGGGGATCGGGATC'\n",
    "re.search('ATC', Seq)"
   ]
  },
  {
   "cell_type": "markdown",
   "id": "256145fd",
   "metadata": {},
   "source": [
    "Matches can be saved to variables:"
   ]
  },
  {
   "cell_type": "code",
   "execution_count": 7,
   "id": "e5b2710b",
   "metadata": {},
   "outputs": [
    {
     "name": "stdout",
     "output_type": "stream",
     "text": [
      "<re.Match object; span=(0, 3), match='ATC'>\n"
     ]
    }
   ],
   "source": [
    "Seq = 'ATCGGGGGGATCGGGATC'\n",
    "Seqmatch=re.search('ATC', Seq)\n",
    "print(Seqmatch)"
   ]
  },
  {
   "cell_type": "markdown",
   "id": "427d5e6f",
   "metadata": {},
   "source": [
    "Matches can be extracted as below, although we will cover capturing and storing matches in more detail below."
   ]
  },
  {
   "cell_type": "code",
   "execution_count": 8,
   "id": "4e10cdfd",
   "metadata": {},
   "outputs": [
    {
     "name": "stdout",
     "output_type": "stream",
     "text": [
      "ATC\n"
     ]
    }
   ],
   "source": [
    "Seq = 'ATCGGGGGGATCGGGATC'\n",
    "match= re.search('ATC', Seq)\n",
    "print(match.group()) "
   ]
  },
  {
   "cell_type": "markdown",
   "id": "69ceb7a2",
   "metadata": {},
   "source": [
    "Match objects have multiple elements, which can be individually extracted:"
   ]
  },
  {
   "cell_type": "code",
   "execution_count": 9,
   "id": "c08704b7",
   "metadata": {},
   "outputs": [
    {
     "name": "stdout",
     "output_type": "stream",
     "text": [
      "0\n",
      "ATC\n",
      "3\n"
     ]
    }
   ],
   "source": [
    "Seq = 'ATCGGGGGGATCGGGATC'\n",
    "Seqmatch=re.search('ATC', Seq)\n",
    "print(Seqmatch.start())  \n",
    "print(Seqmatch.group()) \n",
    "print(Seqmatch.end()) "
   ]
  },
  {
   "cell_type": "markdown",
   "id": "34090d1a",
   "metadata": {},
   "source": [
    "Note that above, `re.search` only stores one ATC, even though there are 3 in Seq. Thats because `re.search` only makes one match. `re.findall` and `re.finditer` to find, track, and store multiple matches. More on these below."
   ]
  },
  {
   "cell_type": "markdown",
   "id": "92163099",
   "metadata": {},
   "source": [
    "### Using `r\"\"` to search raw text only.\n",
    "\n",
    "Regular expression patterns preceded by `r` will search only raw text, and not special characters. For examples above, it won't have any effect, but Im showing this notation here because you will see it in some of the additional tutorials.\n"
   ]
  },
  {
   "cell_type": "code",
   "execution_count": 10,
   "id": "df1cba3c",
   "metadata": {},
   "outputs": [
    {
     "name": "stdout",
     "output_type": "stream",
     "text": [
      "<re.Match object; span=(0, 3), match='ATC'>\n"
     ]
    }
   ],
   "source": [
    "Seq = 'ATCGGGGGGATCGGGATC'\n",
    "Seqmatch=re.search(r'ATC', Seq)\n",
    "print(Seqmatch)"
   ]
  },
  {
   "cell_type": "markdown",
   "id": "d1f1be2f",
   "metadata": {},
   "source": [
    "It will matter in strings that have special characters, such as '\\n', which is a linux line ending. When preceded in a match statement by 'r', backslashes are not treated differently than any other charater. So r\"\\n\" is a two-character string containing '\\' and 'n', while \"\\n\" is a one-character string containing a newline. Usually patterns will be expressed in Python code using this raw string notation, so we will mostly use in what follows."
   ]
  },
  {
   "cell_type": "markdown",
   "id": "74fc151b",
   "metadata": {},
   "source": [
    "It will matter in strings that have special characters, such as '\\n', which is a linux line ending. When preceded in a match statement by 'r', backslashes are not treated differently than any other charater. So r\"\\n\" is a two-character string containing '\\' and 'n', while \"\\n\" is a one-character string containing a newline. Usually patterns will be expressed in Python code using this raw string notation, so we will mostly use in what follows.\n",
    "\n",
    "## Basic syntax for regular expression matching\n",
    "\n",
    "Syntax for regular expressions is mostly consistent across many languages, including Unix, Perl, and Python. The regular expression cheat sheet posted with the course materials will be helpful here; I suggest keeping that or similar cheat sheet close by. The table below illustrates some of the most commonly used expressions\n"
   ]
  },
  {
   "cell_type": "markdown",
   "id": "73c873ba",
   "metadata": {},
   "source": [
    "\n",
    "| Expression | Meaning |\n",
    "|---------- | ---------- |\n",
    "|\\d  | single digit character |\n",
    "|\\d+  | One or more digits |\n",
    "|\\d*  | 0 or more digits |\n",
    "|\\w  | word character |\n",
    "|\\W | non word character |\n",
    "|\\s | whitespace character |\n",
    "|\\S | non-whitespace character |\n",
    "|*  | anything|\n",
    "|.| any non-whitespace character|\n",
    "|^ | beginning of string anchor |\n",
    "|\\$ | end of string anchor|\n",
    "|\\d\\{3,\\} | 3 or more consecutive digits|\n",
    "|[a-z]| any lower case letter|\n",
    "|[A-Z]| any upper case letter|\n",
    "|[^ATCG]| any character other than A, T, C, G|\n",
    "|\\\\$| matches \"$\", special characters 'escaped' with `\\`|\n",
    "|\\\\@| matches \"@\", special characters 'escaped' with `\\`|\n",
    "\n",
    "## A note on special characters\n",
    "\n",
    "Special characters require a `\\` escape in regular expressions. Thus, matching '&' in a string of text requires an expresssion such as \"\\\\&\". In addition, `\\` is used to indicate certain special characters such as line endings, tabs, and other characters listed above. Examples below.\n",
    "\n",
    "So in the string below, specifying search with \"\\\\@\" will produce a match, while using \"@\" will not. Try it out to convince yourself.\n"
   ]
  },
  {
   "cell_type": "code",
   "execution_count": 11,
   "id": "0fb103f6",
   "metadata": {},
   "outputs": [
    {
     "data": {
      "text/plain": [
       "<re.Match object; span=(0, 1), match='@'>"
      ]
     },
     "execution_count": 11,
     "metadata": {},
     "output_type": "execute_result"
    }
   ],
   "source": [
    "Seq = '@ATCGGGGGGATCGGGATC'\n",
    "re.search(\"\\@\", Seq)   # returns a match\n",
    "re.search(\"@\", Seq)   # does not return a match"
   ]
  },
  {
   "cell_type": "markdown",
   "id": "72b527a3",
   "metadata": {},
   "source": [
    "\n",
    "| Expression | Translation |\n",
    "|---------- | ---------- |\n",
    "|\\\\' |\tsingle quote \t|\n",
    "|\\\\* |\t* \t|\n",
    "|\\\\+ |\t+ \t|\n",
    "|\\\\? |\t? \t|\n",
    "|\\n |\tNew Line \t|\n",
    "|\\r |\tCarriage Return |\t\n",
    "| \\t |\tTab \t|\n",
    "| \\b |\tBackspace |\t\n",
    "| \\f |\tForm Feed |\t\n",
    "\n"
   ]
  },
  {
   "cell_type": "markdown",
   "id": "98ef39e5",
   "metadata": {},
   "source": [
    "Example usage. If you run the same searches below without \"\\\\\" you will see that no match will be returned."
   ]
  },
  {
   "cell_type": "code",
   "execution_count": 16,
   "id": "a7c3247d",
   "metadata": {},
   "outputs": [
    {
     "name": "stdout",
     "output_type": "stream",
     "text": [
      "Matched +\n",
      "Matched *\n",
      "Matched ?\n"
     ]
    }
   ],
   "source": [
    "X = \"COD * ? + \\n\"\n",
    "if re.search(\"\\+\", X):  \n",
    "    print(\"Matched +\")\n",
    "if re.search(\"\\*\", X):  \n",
    "    print(\"Matched *\")   \n",
    "if re.search(\"\\?\", X):  \n",
    "    print(\"Matched ?\")\n",
    "    "
   ]
  },
  {
   "cell_type": "markdown",
   "id": "6dca2d40",
   "metadata": {},
   "source": [
    "## `re.finditer()`\n",
    "\n",
    "`re.search` is useful for finding out if a pattern exists in a string or a line of data, and it can store a single match, but its usefulness is limited to a single match. `re.finditer()` can process multiple matches and usefully returns a list of match objects which can be further processed in a loop.\n",
    "\n",
    "The below expression matches to characters that are NOT A, T, C or G, and the for loop is used to print each match and its starting position. Note that the \"^\" character when used inside a character class means \"NOT\" instead of serving as an anchor.\n"
   ]
  },
  {
   "cell_type": "code",
   "execution_count": 17,
   "id": "425cd599",
   "metadata": {},
   "outputs": [
    {
     "name": "stdout",
     "output_type": "stream",
     "text": [
      "N5\n",
      "R15\n",
      "Y25\n"
     ]
    }
   ],
   "source": [
    "Seq = \"CGCTCNTAGATGCGCRATGACTGCAYTGC\" \n",
    "\n",
    "matches = re.finditer(r\"[^ATGC]\", Seq) \n",
    "for m in matches: \n",
    "    base = m.group() \n",
    "    pos  = m.start() \n",
    "    print(base + str(pos))"
   ]
  },
  {
   "cell_type": "markdown",
   "id": "c8b95d6f",
   "metadata": {},
   "source": [
    "## Matching repetitive patterns.\n",
    "\n",
    "We will cover this in more detail below with `re.findall`, but here show a few examples using `re.finditer`.\n",
    "\n",
    "To extract AT repeated **2 or more**  times, and to loop through the list of matches (which are stored as m.group() elements):"
   ]
  },
  {
   "cell_type": "code",
   "execution_count": 18,
   "id": "1c6c4fe5",
   "metadata": {},
   "outputs": [
    {
     "name": "stdout",
     "output_type": "stream",
     "text": [
      "ATATAT\n",
      "ATATATAT\n",
      "ATAT\n"
     ]
    }
   ],
   "source": [
    "SSR = 'ATATATGGGCGATATATATCCATATC'\n",
    "matches=re.finditer(\"(AT){2,}\", SSR)\n",
    "for m in matches:\n",
    "    print(m.group())"
   ]
  },
  {
   "cell_type": "markdown",
   "id": "b3ae2033",
   "metadata": {},
   "source": [
    "To extract ATC repeated **3 or more**  times:\n"
   ]
  },
  {
   "cell_type": "code",
   "execution_count": 19,
   "id": "5e5eac42",
   "metadata": {},
   "outputs": [
    {
     "name": "stdout",
     "output_type": "stream",
     "text": [
      "ATCATCATCATC\n"
     ]
    }
   ],
   "source": [
    "SSR = 'ATCATCATCATCATGGGCGATATATATCCATATC'\n",
    "matches=re.finditer(\"(ATC){3,}\", SSR)\n",
    "for m in matches:\n",
    "    print(m.group())"
   ]
  },
  {
   "cell_type": "markdown",
   "id": "8eca63dc",
   "metadata": {},
   "source": [
    "## `re.findall()`\n",
    "\n",
    "`re.findall` can process multiple matches and returns the text of the matches themselves as strings. Thus, rather than returning a list of match objects, this returns a list of strings. Useful for capturing or counting matches, and produces lists that are easy to work with..\n",
    "\n",
    "In each below use of `re.findall` each match is stored in a list. We will talk more about capturing matches below.\n"
   ]
  },
  {
   "cell_type": "code",
   "execution_count": 22,
   "id": "c990c046",
   "metadata": {},
   "outputs": [
    {
     "name": "stdout",
     "output_type": "stream",
     "text": [
      "['CO', 'BC']\n",
      "['13292929']\n",
      " 0\n",
      " 1\n",
      " 2\n",
      " 0\n",
      " 2\n",
      " 1\n",
      " 1\n"
     ]
    }
   ],
   "source": [
    "ID = \"CO_BC_13292929 0 1 2 0 2 1 1 \"\n",
    "print(re.findall(\"[A-Z]+\",ID)) # returns['CO', 'BC']\n",
    "print(re.findall(\"\\d{3,}\",ID)) # returns['13292929']\n",
    "\n",
    "match = re.findall(\"\\s\\d\",ID) \n",
    "for m in match:\n",
    "    print(m)"
   ]
  },
  {
   "cell_type": "markdown",
   "id": "1682f16e",
   "metadata": {},
   "source": [
    "### Storing matches of repetitive patterns. Similar to above with `re.finditer`, here is an alternative way that usefully puts matches directly into a list.\n",
    "\n",
    "To extract AT repeated **2 or more**  times, and to loop through the list of matches:"
   ]
  },
  {
   "cell_type": "code",
   "execution_count": 23,
   "id": "3c7d83b6",
   "metadata": {},
   "outputs": [
    {
     "name": "stdout",
     "output_type": "stream",
     "text": [
      "AT\n",
      "AT\n",
      "AT\n"
     ]
    }
   ],
   "source": [
    "SSR = 'ATATATGGGCGATATATATCCATATC'\n",
    "matches=re.findall(\"(AT){2,}\", SSR)\n",
    "for m in matches:\n",
    "    print(m)\n"
   ]
  },
  {
   "cell_type": "markdown",
   "id": "ba634349",
   "metadata": {},
   "source": [
    "Take note of the parentheses surrounding the base pattern (AT) above, and especially what the print statement above produced. Specifically, while the number of matches stored in the list is correct (and such use will be useful for this weeks programming task), the pattern saved as a group was the base AT, not the entire repeating region.\n",
    "\n",
    "With a slight change (the addition of ()s around the entire expression), the exact repeating match and the base are stored in a slightly more complex list. Try the below code, and pay particular attention to how parentheses are organized and the printed output."
   ]
  },
  {
   "cell_type": "code",
   "execution_count": 24,
   "id": "0e762ea8",
   "metadata": {},
   "outputs": [
    {
     "name": "stdout",
     "output_type": "stream",
     "text": [
      "('ATATAT', 'AT')\n",
      "('ATATATAT', 'AT')\n",
      "('ATAT', 'AT')\n"
     ]
    }
   ],
   "source": [
    "SSR = 'ATATATGGGCGATATATATCCATATC'\n",
    "matches=re.findall(\"((AT){2,})\", SSR)\n",
    "for m in matches:\n",
    "    print(m)"
   ]
  },
  {
   "cell_type": "markdown",
   "id": "9f23d266",
   "metadata": {},
   "source": [
    "To extract ATC repeated **3 or more**  times:\n"
   ]
  },
  {
   "cell_type": "code",
   "execution_count": 25,
   "id": "b0a4e640",
   "metadata": {},
   "outputs": [
    {
     "name": "stdout",
     "output_type": "stream",
     "text": [
      "('ATCATCATCATC', 'ATC')\n"
     ]
    }
   ],
   "source": [
    "SSR = 'ATCATCATCATCATGGGCGATATATATCCATATC'\n",
    "matches=re.findall(\"((ATC){3,})\", SSR)\n",
    "for m in matches:\n",
    "    print(m)"
   ]
  },
  {
   "cell_type": "markdown",
   "id": "56ee3784",
   "metadata": {},
   "source": [
    "Or if we wanted to extract regions of DNA that only have T and/or A for 5 consecutive bases:"
   ]
  },
  {
   "cell_type": "code",
   "execution_count": 26,
   "id": "0c3b07af",
   "metadata": {},
   "outputs": [
    {
     "name": "stdout",
     "output_type": "stream",
     "text": [
      "ATAAAAT\n",
      "ATATTTAT\n",
      "ATATATAT\n"
     ]
    }
   ],
   "source": [
    "SSR = 'ATAAAATCATCATATTTATGGGCGATATATATCCATATC'\n",
    "matches=re.findall(\"[AT]{5,}\", SSR)\n",
    "for m in matches:\n",
    "    print(m)"
   ]
  },
  {
   "cell_type": "markdown",
   "id": "0551e05c",
   "metadata": {},
   "source": [
    "\n",
    "## Counting the number of matches in a string\n",
    "\n",
    "There are multiple ways to do this. One kind of straight forward way uses `re.findall`, which will return strings of each match, in a list if there is more than one."
   ]
  },
  {
   "cell_type": "code",
   "execution_count": 27,
   "id": "5e9aceb6",
   "metadata": {},
   "outputs": [
    {
     "name": "stdout",
     "output_type": "stream",
     "text": [
      "['the', 'the', 'the']\n"
     ]
    }
   ],
   "source": [
    "Sent = 'the dog jumped over the moon, which circled the Earth'\n",
    "Result = re.findall(\"the\", Sent) \n",
    "print(Result) # will be a list ['the', 'the', 'the']"
   ]
  },
  {
   "cell_type": "markdown",
   "id": "41c13ff1",
   "metadata": {},
   "source": [
    "The length of the list generated from `re.findall` gives you the number of matches."
   ]
  },
  {
   "cell_type": "code",
   "execution_count": 28,
   "id": "e8f38da7",
   "metadata": {},
   "outputs": [
    {
     "data": {
      "text/plain": [
       "3"
      ]
     },
     "execution_count": 28,
     "metadata": {},
     "output_type": "execute_result"
    }
   ],
   "source": [
    "len(Result)\n"
   ]
  },
  {
   "cell_type": "markdown",
   "id": "4bb57d3f",
   "metadata": {},
   "source": [
    "Or more efficiently, the line below will do:\n"
   ]
  },
  {
   "cell_type": "code",
   "execution_count": 30,
   "id": "324eafa0",
   "metadata": {},
   "outputs": [
    {
     "name": "stdout",
     "output_type": "stream",
     "text": [
      "3\n"
     ]
    }
   ],
   "source": [
    "NumMatch = len(re.findall(\"the\", Sent)) \n",
    "print(NumMatch)"
   ]
  },
  {
   "cell_type": "markdown",
   "id": "609ab309",
   "metadata": {},
   "source": [
    "Another example, lets say we want to know how many 'AT' repeats occur in a DNA sequence"
   ]
  },
  {
   "cell_type": "code",
   "execution_count": 31,
   "id": "47f726c6",
   "metadata": {},
   "outputs": [
    {
     "data": {
      "text/plain": [
       "13"
      ]
     },
     "execution_count": 31,
     "metadata": {},
     "output_type": "execute_result"
    }
   ],
   "source": [
    "Seq = \"CTGCATTATATCGTACGAAATTATACGCGCGATATATATATATATAT\"\n",
    "len(re.findall('AT', Seq)) ## returns 13"
   ]
  },
  {
   "cell_type": "markdown",
   "id": "f5e8ce82",
   "metadata": {},
   "source": [
    "Below, an expression is used to match regions with only A and/or T for 4 or more consecutive bases. The results of `re.findall` are then used in a for loop to print the length of each AT rich match."
   ]
  },
  {
   "cell_type": "code",
   "execution_count": 32,
   "id": "dd4425fe",
   "metadata": {},
   "outputs": [
    {
     "name": "stdout",
     "output_type": "stream",
     "text": [
      "ATTATA 6\n",
      "AATTATA 7\n",
      "ATATAATA 8\n",
      "ATATAT 6\n"
     ]
    }
   ],
   "source": [
    "Seq = \"CTGCATTATACGAATTATACGCGCGATATAATACATATAT\"\n",
    "ATlist = re.findall(\"[AT]{4,}\", Seq)\n",
    "for Rep in ATlist:\n",
    "    print(Rep, len(Rep)) "
   ]
  },
  {
   "cell_type": "markdown",
   "id": "8b14f0f0",
   "metadata": {},
   "source": [
    "## Storing matches\n",
    "\n",
    "There are numerous ways to do capture and store matches. This can be an incredibly powerful way to extract information from large files of text, especially when using flexible regular expressions. \n",
    "\n",
    "Parentheses are used to define parts of expression matches to store."
   ]
  },
  {
   "cell_type": "code",
   "execution_count": 33,
   "id": "2d085bfc",
   "metadata": {},
   "outputs": [
    {
     "data": {
      "text/plain": [
       "'jumped'"
      ]
     },
     "execution_count": 33,
     "metadata": {},
     "output_type": "execute_result"
    }
   ],
   "source": [
    "X = 'the dog jumped over the moon'\n",
    "re.search('(dog)\\s(jumped)', X).group(1) # returns dog\n",
    "re.search('(dog)\\s(jumped)', X).group(2) # returns jumped\n"
   ]
  },
  {
   "cell_type": "markdown",
   "id": "c6354b53",
   "metadata": {},
   "source": [
    "Another way of looking at this with more flexible expression:\n"
   ]
  },
  {
   "cell_type": "code",
   "execution_count": 34,
   "id": "dfcf58f2",
   "metadata": {},
   "outputs": [
    {
     "name": "stdout",
     "output_type": "stream",
     "text": [
      "Loxia\n"
     ]
    },
    {
     "data": {
      "text/plain": [
       "'curvirostra'"
      ]
     },
     "execution_count": 34,
     "metadata": {},
     "output_type": "execute_result"
    }
   ],
   "source": [
    "Name = \"Loxia curvirostra\" \n",
    "m = re.search(\"(\\w+) (\\w+)\", Name) \n",
    "print(m.group(1)) # prints 'Loxia'\n",
    "re.search(\"(\\w+) (\\w+)\", Name).group(2) # returns 'curvirostra"
   ]
  },
  {
   "cell_type": "markdown",
   "id": "31f73e2f",
   "metadata": {},
   "source": [
    "Note that the above uses of `re.finditer` and `re.findall` also illustrated methods for storing matches, while also looping through lists to process those.\n",
    "\n",
    "Storing lists of matches with `re.findall`:\n",
    "To extract AT repeated **2 or more**  times, and to loop through the list of matches:"
   ]
  },
  {
   "cell_type": "code",
   "execution_count": 35,
   "id": "68ee416c",
   "metadata": {},
   "outputs": [
    {
     "name": "stdout",
     "output_type": "stream",
     "text": [
      "('ATATAT', 'AT')\n",
      "('ATATATAT', 'AT')\n",
      "('ATAT', 'AT')\n"
     ]
    }
   ],
   "source": [
    "SSR = 'ATATATGGGCGATATATATCCATATC'\n",
    "matches=re.findall(\"((AT){2,})\", SSR)\n",
    "for m in matches:\n",
    "    print(m)"
   ]
  },
  {
   "cell_type": "markdown",
   "id": "49a9fcb6",
   "metadata": {},
   "source": [
    "To extract ATC repeated **3 or more**  times:\n"
   ]
  },
  {
   "cell_type": "code",
   "execution_count": 36,
   "id": "e000c16a",
   "metadata": {},
   "outputs": [
    {
     "name": "stdout",
     "output_type": "stream",
     "text": [
      "('ATCATCATCATC', 'ATC')\n"
     ]
    }
   ],
   "source": [
    "SSR = 'ATCATCATCATCATGGGCGATATATATCCATATC'\n",
    "matches=re.findall(\"((ATC){3,})\", SSR)\n",
    "for m in matches:\n",
    "    print(m)"
   ]
  },
  {
   "cell_type": "markdown",
   "id": "4859c33e",
   "metadata": {},
   "source": [
    "Storing lists of matches with `re.finditer`:\n",
    "\n",
    "To extract AT repeated **2 or more**  times, and to loop through the list of matches:"
   ]
  },
  {
   "cell_type": "code",
   "execution_count": 37,
   "id": "a494a802",
   "metadata": {},
   "outputs": [
    {
     "name": "stdout",
     "output_type": "stream",
     "text": [
      "ATATAT 6\n",
      "ATATATAT 8\n",
      "ATAT 4\n"
     ]
    }
   ],
   "source": [
    "SSR = 'ATATATGGGCGATATATATCCATATC'\n",
    "matches=re.finditer(\"(AT){2,}\", SSR)\n",
    "for m in matches:\n",
    "    print(m.group(), len(m.group()))"
   ]
  },
  {
   "cell_type": "markdown",
   "id": "985609df",
   "metadata": {},
   "source": [
    "To extract ATC repeated **3 or more**  times:\n"
   ]
  },
  {
   "cell_type": "code",
   "execution_count": 38,
   "id": "04152323",
   "metadata": {},
   "outputs": [
    {
     "name": "stdout",
     "output_type": "stream",
     "text": [
      "ATCATCATCATC 12\n"
     ]
    }
   ],
   "source": [
    "SSR = 'ATCATCATCATCATGGGCGATATATATCCATATC'\n",
    "matches=re.finditer(\"(ATC){3,}\", SSR)\n",
    "for m in matches:\n",
    "    print(m.group(), len(m.group()))"
   ]
  },
  {
   "cell_type": "markdown",
   "id": "f4a048cc",
   "metadata": {},
   "source": [
    "## Splitting strings using a regular expression: `re.split`\n",
    "\n",
    "We are accustomed to splitting strings based on delimiters such as ',', '\\s', and '\\t', but in reality we can split strings with any expression we like using regular expressions and `re.split`\n"
   ]
  },
  {
   "cell_type": "code",
   "execution_count": 39,
   "id": "df36f305",
   "metadata": {},
   "outputs": [
    {
     "name": "stdout",
     "output_type": "stream",
     "text": [
      "['ATGGGNCTGA', 'TAAAG', 'GTCCCC', 'TTTTTTT']\n"
     ]
    }
   ],
   "source": [
    "Seq = \"ATGGGNCTGANNTAAAGNNNNGTCCCCNNNTTTTTTT\"\n",
    "MotifList = re.split(\"N{2,}\", Seq) # splitting by '2 or more Ns\n",
    "print(MotifList)"
   ]
  },
  {
   "cell_type": "markdown",
   "id": "bee8fffa",
   "metadata": {},
   "source": [
    "Comma delmited data string:\n"
   ]
  },
  {
   "cell_type": "code",
   "execution_count": 40,
   "id": "8f4238c0",
   "metadata": {},
   "outputs": [
    {
     "name": "stdout",
     "output_type": "stream",
     "text": [
      "5\n",
      "4\n",
      "7\n",
      "9\n",
      "10\n"
     ]
    }
   ],
   "source": [
    "Dataline = \"EcoRI,Mse1,HindIII,JoeBurrow,JamarChase\"\n",
    "DataList = re.split(\",\", Dataline) # splitting by '2 or more Ns\n",
    "for element in DataList:\n",
    "    print(len(element))"
   ]
  },
  {
   "cell_type": "markdown",
   "id": "77b2e5f6",
   "metadata": {},
   "source": [
    "## `re.sub`\n",
    "`re.sub` can be used to replace a string that matches a regular expression. It takes  a regular expression pattern in the first argument, a new string in the second argument, and the string to be processed in the third argument."
   ]
  },
  {
   "cell_type": "code",
   "execution_count": 43,
   "id": "6b56ef4d",
   "metadata": {},
   "outputs": [
    {
     "name": "stdout",
     "output_type": "stream",
     "text": [
      "result 1:  MT_134545 0   1 0   2 1\n",
      "result 2:  CO_MT_134545 0 1 0 2 1\n",
      "result 3:  def\n"
     ]
    }
   ],
   "source": [
    "Seq = 'CO_MT_134545 0   1 0   2 1'\n",
    "result = re.sub('CO_',  '',    Seq) # Deletes CO_\n",
    "print(\"result 1: \", result)\n",
    "result = re.sub(r'\\s+', ' ',   Seq) # Delete extra whitespaces \n",
    "print(\"result 2: \", result)\n",
    "\n",
    "Let = 'abcdefghi'\n",
    "result = re.sub('abc(def)ghi', r'\\1', Let) # Replace string with a part of itself\n",
    "print(\"result 3: \", result)\n"
   ]
  },
  {
   "cell_type": "markdown",
   "id": "71048768",
   "metadata": {},
   "source": [
    "## Simple example demo\n",
    "\n",
    "Below is a script that performs a few simple substitutions on the yeast_genome.gff file we worked with earlier in the semester. Providing this here as an example workflow, or as a basis for playing with regular expression actions."
   ]
  },
  {
   "cell_type": "code",
   "execution_count": 1,
   "id": "0c941c87",
   "metadata": {},
   "outputs": [
    {
     "name": "stdout",
     "output_type": "stream",
     "text": [
      "CHRI\tSGD\tCHRomosome\t1\t230208\t.\t.\t.\tID=CHRI;dbxref=NCBI:NC_001133;Name=CHRI\n",
      "CHRI\tSGD\trepeat_region\t1\t62\t.\t-\t.\tID=TEL01L-TR;Name=TEL01L-TR;Note=Terminal%20stretch%20of%20telomeric%20repeats%20on%20the%20left%20arm%20of%20Chromosome%20I;dbxref=SGD:S000028864\n",
      "CHRI\tSGD\ttelomere\t1\t801\t.\t-\t.\tID=TEL01L;Name=TEL01L;Note=Telomeric%20region%20on%20the%20left%20arm%20of%20Chromosome%20I%3B%20composed%20of%20an%20X%20element%20core%20sequence%2C%20X%20element%20combinatorial%20repeats%2C%20and%20a%20short%20terminal%20stretch%20of%20telomeric%20repeats;dbxref=SGD:S000028862\n",
      "CHRI\tSGD\trepeat_region\t63\t336\t.\t-\t.\tID=TEL01L-XR;Name=TEL01L-XR;Note=Telomeric%20X%20element%20combinatorial%20Repeat%20region%20on%20the%20left%20arm%20of%20Chromosome%20I%3B%20contains%20repeats%20of%20the%20D%2C%20C%2C%20B%20and%20A%20types%2C%20as%20well%20as%20Tbf1p%20binding%20sites%3B%20formerly%20called%20SubTelomeric%20Repeats;dbxref=SGD:S000028866\n",
      "CHRI\tSGD\tgene\t335\t649\t.\t+\t.\tID=YAL069W;Name=YAL069W;Ontology_term=GO:0003674,GO:0005575,GO:0008150;Note=Dubious%20open%20reading%20frame%20unlikely%20to%20encode%20a%20protein%2C%20based%20on%20available%20experimental%20and%20comparative%20sequence%20data;dbxref=SGD:S000002143;orf_classification=Dubious\n",
      "CHRI\tSGD\tCDS\t335\t649\t.\t+\t0\tParent=YAL069W;Name=YAL069W;Ontology_term=GO:0003674,GO:0005575,GO:0008150;Note=Dubious%20open%20reading%20frame%20unlikely%20to%20encode%20a%20protein%2C%20based%20on%20available%20experimental%20and%20comparative%20sequence%20data;dbxref=SGD:S000002143;orf_classification=Dubious\n",
      "CHRI\tSGD\trepeat_region\t337\t801\t.\t-\t.\tID=TEL01L-XC;Name=TEL01L-XC;Note=Telomeric%20X%20element%20Core%20sequence%20on%20the%20left%20arm%20of%20Chromosome%20I%3B%20contains%20an%20ARS%20consensus%20sequence%2C%20an%20Abf1p%20binding%20site%20consensus%20sequence%20and%20two%20small%20overlapping%20ORFs%20(YAL068W-A%20and%20YAL069W);dbxref=SGD:S000028865\n",
      "CHRI\tSGD\tnucleotide_match\t753\t763\t.\t-\t.\tParent=TEL01L-XC;Name=TEL01L-XC;Note=Telomeric%20X%20element%20Core%20sequence%20on%20the%20left%20arm%20of%20Chromosome%20I%3B%20contains%20an%20ARS%20consensus%20sequence%2C%20an%20Abf1p%20binding%20site%20consensus%20sequence%20and%20two%20small%20overlapping%20ORFs%20(YAL068W-A%20and%20YAL069W);dbxref=SGD:S000028865\n",
      "CHRI\tSGD\tbinding_site\t532\t544\t.\t-\t.\tParent=TEL01L-XC;Name=TEL01L-XC;Note=Telomeric%20X%20element%20Core%20sequence%20on%20the%20left%20arm%20of%20Chromosome%20I%3B%20contains%20an%20ARS%20consensus%20sequence%2C%20an%20Abf1p%20binding%20site%20consensus%20sequence%20and%20two%20small%20overlapping%20ORFs%20(YAL068W-A%20and%20YAL069W);dbxref=SGD:S000028865\n",
      "CHRI\tSGD\tgene\t538\t792\t.\t+\t.\tID=YAL068W-A;Name=YAL068W-A;Ontology_term=GO:0003674,GO:0005575,GO:0008150;Note=Dubious%20open%20reading%20frame%20unlikely%20to%20encode%20a%20protein%3B%20identified%20by%20gene-trapping%2C%20microarray-based%20expression%20analysis%2C%20and%20genome-wide%20homology%20searching;dbxref=SGD:S000028594;orf_classification=Dubious\n",
      "CHRI\tSGD\tCDS\t538\t792\t.\t+\t0\tParent=YAL068W-A;Name=YAL068W-A;Ontology_term=GO:0003674,GO:0005575,GO:0008150;Note=Dubious%20open%20reading%20frame%20unlikely%20to%20encode%20a%20protein%3B%20identified%20by%20gene-trapping%2C%20microarray-based%20expression%20analysis%2C%20and%20genome-wide%20homology%20searching;dbxref=SGD:S000028594;orf_classification=Dubious\n",
      "CHRI\tSGD\tARS\t650\t1791\t.\t.\t.\tID=ARS102;Name=ARS102;Alias=ARSI-1;Note=Autonomously%20Replicating%20Sequence;dbxref=SGD:S000121252\n",
      "CHRI\tSGD\tgene\t1807\t2169\t.\t-\t.\tID=YAL068C;Name=YAL068C;gene=PAU8;Alias=PAU8;Ontology_term=GO:0003674,GO:0005575,GO:0030437,GO:0045944;Note=Protein%20of%20unknown%20function%2C%20member%20of%20the%20seripauperin%20multigene%20family%20encoded%20mainly%20in%20subtelomeric%20regions;dbxref=SGD:S000002142;orf_classification=Verified\n",
      "CHRI\tSGD\tCDS\t1807\t2169\t.\t-\t0\tParent=YAL068C;Name=YAL068C;gene=PAU8;Alias=PAU8;Ontology_term=GO:0003674,GO:0005575,GO:0030437,GO:0045944;Note=Protein%20of%20unknown%20function%2C%20member%20of%20the%20seripauperin%20multigene%20family%20encoded%20mainly%20in%20subtelomeric%20regions;dbxref=SGD:S000002142;orf_classification=Verified\n",
      "CHRI\tSGD\tgene\t2480\t2707\t.\t+\t.\tID=YAL067W-A;Name=YAL067W-A;Ontology_term=GO:0003674,GO:0005575,GO:0008150;Note=Putative%20protein%20of%20unknown%20function%3B%20identified%20by%20gene-trapping%2C%20microarray-based%20expression%20analysis%2C%20and%20genome-wide%20homology%20searching;dbxref=SGD:S000028593;orf_classification=Uncharacterized\n",
      "CHRI\tSGD\tCDS\t2480\t2707\t.\t+\t0\tParent=YAL067W-A;Name=YAL067W-A;Ontology_term=GO:0003674,GO:0005575,GO:0008150;Note=Putative%20protein%20of%20unknown%20function%3B%20identified%20by%20gene-trapping%2C%20microarray-based%20expression%20analysis%2C%20and%20genome-wide%20homology%20searching;dbxref=SGD:S000028593;orf_classification=Uncharacterized\n",
      "CHRI\tSGD\tgene\t7236\t9017\t.\t-\t.\tID=YAL067C;Name=YAL067C;gene=SEO1;Alias=SEO1;Ontology_term=GO:0005215,GO:0006810,GO:0016020;Note=Putative%20permease%2C%20member%20of%20the%20allantoate%20transporter%20subfamily%20of%20the%20major%20facilitator%20superfamily%3B%20mutation%20confers%20resistance%20to%20ethionine%20sulfoxide;dbxref=SGD:S000000062;orf_classification=Verified\n",
      "CHRI\tSGD\tCDS\t7236\t9017\t.\t-\t0\tParent=YAL067C;Name=YAL067C;gene=SEO1;Alias=SEO1;Ontology_term=GO:0005215,GO:0006810,GO:0016020;Note=Putative%20permease%2C%20member%20of%20the%20allantoate%20transporter%20subfamily%20of%20the%20major%20facilitator%20superfamily%3B%20mutation%20confers%20resistance%20to%20ethionine%20sulfoxide;dbxref=SGD:S000000062;orf_classification=Verified\n",
      "CHRI\tSGD\tARS\t7998\t8548\t.\t.\t.\tID=ARS103;Name=ARS103;Alias=ARSI-8;Note=Autonomously%20Replicating%20Sequence;dbxref=SGD:S000121253\n",
      "CHRI\tSGD\tgene\t10092\t10400\t.\t+\t.\tID=YAL066W;Name=YAL066W;Ontology_term=GO:0003674,GO:0005575,GO:0008150;Note=Dubious%20open%20reading%20frame%20unlikely%20to%20encode%20a%20protein%2C%20based%20on%20available%20experimental%20and%20comparative%20sequence%20data;dbxref=SGD:S000000061;orf_classification=Dubious\n",
      "CHRI\tSGD\tCDS\t10092\t10400\t.\t+\t0\tParent=YAL066W;Name=YAL066W;Ontology_term=GO:0003674,GO:0005575,GO:0008150;Note=Dubious%20open%20reading%20frame%20unlikely%20to%20encode%20a%20protein%2C%20based%20on%20available%20experimental%20and%20comparative%20sequence%20data;dbxref=SGD:S000000061;orf_classification=Dubious\n",
      "CHRI\tSGD\tgene\t11566\t11952\t.\t-\t.\tID=YAL065C;Name=YAL065C;Ontology_term=GO:0003674,GO:0005575,GO:0008150;Note=Putative%20protein%20of%20unknown%20function%3B%20has%20homology%20to%20FLO1%3B%20possible%20pseudogene;dbxref=SGD:S000001817;orf_classification=Uncharacterized\n",
      "CHRI\tSGD\tCDS\t11566\t11952\t.\t-\t0\tParent=YAL065C;Name=YAL065C;Ontology_term=GO:0003674,GO:0005575,GO:0008150;Note=Putative%20protein%20of%20unknown%20function%3B%20has%20homology%20to%20FLO1%3B%20possible%20pseudogene;dbxref=SGD:S000001817;orf_classification=Uncharacterized\n",
      "CHRI\tSGD\tgene\t12047\t12427\t.\t+\t.\tID=YAL064W-B;Name=YAL064W-B;Ontology_term=GO:0003674,GO:0005575,GO:0008150;Note=Fungal-specific%20protein%20of%20unknown%20function;dbxref=SGD:S000002141;orf_classification=Uncharacterized\n",
      "CHRI\tSGD\tCDS\t12047\t12427\t.\t+\t0\tParent=YAL064W-B;Name=YAL064W-B;Ontology_term=GO:0003674,GO:0005575,GO:0008150;Note=Fungal-specific%20protein%20of%20unknown%20function;dbxref=SGD:S000002141;orf_classification=Uncharacterized\n",
      "CHRI\tSGD\tgene\t13364\t13744\t.\t-\t.\tID=YAL064C-A;Name=YAL064C-A;Alias=YAL065C-A;Ontology_term=GO:0003674,GO:0005575,GO:0008150;Note=Putative%20protein%20of%20unknown%20function%3B%20YAL064C-A%20is%20not%20an%20essential%20gene;dbxref=SGD:S000002140;orf_classification=Uncharacterized\n",
      "CHRI\tSGD\tCDS\t13364\t13744\t.\t-\t0\tParent=YAL064C-A;Name=YAL064C-A;Alias=YAL065C-A;Ontology_term=GO:0003674,GO:0005575,GO:0008150;Note=Putative%20protein%20of%20unknown%20function%3B%20YAL064C-A%20is%20not%20an%20essential%20gene;dbxref=SGD:S000002140;orf_classification=Uncharacterized\n",
      "CHRI\tSGD\tgene\t21526\t21852\t.\t+\t.\tID=YAL064W;Name=YAL064W;Ontology_term=GO:0003674,GO:0005575,GO:0008150;Note=Protein%20of%20unknown%20function%3B%20may%20interact%20with%20ribosomes%2C%20based%20on%20co-purification%20experiments;dbxref=SGD:S000000060;orf_classification=Verified\n",
      "CHRI\tSGD\tCDS\t21526\t21852\t.\t+\t0\tParent=YAL064W;Name=YAL064W;Ontology_term=GO:0003674,GO:0005575,GO:0008150;Note=Protein%20of%20unknown%20function%3B%20may%20interact%20with%20ribosomes%2C%20based%20on%20co-purification%20experiments;dbxref=SGD:S000000060;orf_classification=Verified\n",
      "CHRI\tSGD\tlong_terminal_repeat\t22232\t22554\t.\t+\t.\tID=YALWdelta1;Name=YALWdelta1;Ontology_term=SO:0000286;Note=Ty1%20LTR;dbxref=SGD:S000006787\n",
      "CHRI\tSGD\tgene\t22397\t22687\t.\t-\t.\tID=YAL063C-A;Name=YAL063C-A;Ontology_term=GO:0003674,GO:0005575,GO:0008150;Note=Putative%20protein%20of%20unknown%20function%3B%20identified%20by%20expression%20profiling%20and%20mass%20spectrometry;dbxref=SGD:S000028813;orf_classification=Uncharacterized\n",
      "CHRI\tSGD\tCDS\t22397\t22687\t.\t-\t0\tParent=YAL063C-A;Name=YAL063C-A;Ontology_term=GO:0003674,GO:0005575,GO:0008150;Note=Putative%20protein%20of%20unknown%20function%3B%20identified%20by%20expression%20profiling%20and%20mass%20spectrometry;dbxref=SGD:S000028813;orf_classification=Uncharacterized\n",
      "CHRI\tlandmark\tregion\t24001\t27969\t.\t-\t.\tID=FLO9\n",
      "CHRI\tSGD\tgene\t24001\t27969\t.\t-\t.\tID=YAL063C;Name=YAL063C;gene=FLO9;Alias=FLO9;Ontology_term=GO:0000128,GO:0000501,GO:0005537,GO:0009277;Note=Lectin-like%20protein%20with%20similarity%20to%20Flo1p%2C%20thought%20to%20be%20expressed%20and%20involved%20in%20flocculation;dbxref=SGD:S000000059;orf_classification=Verified\n",
      "CHRI\tSGD\tCDS\t24001\t27969\t.\t-\t0\tParent=YAL063C;Name=YAL063C;gene=FLO9;Alias=FLO9;Ontology_term=GO:0000128,GO:0000501,GO:0005537,GO:0009277;Note=Lectin-like%20protein%20with%20similarity%20to%20Flo1p%2C%20thought%20to%20be%20expressed%20and%20involved%20in%20flocculation;dbxref=SGD:S000000059;orf_classification=Verified\n",
      "CHRI\tSGD\tARS\t30947\t31184\t.\t.\t.\tID=ARS104;Name=ARS104;Alias=ARSI-31;Note=Autonomously%20Replicating%20Sequence;dbxref=SGD:S000118317\n",
      "CHRI\tSGD\tgene\t31568\t32941\t.\t+\t.\tID=YAL062W;Name=YAL062W;gene=GDH3;Alias=GDH3,FUN51;Ontology_term=GO:0004354,GO:0005625,GO:0005634,GO:0005739,GO:0006537,GO:0019676;Note=NADP(%2B)-dependent%20glutamate%20dehydrogenase%2C%20synthesizes%20glutamate%20from%20ammonia%20and%20alpha-ketoglutarate%3B%20rate%20of%20alpha-ketoglutarate%20utilization%20differs%20from%20Gdh1p%3B%20expression%20regulated%20by%20nitrogen%20and%20carbon%20sources;dbxref=SGD:S000000058;orf_classification=Verified\n",
      "CHRI\tSGD\tCDS\t31568\t32941\t.\t+\t0\tParent=YAL062W;Name=YAL062W;gene=GDH3;Alias=GDH3,FUN51;Ontology_term=GO:0004354,GO:0005625,GO:0005634,GO:0005739,GO:0006537,GO:0019676;Note=NADP(%2B)-dependent%20glutamate%20dehydrogenase%2C%20synthesizes%20glutamate%20from%20ammonia%20and%20alpha-ketoglutarate%3B%20rate%20of%20alpha-ketoglutarate%20utilization%20differs%20from%20Gdh1p%3B%20expression%20regulated%20by%20nitrogen%20and%20carbon%20sources;dbxref=SGD:S000000058;orf_classification=Verified\n",
      "CHRI\tSGD\tgene\t33449\t34702\t.\t+\t.\tID=YAL061W;Name=YAL061W;gene=BDH2;Alias=BDH2;Ontology_term=GO:0005634,GO:0005737,GO:0008150,GO:0016616;Note=Putative%20medium-chain%20alcohol%20dehydrogenase%20with%20similarity%20to%20BDH1%3B%20transcription%20induced%20by%20constitutively%20active%20PDR1%20and%20PDR3;dbxref=SGD:S000000057;orf_classification=Uncharacterized\n",
      "CHRI\tSGD\tCDS\t33449\t34702\t.\t+\t0\tParent=YAL061W;Name=YAL061W;gene=BDH2;Alias=BDH2;Ontology_term=GO:0005634,GO:0005737,GO:0008150,GO:0016616;Note=Putative%20medium-chain%20alcohol%20dehydrogenase%20with%20similarity%20to%20BDH1%3B%20transcription%20induced%20by%20constitutively%20active%20PDR1%20and%20PDR3;dbxref=SGD:S000000057;orf_classification=Uncharacterized\n",
      "CHRI\tSGD\tgene\t35156\t36304\t.\t+\t.\tID=YAL060W;Name=YAL060W;gene=BDH1;Alias=BDH1,BDH;Ontology_term=GO:0000721,GO:0005737,GO:0006066,GO:0034079;Note=NAD-dependent%20(R%2CR)-butanediol%20dehydrogenase%2C%20catalyzes%20oxidation%20of%20(R%2CR)-2%2C3-butanediol%20to%20(3R)-acetoin%2C%20oxidation%20of%20meso-butanediol%20to%20(3S)-acetoin%2C%20and%20reduction%20of%20acetoin%3B%20enhances%20use%20of%202%2C3-butanediol%20as%20an%20aerobic%20carbon%20source;dbxref=SGD:S000000056;orf_classification=Verified\n",
      "CHRI\tSGD\tCDS\t35156\t36304\t.\t+\t0\tParent=YAL060W;Name=YAL060W;gene=BDH1;Alias=BDH1,BDH;Ontology_term=GO:0000721,GO:0005737,GO:0006066,GO:0034079;Note=NAD-dependent%20(R%2CR)-butanediol%20dehydrogenase%2C%20catalyzes%20oxidation%20of%20(R%2CR)-2%2C3-butanediol%20to%20(3R)-acetoin%2C%20oxidation%20of%20meso-butanediol%20to%20(3S)-acetoin%2C%20and%20reduction%20of%20acetoin%3B%20enhances%20use%20of%202%2C3-butanediol%20as%20an%20aerobic%20carbon%20source;dbxref=SGD:S000000056;orf_classification=Verified\n",
      "CHRI\tSGD\tgene\t36497\t36919\t.\t-\t.\tID=YAL059C-A;Name=YAL059C-A;Ontology_term=GO:0003674,GO:0005575,GO:0008150;Note=Dubious%20open%20reading%20frame%20unlikely%20to%20encode%20a%20protein%2C%20based%20on%20available%20experimental%20and%20comparative%20sequence%20data%3B%20partially%20overlaps%20verified%20gene%20ECM1%2FYAL059W;dbxref=SGD:S000028734;orf_classification=Dubious\n",
      "CHRI\tSGD\tCDS\t36497\t36919\t.\t-\t0\tParent=YAL059C-A;Name=YAL059C-A;Ontology_term=GO:0003674,GO:0005575,GO:0008150;Note=Dubious%20open%20reading%20frame%20unlikely%20to%20encode%20a%20protein%2C%20based%20on%20available%20experimental%20and%20comparative%20sequence%20data%3B%20partially%20overlaps%20verified%20gene%20ECM1%2FYAL059W;dbxref=SGD:S000028734;orf_classification=Dubious\n",
      "CHRI\tSGD\tgene\t36510\t37148\t.\t+\t.\tID=YAL059W;Name=YAL059W;gene=ECM1;Alias=ECM1;Ontology_term=GO:0000055,GO:0003674,GO:0005634,GO:0005730,GO:0030687,GO:0031505;Note=Pre-ribosomal%20factor%20involved%20in%2060S%20ribosomal%20protein%20subunit%20export%3B%20associates%20with%20the%20pre-60S%20particle%3B%20shuttles%20between%20the%20nucleus%20and%20cytoplasm;dbxref=SGD:S000000055;orf_classification=Verified\n",
      "CHRI\tSGD\tCDS\t36510\t37148\t.\t+\t0\tParent=YAL059W;Name=YAL059W;gene=ECM1;Alias=ECM1;Ontology_term=GO:0000055,GO:0003674,GO:0005634,GO:0005730,GO:0030687,GO:0031505;Note=Pre-ribosomal%20factor%20involved%20in%2060S%20ribosomal%20protein%20subunit%20export%3B%20associates%20with%20the%20pre-60S%20particle%3B%20shuttles%20between%20the%20nucleus%20and%20cytoplasm;dbxref=SGD:S000000055;orf_classification=Verified\n",
      "CHRI\tSGD\tgene\t37465\t38973\t.\t+\t.\tID=YAL058W;Name=YAL058W;gene=CNE1;Alias=CNE1,FUN48;Ontology_term=GO:0006457,GO:0030176,GO:0030433,GO:0051082;Note=Calnexin%3B%20integral%20membrane%20ER%20chaperone%20involved%20in%20folding%20and%20quality%20control%20of%20glycoproteins%3B%20chaperone%20activity%20is%20inhibited%20by%20Mpd1p%2C%20with%20which%20Cne1p%20interacts%3B%2024%25%20identical%20to%20mammalian%20calnexin%3B%20Ca%2B%20binding%20not%20yet%20shown%20in%20yeast;dbxref=SGD:S000000054;orf_classification=Verified\n",
      "CHRI\tSGD\tCDS\t37465\t38973\t.\t+\t0\tParent=YAL058W;Name=YAL058W;gene=CNE1;Alias=CNE1,FUN48;Ontology_term=GO:0006457,GO:0030176,GO:0030433,GO:0051082;Note=Calnexin%3B%20integral%20membrane%20ER%20chaperone%20involved%20in%20folding%20and%20quality%20control%20of%20glycoproteins%3B%20chaperone%20activity%20is%20inhibited%20by%20Mpd1p%2C%20with%20which%20Cne1p%20interacts%3B%2024%25%20identical%20to%20mammalian%20calnexin%3B%20Ca%2B%20binding%20not%20yet%20shown%20in%20yeast;dbxref=SGD:S000000054;orf_classification=Verified\n",
      "CHRI\tSGD\tgene\t38697\t39047\t.\t-\t.\tID=YAL056C-A;Name=YAL056C-A;Alias=YAL058C-A;Ontology_term=GO:0003674,GO:0005575,GO:0008150;Note=Dubious%20open%20reading%20frame%20unlikely%20to%20encode%20a%20protein%2C%20based%20on%20available%20experimental%20and%20comparative%20sequence%20data;dbxref=SGD:S000002139;orf_classification=Dubious\n",
      "CHRI\tSGD\tCDS\t38697\t39047\t.\t-\t0\tParent=YAL056C-A;Name=YAL056C-A;Alias=YAL058C-A;Ontology_term=GO:0003674,GO:0005575,GO:0008150;Note=Dubious%20open%20reading%20frame%20unlikely%20to%20encode%20a%20protein%2C%20based%20on%20available%20experimental%20and%20comparative%20sequence%20data;dbxref=SGD:S000002139;orf_classification=Dubious\n",
      "CHRI\tSGD\tgene\t39260\t41902\t.\t+\t.\tID=YAL056W;Name=YAL056W;gene=GPB2;Alias=GPB2,KRH1;Ontology_term=GO:0001403,GO:0004862,GO:0004871,GO:0005737,GO:0005739,GO:0005886,GO:0007124,GO:0007165,GO:0010255,GO:0030437,GO:0032794,GO:0045944,GO:0046580;Note=Multistep%20regulator%20of%20cAMP-PKA%20signaling%3B%20inhibits%20PKA%20downstream%20of%20Gpa2p%20and%20Cyr1p%2C%20thereby%20increasing%20cAMP%20dependency%3B%20inhibits%20Ras%20activity%20through%20direct%20interactions%20with%20Ira1p%2F2p%3B%20regulated%20by%20G-alpha%20protein%20Gpa2p%3B%20homolog%20of%20Gpb1p;dbxref=SGD:S000000052;orf_classification=Verified\n",
      "CHRI\tSGD\tCDS\t39260\t41902\t.\t+\t0\tParent=YAL056W;Name=YAL056W;gene=GPB2;Alias=GPB2,KRH1;Ontology_term=GO:0001403,GO:0004862,GO:0004871,GO:0005737,GO:0005739,GO:0005886,GO:0007124,GO:0007165,GO:0010255,GO:0030437,GO:0032794,GO:0045944,GO:0046580;Note=Multistep%20regulator%20of%20cAMP-PKA%20signaling%3B%20inhibits%20PKA%20downstream%20of%20Gpa2p%20and%20Cyr1p%2C%20thereby%20increasing%20cAMP%20dependency%3B%20inhibits%20Ras%20activity%20through%20direct%20interactions%20with%20Ira1p%2F2p%3B%20regulated%20by%20G-alpha%20protein%20Gpa2p%3B%20homolog%20of%20Gpb1p;dbxref=SGD:S000000052;orf_classification=Verified\n",
      "CHRI\tSGD\tARS\t41809\t42183\t.\t.\t.\tID=ARS105;Name=ARS105;Alias=ARSI-42;Note=Autonomously%20Replicating%20Sequence;dbxref=SGD:S000121254\n",
      "CHRI\tSGD\tgene\t42178\t42720\t.\t+\t.\tID=YAL055W;Name=YAL055W;gene=PEX22;Alias=PEX22,YAF5;Ontology_term=GO:0005779,GO:0006625,GO:0016562,GO:0043495;Note=Putative%20peroxisomal%20membrane%20protein%20required%20for%20import%20of%20peroxisomal%20proteins%2C%20functionally%20complements%20a%20Pichia%20pastoris%20pex22%20mutation;dbxref=SGD:S000000051;orf_classification=Verified\n",
      "CHRI\tSGD\tCDS\t42178\t42720\t.\t+\t0\tParent=YAL055W;Name=YAL055W;gene=PEX22;Alias=PEX22,YAF5;Ontology_term=GO:0005779,GO:0006625,GO:0016562,GO:0043495;Note=Putative%20peroxisomal%20membrane%20protein%20required%20for%20import%20of%20peroxisomal%20proteins%2C%20functionally%20complements%20a%20Pichia%20pastoris%20pex22%20mutation;dbxref=SGD:S000000051;orf_classification=Verified\n",
      "CHRI\tSGD\tgene\t42882\t45023\t.\t-\t.\tID=YAL054C;Name=YAL054C;gene=ACS1;Alias=ACS1,FUN44;Ontology_term=GO:0003987,GO:0005739,GO:0005829,GO:0006085,GO:0016573,GO:0019654;Note=Acetyl-coA%20synthetase%20isoform%20which%2C%20along%20with%20Acs2p%2C%20is%20the%20nuclear%20source%20of%20acetyl-coA%20for%20histone%20acetlyation%3B%20expressed%20during%20growth%20on%20nonfermentable%20carbon%20sources%20and%20under%20aerobic%20conditions;dbxref=SGD:S000000050;orf_classification=Verified\n",
      "CHRI\tSGD\tCDS\t42882\t45023\t.\t-\t0\tParent=YAL054C;Name=YAL054C;gene=ACS1;Alias=ACS1,FUN44;Ontology_term=GO:0003987,GO:0005739,GO:0005829,GO:0006085,GO:0016573,GO:0019654;Note=Acetyl-coA%20synthetase%20isoform%20which%2C%20along%20with%20Acs2p%2C%20is%20the%20nuclear%20source%20of%20acetyl-coA%20for%20histone%20acetlyation%3B%20expressed%20during%20growth%20on%20nonfermentable%20carbon%20sources%20and%20under%20aerobic%20conditions;dbxref=SGD:S000000050;orf_classification=Verified\n",
      "CHRI\tSGD\tgene\t45900\t48251\t.\t+\t.\tID=YAL053W;Name=YAL053W;gene=FLC2;Alias=FLC2,HUF2;Ontology_term=GO:0005737,GO:0005783,GO:0006457,GO:0009272,GO:0015230,GO:0015883,GO:0055085;Note=Putative%20FAD%20transporter%3B%20required%20for%20uptake%20of%20FAD%20into%20endoplasmic%20reticulum%3B%20involved%20in%20cell%20wall%20maintenance;dbxref=SGD:S000000049;orf_classification=Verified\n",
      "CHRI\tSGD\tCDS\t45900\t48251\t.\t+\t0\tParent=YAL053W;Name=YAL053W;gene=FLC2;Alias=FLC2,HUF2;Ontology_term=GO:0005737,GO:0005783,GO:0006457,GO:0009272,GO:0015230,GO:0015883,GO:0055085;Note=Putative%20FAD%20transporter%3B%20required%20for%20uptake%20of%20FAD%20into%20endoplasmic%20reticulum%3B%20involved%20in%20cell%20wall%20maintenance;dbxref=SGD:S000000049;orf_classification=Verified\n",
      "CHRI\tSGD\tgene\t48565\t51708\t.\t+\t.\tID=YAL051W;Name=YAL051W;gene=OAF1;Alias=OAF1,YAF1;Ontology_term=GO:0003677,GO:0005634,GO:0006631,GO:0007031,GO:0016481,GO:0016563,GO:0043565,GO:0045941;Note=Oleate-activated%20transcription%20factor%2C%20acts%20alone%20and%20as%20a%20heterodimer%20with%20Pip2p%3B%20activates%20genes%20involved%20in%20beta-oxidation%20of%20fatty%20acids%20and%20peroxisome%20organization%20and%20biogenesis;dbxref=SGD:S000000048;orf_classification=Verified\n",
      "CHRI\tSGD\tCDS\t48565\t51708\t.\t+\t0\tParent=YAL051W;Name=YAL051W;gene=OAF1;Alias=OAF1,YAF1;Ontology_term=GO:0003677,GO:0005634,GO:0006631,GO:0007031,GO:0016481,GO:0016563,GO:0043565,GO:0045941;Note=Oleate-activated%20transcription%20factor%2C%20acts%20alone%20and%20as%20a%20heterodimer%20with%20Pip2p%3B%20activates%20genes%20involved%20in%20beta-oxidation%20of%20fatty%20acids%20and%20peroxisome%20organization%20and%20biogenesis;dbxref=SGD:S000000048;orf_classification=Verified\n",
      "CHRI\tSGD\tgene\t51856\t52596\t.\t-\t.\tID=YAL049C;Name=YAL049C;gene=AIM2;Alias=AIM2;Ontology_term=GO:0003674,GO:0005737,GO:0008150;Note=Cytoplasmic%20protein%20involved%20in%20mitochondrial%20function%20or%20organization%3B%20null%20mutant%20displays%20reduced%20frequency%20of%20mitochondrial%20genome%20loss%3B%20potential%20Hsp82p%20interactor;dbxref=SGD:S000000047;orf_classification=Verified\n",
      "CHRI\tSGD\tCDS\t51856\t52596\t.\t-\t0\tParent=YAL049C;Name=YAL049C;gene=AIM2;Alias=AIM2;Ontology_term=GO:0003674,GO:0005737,GO:0008150;Note=Cytoplasmic%20protein%20involved%20in%20mitochondrial%20function%20or%20organization%3B%20null%20mutant%20displays%20reduced%20frequency%20of%20mitochondrial%20genome%20loss%3B%20potential%20Hsp82p%20interactor;dbxref=SGD:S000000047;orf_classification=Verified\n",
      "CHRI\tSGD\tgene\t52802\t54790\t.\t-\t.\tID=YAL048C;Name=YAL048C;gene=GEM1;Alias=GEM1,GON1;Ontology_term=GO:0000001,GO:0003924,GO:0005739,GO:0005741,GO:0016192;Note=Evolutionarily-conserved%20tail-anchored%20outer%20mitochondrial%20membrane%20GTPase%20which%20regulates%20mitochondrial%20morphology%3B%20cells%20lacking%20Gem1p%20contain%20collapsed%2C%20globular%2C%20or%20grape-like%20mitochondria%3B%20not%20required%20for%20pheromone-induced%20cell%20death;dbxref=SGD:S000000046;orf_classification=Verified\n",
      "CHRI\tSGD\tCDS\t52802\t54790\t.\t-\t0\tParent=YAL048C;Name=YAL048C;gene=GEM1;Alias=GEM1,GON1;Ontology_term=GO:0000001,GO:0003924,GO:0005739,GO:0005741,GO:0016192;Note=Evolutionarily-conserved%20tail-anchored%20outer%20mitochondrial%20membrane%20GTPase%20which%20regulates%20mitochondrial%20morphology%3B%20cells%20lacking%20Gem1p%20contain%20collapsed%2C%20globular%2C%20or%20grape-like%20mitochondria%3B%20not%20required%20for%20pheromone-induced%20cell%20death;dbxref=SGD:S000000046;orf_classification=Verified\n",
      "CHRI\tSGD\tgene\t54585\t54914\t.\t+\t.\tID=YAL047W-A;Name=YAL047W-A;Ontology_term=GO:0003674,GO:0005575,GO:0008150;Note=Dubious%20open%20reading%20frame%20unlikely%20to%20encode%20a%20protein%2C%20based%20on%20available%20experimental%20and%20comparative%20sequence%20data;dbxref=SGD:S000028733;orf_classification=Dubious\n",
      "CHRI\tSGD\tCDS\t54585\t54914\t.\t+\t0\tParent=YAL047W-A;Name=YAL047W-A;Ontology_term=GO:0003674,GO:0005575,GO:0008150;Note=Dubious%20open%20reading%20frame%20unlikely%20to%20encode%20a%20protein%2C%20based%20on%20available%20experimental%20and%20comparative%20sequence%20data;dbxref=SGD:S000028733;orf_classification=Dubious\n",
      "CHRI\tSGD\tgene\t54990\t56858\t.\t-\t.\tID=YAL047C;Name=YAL047C;gene=SPC72;Alias=SPC72,LDB4;Ontology_term=GO:0000022,GO:0000070,GO:0005200,GO:0005824,GO:0007020,GO:0030473,GO:0031578;Note=Component%20of%20the%20cytoplasmic%20Tub4p%20(gamma-tubulin)%20complex%2C%20binds%20spindle%20pole%20bodies%20and%20links%20them%20to%20microtubules%3B%20has%20roles%20in%20astral%20microtubule%20formation%20and%20stabilization;dbxref=SGD:S000000045;orf_classification=Verified\n",
      "CHRI\tSGD\tCDS\t54990\t56858\t.\t-\t0\tParent=YAL047C;Name=YAL047C;gene=SPC72;Alias=SPC72,LDB4;Ontology_term=GO:0000022,GO:0000070,GO:0005200,GO:0005824,GO:0007020,GO:0030473,GO:0031578;Note=Component%20of%20the%20cytoplasmic%20Tub4p%20(gamma-tubulin)%20complex%2C%20binds%20spindle%20pole%20bodies%20and%20links%20them%20to%20microtubules%3B%20has%20roles%20in%20astral%20microtubule%20formation%20and%20stabilization;dbxref=SGD:S000000045;orf_classification=Verified\n",
      "CHRI\tSGD\tgene\t57030\t57386\t.\t-\t.\tID=YAL046C;Name=YAL046C;gene=AIM1;Alias=AIM1;Ontology_term=GO:0003674,GO:0005575,GO:0008150;Note=Protein%20involved%20in%20mitochondrial%20function%20or%20organization%3B%20null%20mutant%20displays%20elevated%20frequency%20of%20mitochondrial%20genome%20loss;dbxref=SGD:S000000044;orf_classification=Verified\n",
      "CHRI\tSGD\tCDS\t57030\t57386\t.\t-\t0\tParent=YAL046C;Name=YAL046C;gene=AIM1;Alias=AIM1;Ontology_term=GO:0003674,GO:0005575,GO:0008150;Note=Protein%20involved%20in%20mitochondrial%20function%20or%20organization%3B%20null%20mutant%20displays%20elevated%20frequency%20of%20mitochondrial%20genome%20loss;dbxref=SGD:S000000044;orf_classification=Verified\n",
      "CHRI\tSGD\tgene\t57489\t57797\t.\t-\t.\tID=YAL045C;Name=YAL045C;Ontology_term=GO:0003674,GO:0005575,GO:0008150;Note=Dubious%20open%20reading%20frame%20unlikely%20to%20encode%20a%20protein%2C%20based%20on%20available%20experimental%20and%20comparative%20sequence%20data%3B%20almost%20completely%20overlaps%20YAL044W-A;dbxref=SGD:S000000043;orf_classification=Dubious\n",
      "CHRI\tSGD\tCDS\t57489\t57797\t.\t-\t0\tParent=YAL045C;Name=YAL045C;Ontology_term=GO:0003674,GO:0005575,GO:0008150;Note=Dubious%20open%20reading%20frame%20unlikely%20to%20encode%20a%20protein%2C%20based%20on%20available%20experimental%20and%20comparative%20sequence%20data%3B%20almost%20completely%20overlaps%20YAL044W-A;dbxref=SGD:S000000043;orf_classification=Dubious\n",
      "CHRI\tSGD\tgene\t57519\t57851\t.\t+\t.\tID=YAL044W-A;Name=YAL044W-A;Ontology_term=GO:0003674,GO:0005575,GO:0008150;Note=Putative%20protein%20of%20unknown%20function%3B%20similar%20to%20S.%20pombe%20uvi31%20which%20is%20a%20putative%20DNA%20repair%20protein;dbxref=SGD:S000007586;orf_classification=Uncharacterized\n",
      "CHRI\tSGD\tCDS\t57519\t57851\t.\t+\t0\tParent=YAL044W-A;Name=YAL044W-A;Ontology_term=GO:0003674,GO:0005575,GO:0008150;Note=Putative%20protein%20of%20unknown%20function%3B%20similar%20to%20S.%20pombe%20uvi31%20which%20is%20a%20putative%20DNA%20repair%20protein;dbxref=SGD:S000007586;orf_classification=Uncharacterized\n",
      "CHRI\tSGD\tgene\t57951\t58463\t.\t-\t.\tID=YAL044C;Name=YAL044C;gene=GCV3;Alias=GCV3;Ontology_term=GO:0004375,GO:0005739,GO:0005960,GO:0006546,GO:0006730,GO:0009249;Note=H%20subunit%20of%20the%20mitochondrial%20glycine%20decarboxylase%20complex%2C%20required%20for%20the%20catabolism%20of%20glycine%20to%205%2C10-methylene-THF%3B%20also%20required%20for%20all%20protein%20lipoylation%3B%20expression%20is%20regulated%20by%20levels%20of%205%2C10-methylene-THF;dbxref=SGD:S000000042;orf_classification=Verified\n",
      "CHRI\tSGD\tCDS\t57951\t58463\t.\t-\t0\tParent=YAL044C;Name=YAL044C;gene=GCV3;Alias=GCV3;Ontology_term=GO:0004375,GO:0005739,GO:0005960,GO:0006546,GO:0006730,GO:0009249;Note=H%20subunit%20of%20the%20mitochondrial%20glycine%20decarboxylase%20complex%2C%20required%20for%20the%20catabolism%20of%20glycine%20to%205%2C10-methylene-THF%3B%20also%20required%20for%20all%20protein%20lipoylation%3B%20expression%20is%20regulated%20by%20levels%20of%205%2C10-methylene-THF;dbxref=SGD:S000000042;orf_classification=Verified\n",
      "CHRI\tSGD\tgene\t58696\t61053\t.\t-\t.\tID=YAL043C;Name=YAL043C;gene=PTA1;Alias=PTA1,FUN39;Ontology_term=GO:0003723,GO:0005847,GO:0005849,GO:0006378,GO:0006379,GO:0008033,GO:0030846,GO:0030847;Note=Subunit%20of%20holo-CPF%2C%20a%20multiprotein%20complex%20and%20functional%20homolog%20of%20mammalian%20CPSF%2C%20required%20for%20the%20cleavage%20and%20polyadenylation%20of%20mRNA%20and%20snoRNA%203'%20ends%3B%20involved%20in%20pre-tRNA%20processing%3B%20binds%20to%20the%20phosphorylated%20CTD%20of%20RNAPII;dbxref=SGD:S000000041;orf_classification=Verified\n",
      "CHRI\tSGD\tCDS\t58696\t61053\t.\t-\t0\tParent=YAL043C;Name=YAL043C;gene=PTA1;Alias=PTA1,FUN39;Ontology_term=GO:0003723,GO:0005847,GO:0005849,GO:0006378,GO:0006379,GO:0008033,GO:0030846,GO:0030847;Note=Subunit%20of%20holo-CPF%2C%20a%20multiprotein%20complex%20and%20functional%20homolog%20of%20mammalian%20CPSF%2C%20required%20for%20the%20cleavage%20and%20polyadenylation%20of%20mRNA%20and%20snoRNA%203'%20ends%3B%20involved%20in%20pre-tRNA%20processing%3B%20binds%20to%20the%20phosphorylated%20CTD%20of%20RNAPII;dbxref=SGD:S000000041;orf_classification=Verified\n",
      "CHRI\tSGD\tgene\t61232\t61609\t.\t-\t.\tID=YAL042C-A;Name=YAL042C-A;Alias=YAL043C-A;Ontology_term=GO:0003674,GO:0005575,GO:0008150;Note=Dubious%20open%20reading%20frame%20unlikely%20to%20encode%20a%20protein%2C%20based%20on%20available%20experimental%20and%20comparative%20sequence%20data%3B%20partially%20overlaps%20verified%20ORF%20ERV46%2FYAL042W%3B%20YAL042C-A%20is%20a%20non-essential%20gene;dbxref=SGD:S000002138;orf_classification=Dubious\n",
      "CHRI\tSGD\tCDS\t61232\t61609\t.\t-\t0\tParent=YAL042C-A;Name=YAL042C-A;Alias=YAL043C-A;Ontology_term=GO:0003674,GO:0005575,GO:0008150;Note=Dubious%20open%20reading%20frame%20unlikely%20to%20encode%20a%20protein%2C%20based%20on%20available%20experimental%20and%20comparative%20sequence%20data%3B%20partially%20overlaps%20verified%20ORF%20ERV46%2FYAL042W%3B%20YAL042C-A%20is%20a%20non-essential%20gene;dbxref=SGD:S000002138;orf_classification=Dubious\n",
      "CHRI\tSGD\tgene\t61317\t62564\t.\t+\t.\tID=YAL042W;Name=YAL042W;gene=ERV46;Alias=ERV46,FUN9;Ontology_term=GO:0003674,GO:0006888,GO:0030134,GO:0030173,GO:0030176;Note=Protein%20localized%20to%20COPII-coated%20vesicles%2C%20forms%20a%20complex%20with%20Erv41p%3B%20involved%20in%20the%20membrane%20fusion%20stage%20of%20transport;dbxref=SGD:S000000040;orf_classification=Verified\n",
      "CHRI\tSGD\tCDS\t61317\t62564\t.\t+\t0\tParent=YAL042W;Name=YAL042W;gene=ERV46;Alias=ERV46,FUN9;Ontology_term=GO:0003674,GO:0006888,GO:0030134,GO:0030173,GO:0030176;Note=Protein%20localized%20to%20COPII-coated%20vesicles%2C%20forms%20a%20complex%20with%20Erv41p%3B%20involved%20in%20the%20membrane%20fusion%20stage%20of%20transport;dbxref=SGD:S000000040;orf_classification=Verified\n",
      "CHRI\tSGD\tgene\t62841\t65405\t.\t+\t.\tID=YAL041W;Name=YAL041W;gene=CDC24;Alias=CDC24,CLS4;Ontology_term=GO:0000131,GO:0000750,GO:0000753,GO:0001403,GO:0005089,GO:0005634,GO:0005737,GO:0005934,GO:0005935,GO:0006033,GO:0007096,GO:0007118,GO:0007119,GO:0007124,GO:0007264,GO:0030010,GO:0043332;Note=Guanine%20nucleotide%20exchange%20factor%20(GEF%20or%20GDP-release%20factor)%20for%20Cdc42p%3B%20required%20for%20polarity%20establishment%20and%20maintenance%2C%20and%20mutants%20have%20morphological%20defects%20in%20bud%20formation%20and%20shmooing;dbxref=SGD:S000000039;orf_classification=Verified\n",
      "CHRI\tSGD\tCDS\t62841\t65405\t.\t+\t0\tParent=YAL041W;Name=YAL041W;gene=CDC24;Alias=CDC24,CLS4;Ontology_term=GO:0000131,GO:0000750,GO:0000753,GO:0001403,GO:0005089,GO:0005634,GO:0005737,GO:0005934,GO:0005935,GO:0006033,GO:0007096,GO:0007118,GO:0007119,GO:0007124,GO:0007264,GO:0030010,GO:0043332;Note=Guanine%20nucleotide%20exchange%20factor%20(GEF%20or%20GDP-release%20factor)%20for%20Cdc42p%3B%20required%20for%20polarity%20establishment%20and%20maintenance%2C%20and%20mutants%20have%20morphological%20defects%20in%20bud%20formation%20and%20shmooing;dbxref=SGD:S000000039;orf_classification=Verified\n",
      "CHRI\tlandmark\tregion\t65779\t67521\t.\t-\t.\tID=CLN3\n",
      "CHRI\tSGD\tgene\t65779\t67521\t.\t-\t.\tID=YAL040C;Name=YAL040C;gene=CLN3;Alias=CLN3,DAF1,FUN10,WHI1;Ontology_term=GO:0000079,GO:0000082,GO:0000083,GO:0005634,GO:0007033,GO:0008361,GO:0016538,GO:0042144;Note=G1%20cyclin%20involved%20in%20cell%20cycle%20progression%3B%20activates%20Cdc28p%20kinase%20to%20promote%20the%20G1%20to%20S%20phase%20transition%3B%20plays%20a%20role%20in%20regulating%20transcription%20of%20the%20other%20G1%20cyclins%2C%20CLN1%20and%20CLN2%3B%20regulated%20by%20phosphorylation%20and%20proteolysis;dbxref=SGD:S000000038;orf_classification=Verified\n",
      "CHRI\tSGD\tCDS\t65779\t67521\t.\t-\t0\tParent=YAL040C;Name=YAL040C;gene=CLN3;Alias=CLN3,DAF1,FUN10,WHI1;Ontology_term=GO:0000079,GO:0000082,GO:0000083,GO:0005634,GO:0007033,GO:0008361,GO:0016538,GO:0042144;Note=G1%20cyclin%20involved%20in%20cell%20cycle%20progression%3B%20activates%20Cdc28p%20kinase%20to%20promote%20the%20G1%20to%20S%20phase%20transition%3B%20plays%20a%20role%20in%20regulating%20transcription%20of%20the%20other%20G1%20cyclins%2C%20CLN1%20and%20CLN2%3B%20regulated%20by%20phosphorylation%20and%20proteolysis;dbxref=SGD:S000000038;orf_classification=Verified\n",
      "CHRI\tSGD\tgene\t68717\t69526\t.\t-\t.\tID=YAL039C;Name=YAL039C;gene=CYC3;Alias=CYC3;Ontology_term=GO:0004408,GO:0005739,GO:0005758,GO:0018063;Note=CytoCHRome%20c%20heme%20lyase%20(holocytoCHRome%20c%20synthase)%2C%20attaches%20heme%20to%20apo-cytoCHRome%20c%20(Cyc1p%20or%20Cyc7p)%20in%20the%20mitochondrial%20intermembrane%20space%3B%20human%20ortholog%20may%20have%20a%20role%20in%20microphthalmia%20with%20linear%20skin%20defects%20(MLS);dbxref=SGD:S000000037;orf_classification=Verified\n",
      "CHRI\tSGD\tCDS\t68717\t69526\t.\t-\t0\tParent=YAL039C;Name=YAL039C;gene=CYC3;Alias=CYC3;Ontology_term=GO:0004408,GO:0005739,GO:0005758,GO:0018063;Note=CytoCHRome%20c%20heme%20lyase%20(holocytoCHRome%20c%20synthase)%2C%20attaches%20heme%20to%20apo-cytoCHRome%20c%20(Cyc1p%20or%20Cyc7p)%20in%20the%20mitochondrial%20intermembrane%20space%3B%20human%20ortholog%20may%20have%20a%20role%20in%20microphthalmia%20with%20linear%20skin%20defects%20(MLS);dbxref=SGD:S000000037;orf_classification=Verified\n",
      "CHRI\tSGD\tARS\t70258\t70490\t.\t.\t.\tID=ARS106;Name=ARS106;Alias=ARSI-70;Note=Autonomously%20Replicating%20Sequence;dbxref=SGD:S000118318\n",
      "CHRI\tSGD\tgene\t71787\t73289\t.\t+\t.\tID=YAL038W;Name=YAL038W;gene=CDC19;Alias=CDC19,PYK1;Ontology_term=GO:0001950,GO:0004743,GO:0005829,GO:0006090,GO:0006096;Note=Pyruvate%20kinase%2C%20functions%20as%20a%20homotetramer%20in%20glycolysis%20to%20convert%20phosphoenolpyruvate%20to%20pyruvate%2C%20the%20input%20for%20aerobic%20(TCA%20cycle)%20or%20anaerobic%20(glucose%20fermentation)%20respiration;dbxref=SGD:S000000036;orf_classification=Verified\n",
      "CHRI\tSGD\tCDS\t71787\t73289\t.\t+\t0\tParent=YAL038W;Name=YAL038W;gene=CDC19;Alias=CDC19,PYK1;Ontology_term=GO:0001950,GO:0004743,GO:0005829,GO:0006090,GO:0006096;Note=Pyruvate%20kinase%2C%20functions%20as%20a%20homotetramer%20in%20glycolysis%20to%20convert%20phosphoenolpyruvate%20to%20pyruvate%2C%20the%20input%20for%20aerobic%20(TCA%20cycle)%20or%20anaerobic%20(glucose%20fermentation)%20respiration;dbxref=SGD:S000000036;orf_classification=Verified\n",
      "CHRI\tSGD\tgene\t72327\t73301\t.\t-\t.\tID=YAL037C-B;Name=YAL037C-B;Ontology_term=GO:0003674,GO:0005575,GO:0008150;Note=Dubious%20open%20reading%20frame%20unlikely%20to%20encode%20a%20protein%3B%20identified%20by%20gene-trapping%2C%20microarray-based%20expression%20analysis%2C%20and%20genome-wide%20homology%20searching;dbxref=SGD:S000028592;orf_classification=Dubious\n",
      "CHRI\tSGD\tCDS\t72327\t73301\t.\t-\t0\tParent=YAL037C-B;Name=YAL037C-B;Ontology_term=GO:0003674,GO:0005575,GO:0008150;Note=Dubious%20open%20reading%20frame%20unlikely%20to%20encode%20a%20protein%3B%20identified%20by%20gene-trapping%2C%20microarray-based%20expression%20analysis%2C%20and%20genome-wide%20homology%20searching;dbxref=SGD:S000028592;orf_classification=Dubious\n",
      "CHRI\tSGD\tgene\t73427\t73519\t.\t-\t.\tID=YAL037C-A;Name=YAL037C-A;Ontology_term=GO:0003674,GO:0005575,GO:0008150;Note=Putative%20protein%20of%20unknown%20function;dbxref=SGD:S000028732;orf_classification=Uncharacterized\n",
      "CHRI\tSGD\tCDS\t73427\t73519\t.\t-\t0\tParent=YAL037C-A;Name=YAL037C-A;Ontology_term=GO:0003674,GO:0005575,GO:0008150;Note=Putative%20protein%20of%20unknown%20function;dbxref=SGD:S000028732;orf_classification=Uncharacterized\n",
      "CHRI\tSGD\tgene\t74021\t74824\t.\t+\t.\tID=YAL037W;Name=YAL037W;Ontology_term=GO:0003674,GO:0005575,GO:0008150;Note=Putative%20protein%20of%20unknown%20function;dbxref=SGD:S000000035;orf_classification=Uncharacterized\n",
      "CHRI\tSGD\tCDS\t74021\t74824\t.\t+\t0\tParent=YAL037W;Name=YAL037W;Ontology_term=GO:0003674,GO:0005575,GO:0008150;Note=Putative%20protein%20of%20unknown%20function;dbxref=SGD:S000000035;orf_classification=Uncharacterized\n",
      "CHRI\tSGD\tgene\t75044\t76153\t.\t-\t.\tID=YAL036C;Name=YAL036C;gene=RBG1;Alias=RBG1,FUN11;Ontology_term=GO:0005525,GO:0005737,GO:0005844,GO:0008150;Note=Member%20of%20the%20DRG%20family%20of%20GTP-binding%20proteins%3B%20associates%20with%20translating%20ribosomes%3B%20interacts%20with%20Tma46p%2C%20Ygr250cp%2C%20Gir2p%20and%20Yap1p%20via%20two-hybrid;dbxref=SGD:S000000034;orf_classification=Verified\n"
     ]
    }
   ],
   "source": [
    "import sys\n",
    "import re\n",
    "\n",
    "IN = open(\"top100lines_yeast_genome.gff\", 'r')\n",
    "OUT = open(\"CHR1_5_ygenome.txt\", 'w')\n",
    "\n",
    "for Line in IN:\n",
    "    Line = Line.strip('\\n')\n",
    "    RLine = re.sub('chr','CHR', Line)\n",
    "    print(RLine)\n",
    "\n",
    "if re.search('CHRI|CHRV', RLine):\n",
    "    OUT.write(RLine + \"\\n\")"
   ]
  },
  {
   "cell_type": "code",
   "execution_count": null,
   "id": "480f1c3c",
   "metadata": {},
   "outputs": [],
   "source": []
  },
  {
   "cell_type": "code",
   "execution_count": null,
   "id": "f1b392e3",
   "metadata": {},
   "outputs": [],
   "source": []
  },
  {
   "cell_type": "code",
   "execution_count": null,
   "id": "d25b89f4",
   "metadata": {},
   "outputs": [],
   "source": []
  }
 ],
 "metadata": {
  "kernelspec": {
   "display_name": "Python 3 (ipykernel)",
   "language": "python",
   "name": "python3"
  },
  "language_info": {
   "codemirror_mode": {
    "name": "ipython",
    "version": 3
   },
   "file_extension": ".py",
   "mimetype": "text/x-python",
   "name": "python",
   "nbconvert_exporter": "python",
   "pygments_lexer": "ipython3",
   "version": "3.11.5"
  }
 },
 "nbformat": 4,
 "nbformat_minor": 5
}
