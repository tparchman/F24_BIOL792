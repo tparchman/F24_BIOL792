{
 "cells": [
  {
   "cell_type": "markdown",
   "id": "bba64d9d",
   "metadata": {},
   "source": [
    "# Getting started with Python \n",
    "\n",
    "## Topics to cover\n",
    "- installing/updating python\n",
    "- writing your first python script(s), `print` statements\n",
    "- working with strings and integers\n",
    "- controlling float precision\n",
    "- using the interactive prompt to test code in the terminal\n",
    "- `help()` and `dir()`\n",
    "- Haddock and Dunn chapter 8, and first half of chapter 9\n",
    "\n",
    "# 1. Installing/updating to python 3 current version\n",
    "As we did with Unix, we are going to start slow and basic, ramping up as the weeks go on. First we are going to make sure everyone has the most recent version of Python installed. While doing this, we are going to take a slight detour to learn how incredibly easy it can be to download and install packages for Unix commands or programs that are not installed in the base system. For this, we will demonstrate the use of `brew`, which is command line utility for locating, downloading, and installing Unix packages on Mac computers.\n",
    "\n",
    "First check to see if you have python3 installed.  Open the shell and type\n",
    "\n",
    "    $ python --version\n",
    "\n",
    "If you get anyting that looks like version 2 not 3 or if you get an error that you dont have python. Then you will need to install version 3.\n",
    "\n",
    "\n",
    "## Installing or updating Python on Mac Unix using homebrew\n",
    "\n",
    "If you have already installed Homebrew - you dont need to do this. Check if you have it:\n",
    "\n",
    "    $ which brew\n",
    "  \n",
    "If you dont have it, then:\n",
    "\n",
    "    $ /usr/bin/ruby -e \"$(curl -fsSL https://raw.githubusercontent.com/Homebrew/install/master/install)\"\n",
    "\n",
    "Then install python3 \n",
    "\n",
    "    $ brew install python3\n",
    "\n",
    "\n",
    "### Python downloads, also useful potentially \n",
    "Go to python.org and download the latest release\n",
    "\n",
    "    https://www.python.org/downloads/mac-osx\n",
    "\n",
    "\n",
    "## Ubuntu\n",
    "It is probably already installed but if not try with the package manager `apt-get`\n",
    "\n",
    "    $ sudo apt-get install python idle\n",
    "\t\n",
    "# 2. Writing your first python program\n",
    "\n",
    "As with shell scripts, the first line of python scripts should be the shebang followed by the location of python:\n",
    "\n",
    "    #!/usr/local/bin/python3\n",
    "\n",
    "If you are unsure where you installed python3, you can easily figure out where it is:\n",
    "\n",
    "    $ which python3\n",
    "\n",
    "\n",
    "As covered in Haddock and Dunn, pg 127, you can also use the below as your first line. This allows you to send script to `env` first, which should then locate python3, wherever it resides.\n",
    "\n",
    "    #!/usr/bin/env python3\n",
    "\n",
    "Either of the above will do, and are important **IF** or when you wish to convert your scripts to executable. If you want to do this, change the file mode: \n",
    "\n",
    "    $ chmod u+x first_python.py\n",
    "\n",
    "And run as follows:\n",
    "\n",
    "    $ ./first_python.py\n",
    "\n",
    "## Your first simple program, using a `print` statement.\n",
    "\n",
    "Sending information from your python scripts to stdout is accomplished with the `print` statement. Our first script will simply illustrate how we print specified text, and will serve to convince you that this might not be as hard as you thought it was. Use `touch` to make a blank text file, but give it a `.py` extension as is customary for python scripts. This script needs only two simple parts. First, your customary first line that should go in all of your scripts, which should be:\n",
    "\n",
    "    #!/usr/bin/env python3\n",
    "Or the path to the specific location where python lives:\n",
    "\n",
    "    #!/usr/local/bin/python3\n",
    "\n",
    "To illustrate the use of `comment` text, marked with `#`, lets add a comment that is for you to read, not python. \n",
    "\n",
    "    #this is a comment: testing my first program with a simple print statement\n",
    "\n",
    "Note the line above will not be part of the interpreted code. Instead, you can make use of `#` to leave annotations for yourself or others in your code to explain what you are doing.\n",
    "\n",
    "Now lets add a print statement:\n",
    "\n",
    "    print (\"Im ready to learn python, and this is my first step\")\n",
    "\n",
    "You can now run your program in two ways. Simply (which we strongly recommend for this class):\n",
    "\n",
    "    $ python3 first_script.py \n",
    "\n",
    "Or, change to executable, then run:\n",
    "\n",
    "    $ chmod u+x first_script.py\n",
    "    $ ./first_script.py\n",
    "\n",
    "If all is in order, \"Im ready to learn python, and this is my first step should print to the screen\", and you are ready for more.\n",
    "\n",
    "# `#`: comment character, annotating your code.\n",
    "Anytime you use `#`, the rest of the line will be 'commented out'. This means python won't interpret what you write, and that you can write notes or annotations on what your code is doing, to help yourself and others. Make heavy use of this, and when you go back to old or strange code, you will know why you did what you did. When others make good use of this, you can learn more about why/how they did what they did. Use `#` frequently, especially in the early phases of learning python.\n",
    "\n",
    "In example code below and in other primers, I have put comments to describe some code using `#`.\n",
    "\n",
    "    print (\"This is python code\")  # this is a comment to describe the left\n",
    "\n",
    "    #Another commment, uses the whole line, maybe describes code below/above.\n",
    "\n"
   ]
  },
  {
   "cell_type": "markdown",
   "id": "770062ff",
   "metadata": {},
   "source": [
    "# 3. Working with scalars (strings, integers, floats, etc.)\n",
    "Chapter 8 of Haddock and Dunn does a nice job of walking you through a script that codes and performs various actions on strings and integers (both types of scalar variables). Lets use that example to cover a few aspects of working with strings and integers in python, including:\n",
    "\n",
    "- some useful functions \n",
    "- built-in string functions\n",
    "- basic mathematical operations\n",
    "- using the interactive prompt to test simple code, get help, etc. (`help()`, `dir()`)\n",
    "- controlling string formatting with `%`\n",
    "- specifying raw input from the command line (`raw_input()`)\n",
    "\n",
    "\n",
    "## 3A. Strings \n",
    "Strings can be specified and assigned easily within scripts as below. Note that \" or ' can be used to enclose strings, and strings not enclosed will return undefined. Note for these examples, working from the python interactive prompt or using the Ipy terminal application within anaconda navigator will allow you to test and play accordingly."
   ]
  },
  {
   "cell_type": "code",
   "execution_count": 1,
   "id": "9584992c",
   "metadata": {},
   "outputs": [],
   "source": [
    "Team = \"lakers\"\n",
    "Seq_one = \"actgaaa\"\n",
    "Seq_two = \"ATCGAA\"\n",
    "Seq3 = 'atcGGGC'"
   ]
  },
  {
   "cell_type": "markdown",
   "id": "4512e6e6",
   "metadata": {},
   "source": [
    "Strings can be concatenated with `+`:\n"
   ]
  },
  {
   "cell_type": "code",
   "execution_count": 2,
   "id": "66a280fd",
   "metadata": {},
   "outputs": [
    {
     "name": "stdout",
     "output_type": "stream",
     "text": [
      "concatenation example:  actgaaaATCGAA\n"
     ]
    }
   ],
   "source": [
    "Seq_one_two = Seq_one + Seq_two\n",
    "print(\"concatenation example: \", Seq_one_two)"
   ]
  },
  {
   "cell_type": "markdown",
   "id": "c0bcdee0",
   "metadata": {},
   "source": [
    "Strings can be repeated with `*`:\n"
   ]
  },
  {
   "cell_type": "code",
   "execution_count": 3,
   "id": "8506b4a6",
   "metadata": {},
   "outputs": [
    {
     "name": "stdout",
     "output_type": "stream",
     "text": [
      "repeat by multiplier example:  actgaaaactgaaaactgaaa\n"
     ]
    }
   ],
   "source": [
    "Seq_one_times3 = Seq_one * 3\n",
    "print(\"repeat by multiplier example: \", Seq_one_times3)"
   ]
  },
  {
   "cell_type": "markdown",
   "id": "8fbb063d",
   "metadata": {},
   "source": [
    "Python has a diverse array of string methods, or functions, that allow efficient work with strings. A few examples below illustrate the syntax for using these methods. \n",
    "\n",
    "For the example syntax below, `str` represents a generic string variable name, the function name occurs after the `.`, and `()` are either left empty or are used to pass additional arguments to the function. \n",
    "\n",
    "Functions will return a value. This value will be sent to STDOUT, or more usefull, can be saved as a variable.\n",
    "\n",
    "`str.upper()` will convert string to uppercase. "
   ]
  },
  {
   "cell_type": "code",
   "execution_count": 50,
   "id": "686fa204",
   "metadata": {},
   "outputs": [
    {
     "data": {
      "text/plain": [
       "'ACTGAAA'"
      ]
     },
     "execution_count": 50,
     "metadata": {},
     "output_type": "execute_result"
    }
   ],
   "source": [
    "Seq_one.upper()"
   ]
  },
  {
   "cell_type": "code",
   "execution_count": 49,
   "id": "f2e39c71",
   "metadata": {},
   "outputs": [
    {
     "name": "stdout",
     "output_type": "stream",
     "text": [
      "ACTGAAA\n"
     ]
    }
   ],
   "source": [
    "Seq_one_big = Seq_one.upper()\n",
    "print(Seq_one_big)"
   ]
  },
  {
   "cell_type": "markdown",
   "id": "296aef2f",
   "metadata": {},
   "source": [
    "`str.lower()` will convert string to lowercase:\n"
   ]
  },
  {
   "cell_type": "code",
   "execution_count": 51,
   "id": "efe870d3",
   "metadata": {},
   "outputs": [
    {
     "name": "stdout",
     "output_type": "stream",
     "text": [
      "actgaaa\n"
     ]
    }
   ],
   "source": [
    "Seq_one_lower = Seq_one_big.lower()\n",
    "print(Seq_one_lower)"
   ]
  },
  {
   "cell_type": "markdown",
   "id": "bbf9008e",
   "metadata": {},
   "source": [
    "`str.replace()` will replace a specified character with a different specified character (below will replace a with g):"
   ]
  },
  {
   "cell_type": "code",
   "execution_count": 6,
   "id": "b666b1dd",
   "metadata": {},
   "outputs": [
    {
     "name": "stdout",
     "output_type": "stream",
     "text": [
      "Use of str.replace:  gctgggg\n"
     ]
    }
   ],
   "source": [
    "NewSeq_one = Seq_one.replace(\"a\",\"g\")\n",
    "print (\"Use of str.replace: \", NewSeq_one)"
   ]
  },
  {
   "cell_type": "markdown",
   "id": "a34cbcc9",
   "metadata": {},
   "source": [
    " `str.count()` will return a count of occurences for a specific character:"
   ]
  },
  {
   "cell_type": "code",
   "execution_count": 7,
   "id": "41d2fef9",
   "metadata": {},
   "outputs": [
    {
     "name": "stdout",
     "output_type": "stream",
     "text": [
      "Use of str.count:  4\n"
     ]
    }
   ],
   "source": [
    "Counta_Seq_one = Seq_one.count(\"a\")\n",
    "print (\"Use of str.count: \", Counta_Seq_one) "
   ]
  },
  {
   "cell_type": "markdown",
   "id": "2d229609",
   "metadata": {},
   "source": [
    "`str.isalnum()` will return *True* if all characters are alphanumeric, *False* if not."
   ]
  },
  {
   "cell_type": "code",
   "execution_count": 8,
   "id": "39cddaba",
   "metadata": {},
   "outputs": [
    {
     "name": "stdout",
     "output_type": "stream",
     "text": [
      "Use of str.alnum:  True\n"
     ]
    }
   ],
   "source": [
    "Seq_one_alphanum_test = Seq_one.isalnum()\n",
    "print (\"Use of str.alnum: \", Seq_one_alphanum_test)"
   ]
  },
  {
   "cell_type": "markdown",
   "id": "893e8a04",
   "metadata": {},
   "source": [
    "## 3B. Basic mathematical operations\n",
    "Basic mathematical operations work mostly as expected, and can be usefully tested using interactive prompt from the terminal or the Ipy terminal prompt (see below).  \n",
    "\n",
    "\n",
    "| Arithmetic | Operators |\n",
    "| ----------- | --------- |\n",
    "| +  |  Addition |\n",
    "| - |   Subtraction |\n",
    "| * |   Multiplication |\n",
    "| / |   Division |\n",
    "| // |  Floor Division |\n",
    "| % |   Modulo |\n",
    "| ** |   Power |\n",
    "\n",
    "\n",
    "\n",
    "Comparison operators, such as those listed below, can return boolean values in some statements (True or False; 1 or 0). You will find yourself making regular use of these in conditional statements, such as `if`, `if else`, etc.\n",
    "\n",
    "| Comparison | Operators |\n",
    "|---------- | ---------- |\n",
    "|==  | Equal To |\n",
    "|>   | Greater Than |\n",
    "|>=  | Greater Than or Equal To |\n",
    "|<   | Less Than |\n",
    "|<=  | Less Than or Equal To |\n",
    "|!=  | Not Equal |\n",
    "\n",
    "<p>&nbsp;</p>\n",
    "\n",
    "Most basic mathematical operations work in an unsurprsing manner."
   ]
  },
  {
   "cell_type": "code",
   "execution_count": 9,
   "id": "99db4a7e",
   "metadata": {},
   "outputs": [
    {
     "name": "stdout",
     "output_type": "stream",
     "text": [
      "12 35 -2 0.7142857142857143 2\n"
     ]
    }
   ],
   "source": [
    "Num1 = 5\n",
    "Num2 = 7\n",
    "Sum = Num1 + Num2\n",
    "Prod = Num1 * Num2\n",
    "Dif = Num1 - Num2\n",
    "Div = Num1 / Num2\n",
    "Mod = Num2 % Num1\n",
    "print (Sum, Prod, Dif, Div, Mod)"
   ]
  },
  {
   "cell_type": "markdown",
   "id": "f65ffdbd",
   "metadata": {},
   "source": [
    "If you use the code above in a script, or more efficiently, test it out with the interactive prompt (see below), the print statement should illustrate teh expected behavior of the math statements above. **Note that \"Div\" (5/7) returns a float with many digits past the decimal (0.7142857142857143). This is an overkill level of precision for some uses, and you will often want to control float precision for tidiness.** We will cover that type of control below.\n",
    "\n",
    "\n",
    "# 4. Strings, Scalars, and Integers. How to specify, how to know what a scalar variable is.\n",
    "\n",
    "## 4A. Checking variables\n",
    "If you arent sure whether a variable is an integer, string, or float, you can easily check using the `type()` function.\n"
   ]
  },
  {
   "cell_type": "code",
   "execution_count": 13,
   "id": "e6b1e815",
   "metadata": {},
   "outputs": [
    {
     "data": {
      "text/plain": [
       "float"
      ]
     },
     "execution_count": 13,
     "metadata": {},
     "output_type": "execute_result"
    }
   ],
   "source": [
    "Var = 1.2\n",
    "type(Var)   "
   ]
  },
  {
   "cell_type": "code",
   "execution_count": 14,
   "id": "0e1a3cba",
   "metadata": {},
   "outputs": [
    {
     "data": {
      "text/plain": [
       "int"
      ]
     },
     "execution_count": 14,
     "metadata": {},
     "output_type": "execute_result"
    }
   ],
   "source": [
    "Var = 12\n",
    "type(Var)  "
   ]
  },
  {
   "cell_type": "code",
   "execution_count": 15,
   "id": "b75bccf7",
   "metadata": {},
   "outputs": [
    {
     "data": {
      "text/plain": [
       "str"
      ]
     },
     "execution_count": 15,
     "metadata": {},
     "output_type": "execute_result"
    }
   ],
   "source": [
    "Seq = 'atcgaaa'\n",
    "type(Seq)   "
   ]
  },
  {
   "cell_type": "markdown",
   "id": "33028061",
   "metadata": {},
   "source": [
    "If you want to change among variables, you have some options with the `float`, `int`, and `str` functions."
   ]
  },
  {
   "cell_type": "code",
   "execution_count": 17,
   "id": "2ab7441e",
   "metadata": {},
   "outputs": [
    {
     "data": {
      "text/plain": [
       "str"
      ]
     },
     "execution_count": 17,
     "metadata": {},
     "output_type": "execute_result"
    }
   ],
   "source": [
    "Var = 1.2\n",
    "Svar = str(Var)     \n",
    "type(Svar)"
   ]
  },
  {
   "cell_type": "code",
   "execution_count": 18,
   "id": "dcc6cbfc",
   "metadata": {},
   "outputs": [
    {
     "data": {
      "text/plain": [
       "float"
      ]
     },
     "execution_count": 18,
     "metadata": {},
     "output_type": "execute_result"
    }
   ],
   "source": [
    "Nvar = float(Svar)\n",
    "type(Nvar)"
   ]
  },
  {
   "cell_type": "markdown",
   "id": "d867d32d",
   "metadata": {},
   "source": [
    "## 4B. `%` operator: controlling format of scalars in print statements \n",
    "\n",
    "### In print statements, the first `%` is used as a placeholder that denotes what type of variable is to be specified:  %d for integer, %f for float, and %s for string. After the quoted statement, the second `%` is used before the variabe name is provided in (). %f is also used to specify the number of digits after a decimal (see below).\n",
    "\n",
    "Have a look at the examples in Haddock and Dunn. Here are a few more. The first uses a string assigned to the variable name within the print statement."
   ]
  },
  {
   "cell_type": "code",
   "execution_count": 19,
   "id": "7492cee9",
   "metadata": {},
   "outputs": [
    {
     "name": "stdout",
     "output_type": "stream",
     "text": [
      "38 points, 10 assists, 16 rebounds for Lebron\n"
     ]
    }
   ],
   "source": [
    "Name='Lebron'\n",
    "print(\"38 points, 10 assists, 16 rebounds for %s\" %(Name))"
   ]
  },
  {
   "cell_type": "markdown",
   "id": "7214a239",
   "metadata": {},
   "source": [
    "The example below stores three integers. They are each separately printed within quotes in the print statement, using `%d` notation for each. Note, that the order of those variables is then "
   ]
  },
  {
   "cell_type": "code",
   "execution_count": 20,
   "id": "9322d59c",
   "metadata": {},
   "outputs": [
    {
     "name": "stdout",
     "output_type": "stream",
     "text": [
      "38 points, 10 assists, 16 rebounds for Lebron\n"
     ]
    }
   ],
   "source": [
    "P=38\n",
    "A=10\n",
    "R=16\n",
    "print(\"%d points, %d assists, %d rebounds for Lebron\" %(P, A, R))"
   ]
  },
  {
   "cell_type": "markdown",
   "id": "5036c69f",
   "metadata": {},
   "source": [
    "In python, floats can be represented with full precision, or controlled to a set number of positions. The latter will often be desirable to keep things tidy. The statements below will print 0.6666666666666666."
   ]
  },
  {
   "cell_type": "code",
   "execution_count": 21,
   "id": "bc88dcdd",
   "metadata": {},
   "outputs": [
    {
     "name": "stdout",
     "output_type": "stream",
     "text": [
      "2/3 should equal roughly 0.667\n"
     ]
    }
   ],
   "source": [
    "Prod = 2/3\n",
    "print (\"2/3 should equal roughly %.3f\" % (Prod))"
   ]
  },
  {
   "cell_type": "markdown",
   "id": "fc5029e9",
   "metadata": {},
   "source": [
    "## 5. Using the interactive prompt to test statements or blocks of code outside of your scripts, and/or to get help (`help()`, `dir()`)\n",
    "\n",
    "### 5A. A useful feature of python is the interactive prompt, which you can invoke by simply typing python (or python3, depending on your set up), as below.\n",
    "\n",
    "    [tparchman@Thomass-MacBook-Pro python1]$ python\n",
    "    Python 3.8.5 (default, Aug 16 2020, 12:28:59) \n",
    "    [Clang 9.0.0 (clang-900.0.39.2)] on darwin\n",
    "    Type \"help\", \"copyright\", \"credits\" or \"license\" for more information.\n",
    "    >>> \n",
    "\n",
    " You can usefully use the interactive prompt to test statements or operations while you are writing scripts. Some find it useful to keep the interactive prompt open next to their text editors while writing python code (Haddock and Dunn page ). Follow the example below, which demonstrates the use of +=.  \n",
    "\n",
    "    >>> a = 7\n",
    "    >>> a += 7\n",
    "    >>> a\n",
    "    14  \n",
    "\n",
    "Here is another example, where I am demonstrating string assignment, and the use of `str.replace`:\n",
    "\n",
    "    >>> Seq='ATCGGGGGGG'\n",
    "    >>> Rep_Seq = Seq.replace('G','T')\n",
    "    >>> print(Rep_Seq)\n",
    "    ATCTTTTTTT\n",
    "\n",
    "Finally, have a look at what happens when the code you are trying ISN'T right. Below, a string is not formatted correctly in the variable assingment statement.\n",
    "\n",
    "    >>> Seq= ATCGCCCCC\n",
    "    Traceback (most recent call last):\n",
    "    File \"<stdin>\", line 1, in <module>\n",
    "    NameError: name 'ATCGCCCCC' is not defined\n",
    "\n",
    "In another example, I forgot to place parentheses around the variable which I am sending to the `print` function. Note here that the `^` is helpfully placed as a suggestion of where the error is coming from, and the correct syntax is suggested in the `SyntaxError` statement.\n",
    "\n",
    "    >>> print Rep_Seq\n",
    "    File \"<stdin>\", line 1\n",
    "    print Rep_Seq\n",
    "          ^\n",
    "    SyntaxError: Missing parentheses in call to 'print'. Did you mean print(Rep_Seq)?\n",
    "\n",
    "Note, for the examples shown above in sections 3A and 3B could be tested using the interactive prompt."
   ]
  },
  {
   "cell_type": "markdown",
   "id": "1940041f",
   "metadata": {},
   "source": [
    "## 4C Better than the normal in terminal interactive prompt, is using the Ipy interactive console (Ipy Qty console). Also note that Jupyter notebooks work well for this as well. \n",
    "\n",
    "The below examples are similar to above, and you can see the error reporting from python is similar."
   ]
  },
  {
   "cell_type": "code",
   "execution_count": 22,
   "id": "87d734b9",
   "metadata": {},
   "outputs": [
    {
     "ename": "NameError",
     "evalue": "name 'ATCGCCCCC' is not defined",
     "output_type": "error",
     "traceback": [
      "\u001b[0;31m---------------------------------------------------------------------------\u001b[0m",
      "\u001b[0;31mNameError\u001b[0m                                 Traceback (most recent call last)",
      "\u001b[0;32m<ipython-input-22-b2b16093856a>\u001b[0m in \u001b[0;36m<module>\u001b[0;34m\u001b[0m\n\u001b[0;32m----> 1\u001b[0;31m \u001b[0mSeq\u001b[0m\u001b[0;34m=\u001b[0m \u001b[0mATCGCCCCC\u001b[0m\u001b[0;34m\u001b[0m\u001b[0;34m\u001b[0m\u001b[0m\n\u001b[0m",
      "\u001b[0;31mNameError\u001b[0m: name 'ATCGCCCCC' is not defined"
     ]
    }
   ],
   "source": [
    "Seq= ATCGCCCCC"
   ]
  },
  {
   "cell_type": "code",
   "execution_count": 23,
   "id": "589849c3",
   "metadata": {},
   "outputs": [
    {
     "ename": "SyntaxError",
     "evalue": "Missing parentheses in call to 'print'. Did you mean print(Rep_Seq)? (<ipython-input-23-40b2c05ebf22>, line 3)",
     "output_type": "error",
     "traceback": [
      "\u001b[0;36m  File \u001b[0;32m\"<ipython-input-23-40b2c05ebf22>\"\u001b[0;36m, line \u001b[0;32m3\u001b[0m\n\u001b[0;31m    print Rep_Seq\u001b[0m\n\u001b[0m          ^\u001b[0m\n\u001b[0;31mSyntaxError\u001b[0m\u001b[0;31m:\u001b[0m Missing parentheses in call to 'print'. Did you mean print(Rep_Seq)?\n"
     ]
    }
   ],
   "source": [
    "Seq='ATCGGGGGGG'\n",
    "Rep_Seq = Seq.replace('G','T')\n",
    "print Rep_Seq"
   ]
  },
  {
   "cell_type": "markdown",
   "id": "08595657",
   "metadata": {},
   "source": [
    "### 5B. The interactive prompt is also useful for using `help()` and `dir()`. Try these with a few functions, you will quickly see the usefulness.\n",
    "\n",
    "### `help()` will print manual page descriptions of the function placed in parentheses."
   ]
  },
  {
   "cell_type": "code",
   "execution_count": 24,
   "id": "9f697ea2",
   "metadata": {},
   "outputs": [
    {
     "name": "stdout",
     "output_type": "stream",
     "text": [
      "Help on built-in function print in module builtins:\n",
      "\n",
      "print(...)\n",
      "    print(value, ..., sep=' ', end='\\n', file=sys.stdout, flush=False)\n",
      "    \n",
      "    Prints the values to a stream, or to sys.stdout by default.\n",
      "    Optional keyword arguments:\n",
      "    file:  a file-like object (stream); defaults to the current sys.stdout.\n",
      "    sep:   string inserted between values, default a space.\n",
      "    end:   string appended after the last value, default a newline.\n",
      "    flush: whether to forcibly flush the stream.\n",
      "\n"
     ]
    }
   ],
   "source": [
    "help(print)"
   ]
  },
  {
   "cell_type": "code",
   "execution_count": 25,
   "id": "dce4c60c",
   "metadata": {},
   "outputs": [
    {
     "name": "stdout",
     "output_type": "stream",
     "text": [
      "Help on class str in module builtins:\n",
      "\n",
      "class str(object)\n",
      " |  str(object='') -> str\n",
      " |  str(bytes_or_buffer[, encoding[, errors]]) -> str\n",
      " |  \n",
      " |  Create a new string object from the given object. If encoding or\n",
      " |  errors is specified, then the object must expose a data buffer\n",
      " |  that will be decoded using the given encoding and error handler.\n",
      " |  Otherwise, returns the result of object.__str__() (if defined)\n",
      " |  or repr(object).\n",
      " |  encoding defaults to sys.getdefaultencoding().\n",
      " |  errors defaults to 'strict'.\n",
      " |  \n",
      " |  Methods defined here:\n",
      " |  \n",
      " |  __add__(self, value, /)\n",
      " |      Return self+value.\n",
      " |  \n",
      " |  __contains__(self, key, /)\n",
      " |      Return key in self.\n",
      " |  \n",
      " |  __eq__(self, value, /)\n",
      " |      Return self==value.\n",
      " |  \n",
      " |  __format__(self, format_spec, /)\n",
      " |      Return a formatted version of the string as described by format_spec.\n",
      " |  \n",
      " |  __ge__(self, value, /)\n",
      " |      Return self>=value.\n",
      " |  \n",
      " |  __getattribute__(self, name, /)\n",
      " |      Return getattr(self, name).\n",
      " |  \n",
      " |  __getitem__(self, key, /)\n",
      " |      Return self[key].\n",
      " |  \n",
      " |  __getnewargs__(...)\n",
      " |  \n",
      " |  __gt__(self, value, /)\n",
      " |      Return self>value.\n",
      " |  \n",
      " |  __hash__(self, /)\n",
      " |      Return hash(self).\n",
      " |  \n",
      " |  __iter__(self, /)\n",
      " |      Implement iter(self).\n",
      " |  \n",
      " |  __le__(self, value, /)\n",
      " |      Return self<=value.\n",
      " |  \n",
      " |  __len__(self, /)\n",
      " |      Return len(self).\n",
      " |  \n",
      " |  __lt__(self, value, /)\n",
      " |      Return self<value.\n",
      " |  \n",
      " |  __mod__(self, value, /)\n",
      " |      Return self%value.\n",
      " |  \n",
      " |  __mul__(self, value, /)\n",
      " |      Return self*value.\n",
      " |  \n",
      " |  __ne__(self, value, /)\n",
      " |      Return self!=value.\n",
      " |  \n",
      " |  __repr__(self, /)\n",
      " |      Return repr(self).\n",
      " |  \n",
      " |  __rmod__(self, value, /)\n",
      " |      Return value%self.\n",
      " |  \n",
      " |  __rmul__(self, value, /)\n",
      " |      Return value*self.\n",
      " |  \n",
      " |  __sizeof__(self, /)\n",
      " |      Return the size of the string in memory, in bytes.\n",
      " |  \n",
      " |  __str__(self, /)\n",
      " |      Return str(self).\n",
      " |  \n",
      " |  capitalize(self, /)\n",
      " |      Return a capitalized version of the string.\n",
      " |      \n",
      " |      More specifically, make the first character have upper case and the rest lower\n",
      " |      case.\n",
      " |  \n",
      " |  casefold(self, /)\n",
      " |      Return a version of the string suitable for caseless comparisons.\n",
      " |  \n",
      " |  center(self, width, fillchar=' ', /)\n",
      " |      Return a centered string of length width.\n",
      " |      \n",
      " |      Padding is done using the specified fill character (default is a space).\n",
      " |  \n",
      " |  count(...)\n",
      " |      S.count(sub[, start[, end]]) -> int\n",
      " |      \n",
      " |      Return the number of non-overlapping occurrences of substring sub in\n",
      " |      string S[start:end].  Optional arguments start and end are\n",
      " |      interpreted as in slice notation.\n",
      " |  \n",
      " |  encode(self, /, encoding='utf-8', errors='strict')\n",
      " |      Encode the string using the codec registered for encoding.\n",
      " |      \n",
      " |      encoding\n",
      " |        The encoding in which to encode the string.\n",
      " |      errors\n",
      " |        The error handling scheme to use for encoding errors.\n",
      " |        The default is 'strict' meaning that encoding errors raise a\n",
      " |        UnicodeEncodeError.  Other possible values are 'ignore', 'replace' and\n",
      " |        'xmlcharrefreplace' as well as any other name registered with\n",
      " |        codecs.register_error that can handle UnicodeEncodeErrors.\n",
      " |  \n",
      " |  endswith(...)\n",
      " |      S.endswith(suffix[, start[, end]]) -> bool\n",
      " |      \n",
      " |      Return True if S ends with the specified suffix, False otherwise.\n",
      " |      With optional start, test S beginning at that position.\n",
      " |      With optional end, stop comparing S at that position.\n",
      " |      suffix can also be a tuple of strings to try.\n",
      " |  \n",
      " |  expandtabs(self, /, tabsize=8)\n",
      " |      Return a copy where all tab characters are expanded using spaces.\n",
      " |      \n",
      " |      If tabsize is not given, a tab size of 8 characters is assumed.\n",
      " |  \n",
      " |  find(...)\n",
      " |      S.find(sub[, start[, end]]) -> int\n",
      " |      \n",
      " |      Return the lowest index in S where substring sub is found,\n",
      " |      such that sub is contained within S[start:end].  Optional\n",
      " |      arguments start and end are interpreted as in slice notation.\n",
      " |      \n",
      " |      Return -1 on failure.\n",
      " |  \n",
      " |  format(...)\n",
      " |      S.format(*args, **kwargs) -> str\n",
      " |      \n",
      " |      Return a formatted version of S, using substitutions from args and kwargs.\n",
      " |      The substitutions are identified by braces ('{' and '}').\n",
      " |  \n",
      " |  format_map(...)\n",
      " |      S.format_map(mapping) -> str\n",
      " |      \n",
      " |      Return a formatted version of S, using substitutions from mapping.\n",
      " |      The substitutions are identified by braces ('{' and '}').\n",
      " |  \n",
      " |  index(...)\n",
      " |      S.index(sub[, start[, end]]) -> int\n",
      " |      \n",
      " |      Return the lowest index in S where substring sub is found,\n",
      " |      such that sub is contained within S[start:end].  Optional\n",
      " |      arguments start and end are interpreted as in slice notation.\n",
      " |      \n",
      " |      Raises ValueError when the substring is not found.\n",
      " |  \n",
      " |  isalnum(self, /)\n",
      " |      Return True if the string is an alpha-numeric string, False otherwise.\n",
      " |      \n",
      " |      A string is alpha-numeric if all characters in the string are alpha-numeric and\n",
      " |      there is at least one character in the string.\n",
      " |  \n",
      " |  isalpha(self, /)\n",
      " |      Return True if the string is an alphabetic string, False otherwise.\n",
      " |      \n",
      " |      A string is alphabetic if all characters in the string are alphabetic and there\n",
      " |      is at least one character in the string.\n",
      " |  \n",
      " |  isascii(self, /)\n",
      " |      Return True if all characters in the string are ASCII, False otherwise.\n",
      " |      \n",
      " |      ASCII characters have code points in the range U+0000-U+007F.\n",
      " |      Empty string is ASCII too.\n",
      " |  \n",
      " |  isdecimal(self, /)\n",
      " |      Return True if the string is a decimal string, False otherwise.\n",
      " |      \n",
      " |      A string is a decimal string if all characters in the string are decimal and\n",
      " |      there is at least one character in the string.\n",
      " |  \n",
      " |  isdigit(self, /)\n",
      " |      Return True if the string is a digit string, False otherwise.\n",
      " |      \n",
      " |      A string is a digit string if all characters in the string are digits and there\n",
      " |      is at least one character in the string.\n",
      " |  \n",
      " |  isidentifier(self, /)\n",
      " |      Return True if the string is a valid Python identifier, False otherwise.\n",
      " |      \n",
      " |      Call keyword.iskeyword(s) to test whether string s is a reserved identifier,\n",
      " |      such as \"def\" or \"class\".\n",
      " |  \n",
      " |  islower(self, /)\n",
      " |      Return True if the string is a lowercase string, False otherwise.\n",
      " |      \n",
      " |      A string is lowercase if all cased characters in the string are lowercase and\n",
      " |      there is at least one cased character in the string.\n",
      " |  \n",
      " |  isnumeric(self, /)\n",
      " |      Return True if the string is a numeric string, False otherwise.\n",
      " |      \n",
      " |      A string is numeric if all characters in the string are numeric and there is at\n",
      " |      least one character in the string.\n",
      " |  \n",
      " |  isprintable(self, /)\n",
      " |      Return True if the string is printable, False otherwise.\n",
      " |      \n",
      " |      A string is printable if all of its characters are considered printable in\n",
      " |      repr() or if it is empty.\n",
      " |  \n",
      " |  isspace(self, /)\n",
      " |      Return True if the string is a whitespace string, False otherwise.\n",
      " |      \n",
      " |      A string is whitespace if all characters in the string are whitespace and there\n",
      " |      is at least one character in the string.\n",
      " |  \n",
      " |  istitle(self, /)\n",
      " |      Return True if the string is a title-cased string, False otherwise.\n",
      " |      \n",
      " |      In a title-cased string, upper- and title-case characters may only\n",
      " |      follow uncased characters and lowercase characters only cased ones.\n",
      " |  \n",
      " |  isupper(self, /)\n",
      " |      Return True if the string is an uppercase string, False otherwise.\n",
      " |      \n",
      " |      A string is uppercase if all cased characters in the string are uppercase and\n",
      " |      there is at least one cased character in the string.\n",
      " |  \n",
      " |  join(self, iterable, /)\n",
      " |      Concatenate any number of strings.\n",
      " |      \n",
      " |      The string whose method is called is inserted in between each given string.\n",
      " |      The result is returned as a new string.\n",
      " |      \n",
      " |      Example: '.'.join(['ab', 'pq', 'rs']) -> 'ab.pq.rs'\n",
      " |  \n",
      " |  ljust(self, width, fillchar=' ', /)\n",
      " |      Return a left-justified string of length width.\n",
      " |      \n",
      " |      Padding is done using the specified fill character (default is a space).\n",
      " |  \n",
      " |  lower(self, /)\n",
      " |      Return a copy of the string converted to lowercase.\n",
      " |  \n",
      " |  lstrip(self, chars=None, /)\n",
      " |      Return a copy of the string with leading whitespace removed.\n",
      " |      \n",
      " |      If chars is given and not None, remove characters in chars instead.\n",
      " |  \n",
      " |  partition(self, sep, /)\n",
      " |      Partition the string into three parts using the given separator.\n",
      " |      \n",
      " |      This will search for the separator in the string.  If the separator is found,\n",
      " |      returns a 3-tuple containing the part before the separator, the separator\n",
      " |      itself, and the part after it.\n",
      " |      \n",
      " |      If the separator is not found, returns a 3-tuple containing the original string\n",
      " |      and two empty strings.\n",
      " |  \n",
      " |  replace(self, old, new, count=-1, /)\n",
      " |      Return a copy with all occurrences of substring old replaced by new.\n",
      " |      \n",
      " |        count\n",
      " |          Maximum number of occurrences to replace.\n",
      " |          -1 (the default value) means replace all occurrences.\n",
      " |      \n",
      " |      If the optional argument count is given, only the first count occurrences are\n",
      " |      replaced.\n",
      " |  \n",
      " |  rfind(...)\n",
      " |      S.rfind(sub[, start[, end]]) -> int\n",
      " |      \n",
      " |      Return the highest index in S where substring sub is found,\n",
      " |      such that sub is contained within S[start:end].  Optional\n",
      " |      arguments start and end are interpreted as in slice notation.\n",
      " |      \n",
      " |      Return -1 on failure.\n",
      " |  \n",
      " |  rindex(...)\n",
      " |      S.rindex(sub[, start[, end]]) -> int\n",
      " |      \n",
      " |      Return the highest index in S where substring sub is found,\n",
      " |      such that sub is contained within S[start:end].  Optional\n",
      " |      arguments start and end are interpreted as in slice notation.\n",
      " |      \n",
      " |      Raises ValueError when the substring is not found.\n",
      " |  \n",
      " |  rjust(self, width, fillchar=' ', /)\n",
      " |      Return a right-justified string of length width.\n",
      " |      \n",
      " |      Padding is done using the specified fill character (default is a space).\n",
      " |  \n",
      " |  rpartition(self, sep, /)\n",
      " |      Partition the string into three parts using the given separator.\n",
      " |      \n",
      " |      This will search for the separator in the string, starting at the end. If\n",
      " |      the separator is found, returns a 3-tuple containing the part before the\n",
      " |      separator, the separator itself, and the part after it.\n",
      " |      \n",
      " |      If the separator is not found, returns a 3-tuple containing two empty strings\n",
      " |      and the original string.\n",
      " |  \n",
      " |  rsplit(self, /, sep=None, maxsplit=-1)\n",
      " |      Return a list of the words in the string, using sep as the delimiter string.\n",
      " |      \n",
      " |        sep\n",
      " |          The delimiter according which to split the string.\n",
      " |          None (the default value) means split according to any whitespace,\n",
      " |          and discard empty strings from the result.\n",
      " |        maxsplit\n",
      " |          Maximum number of splits to do.\n",
      " |          -1 (the default value) means no limit.\n",
      " |      \n",
      " |      Splits are done starting at the end of the string and working to the front.\n",
      " |  \n",
      " |  rstrip(self, chars=None, /)\n",
      " |      Return a copy of the string with trailing whitespace removed.\n",
      " |      \n",
      " |      If chars is given and not None, remove characters in chars instead.\n",
      " |  \n",
      " |  split(self, /, sep=None, maxsplit=-1)\n",
      " |      Return a list of the words in the string, using sep as the delimiter string.\n",
      " |      \n",
      " |      sep\n",
      " |        The delimiter according which to split the string.\n",
      " |        None (the default value) means split according to any whitespace,\n",
      " |        and discard empty strings from the result.\n",
      " |      maxsplit\n",
      " |        Maximum number of splits to do.\n",
      " |        -1 (the default value) means no limit.\n",
      " |  \n",
      " |  splitlines(self, /, keepends=False)\n",
      " |      Return a list of the lines in the string, breaking at line boundaries.\n",
      " |      \n",
      " |      Line breaks are not included in the resulting list unless keepends is given and\n",
      " |      true.\n",
      " |  \n",
      " |  startswith(...)\n",
      " |      S.startswith(prefix[, start[, end]]) -> bool\n",
      " |      \n",
      " |      Return True if S starts with the specified prefix, False otherwise.\n",
      " |      With optional start, test S beginning at that position.\n",
      " |      With optional end, stop comparing S at that position.\n",
      " |      prefix can also be a tuple of strings to try.\n",
      " |  \n",
      " |  strip(self, chars=None, /)\n",
      " |      Return a copy of the string with leading and trailing whitespace removed.\n",
      " |      \n",
      " |      If chars is given and not None, remove characters in chars instead.\n",
      " |  \n",
      " |  swapcase(self, /)\n",
      " |      Convert uppercase characters to lowercase and lowercase characters to uppercase.\n",
      " |  \n",
      " |  title(self, /)\n",
      " |      Return a version of the string where each word is titlecased.\n",
      " |      \n",
      " |      More specifically, words start with uppercased characters and all remaining\n",
      " |      cased characters have lower case.\n",
      " |  \n",
      " |  translate(self, table, /)\n",
      " |      Replace each character in the string using the given translation table.\n",
      " |      \n",
      " |        table\n",
      " |          Translation table, which must be a mapping of Unicode ordinals to\n",
      " |          Unicode ordinals, strings, or None.\n",
      " |      \n",
      " |      The table must implement lookup/indexing via __getitem__, for instance a\n",
      " |      dictionary or list.  If this operation raises LookupError, the character is\n",
      " |      left untouched.  Characters mapped to None are deleted.\n",
      " |  \n",
      " |  upper(self, /)\n",
      " |      Return a copy of the string converted to uppercase.\n",
      " |  \n",
      " |  zfill(self, width, /)\n",
      " |      Pad a numeric string with zeros on the left, to fill a field of the given width.\n",
      " |      \n",
      " |      The string is never truncated.\n",
      " |  \n",
      " |  ----------------------------------------------------------------------\n",
      " |  Static methods defined here:\n",
      " |  \n",
      " |  __new__(*args, **kwargs) from builtins.type\n",
      " |      Create and return a new object.  See help(type) for accurate signature.\n",
      " |  \n",
      " |  maketrans(...)\n",
      " |      Return a translation table usable for str.translate().\n",
      " |      \n",
      " |      If there is only one argument, it must be a dictionary mapping Unicode\n",
      " |      ordinals (integers) or characters to Unicode ordinals, strings or None.\n",
      " |      Character keys will be then converted to ordinals.\n",
      " |      If there are two arguments, they must be strings of equal length, and\n",
      " |      in the resulting dictionary, each character in x will be mapped to the\n",
      " |      character at the same position in y. If there is a third argument, it\n",
      " |      must be a string, whose characters will be mapped to None in the result.\n",
      "\n"
     ]
    }
   ],
   "source": [
    "help(str)"
   ]
  },
  {
   "cell_type": "markdown",
   "id": "9dd2fb68",
   "metadata": {},
   "source": [
    "## Following from above, there are multiple formats for built in string functions\n",
    "\n",
    "- Those specified as `_add_` work as below:"
   ]
  },
  {
   "cell_type": "code",
   "execution_count": 40,
   "id": "6b3b0a82",
   "metadata": {},
   "outputs": [
    {
     "data": {
      "text/plain": [
       "8"
      ]
     },
     "execution_count": 40,
     "metadata": {},
     "output_type": "execute_result"
    }
   ],
   "source": [
    "Seq=\"CTTTTCCC\"\n",
    "len(Seq)"
   ]
  },
  {
   "cell_type": "code",
   "execution_count": 45,
   "id": "43dc39b7",
   "metadata": {},
   "outputs": [
    {
     "data": {
      "text/plain": [
       "['CTTTTCCC']"
      ]
     },
     "execution_count": 45,
     "metadata": {},
     "output_type": "execute_result"
    }
   ],
   "source": [
    "str.split(Seq)"
   ]
  },
  {
   "cell_type": "markdown",
   "id": "67197b5a",
   "metadata": {},
   "source": [
    "## Those that are listed as lower(self, /) work as below\n",
    "This generally entails starting with `str.`, followed the function name, followed by the string variable name in parentheses. Note below I am illustrating two syntax formats that both work for this type of string function."
   ]
  },
  {
   "cell_type": "code",
   "execution_count": 52,
   "id": "ebcd6bd3",
   "metadata": {},
   "outputs": [
    {
     "data": {
      "text/plain": [
       "'cttttccc'"
      ]
     },
     "execution_count": 52,
     "metadata": {},
     "output_type": "execute_result"
    }
   ],
   "source": [
    "str.lower(Seq)\n"
   ]
  },
  {
   "cell_type": "code",
   "execution_count": 55,
   "id": "ed5f535c",
   "metadata": {},
   "outputs": [
    {
     "data": {
      "text/plain": [
       "'cttttccc'"
      ]
     },
     "execution_count": 55,
     "metadata": {},
     "output_type": "execute_result"
    }
   ],
   "source": [
    "Seq.lower()"
   ]
  },
  {
   "cell_type": "code",
   "execution_count": 56,
   "id": "d06cdf22",
   "metadata": {},
   "outputs": [
    {
     "data": {
      "text/plain": [
       "True"
      ]
     },
     "execution_count": 56,
     "metadata": {},
     "output_type": "execute_result"
    }
   ],
   "source": [
    "str.isupper(Seq)"
   ]
  },
  {
   "cell_type": "code",
   "execution_count": 53,
   "id": "c42be410",
   "metadata": {},
   "outputs": [
    {
     "data": {
      "text/plain": [
       "True"
      ]
     },
     "execution_count": 53,
     "metadata": {},
     "output_type": "execute_result"
    }
   ],
   "source": [
    "Seq.isupper()"
   ]
  },
  {
   "cell_type": "code",
   "execution_count": 54,
   "id": "5a1f5677",
   "metadata": {},
   "outputs": [
    {
     "data": {
      "text/plain": [
       "4"
      ]
     },
     "execution_count": 54,
     "metadata": {},
     "output_type": "execute_result"
    }
   ],
   "source": [
    "Seq.count(\"T\")"
   ]
  },
  {
   "cell_type": "code",
   "execution_count": 59,
   "id": "36b4fdfb",
   "metadata": {
    "scrolled": true
   },
   "outputs": [
    {
     "data": {
      "text/plain": [
       "['Cincinnati', '(-2.5)', 'at', 'Tennessee', '(+2.5)']"
      ]
     },
     "execution_count": 59,
     "metadata": {},
     "output_type": "execute_result"
    }
   ],
   "source": [
    "week4='Cincinnati (-2.5) at Tennessee (+2.5)'\n",
    "week4.split()"
   ]
  },
  {
   "cell_type": "markdown",
   "id": "5b433919",
   "metadata": {},
   "source": [
    "### `dir()` returns all properties and methods associated with the specified variable. Below the function is being used with a string."
   ]
  },
  {
   "cell_type": "code",
   "execution_count": 26,
   "id": "316ff072",
   "metadata": {},
   "outputs": [
    {
     "data": {
      "text/plain": [
       "['__add__',\n",
       " '__class__',\n",
       " '__contains__',\n",
       " '__delattr__',\n",
       " '__dir__',\n",
       " '__doc__',\n",
       " '__eq__',\n",
       " '__format__',\n",
       " '__ge__',\n",
       " '__getattribute__',\n",
       " '__getitem__',\n",
       " '__getnewargs__',\n",
       " '__gt__',\n",
       " '__hash__',\n",
       " '__init__',\n",
       " '__init_subclass__',\n",
       " '__iter__',\n",
       " '__le__',\n",
       " '__len__',\n",
       " '__lt__',\n",
       " '__mod__',\n",
       " '__mul__',\n",
       " '__ne__',\n",
       " '__new__',\n",
       " '__reduce__',\n",
       " '__reduce_ex__',\n",
       " '__repr__',\n",
       " '__rmod__',\n",
       " '__rmul__',\n",
       " '__setattr__',\n",
       " '__sizeof__',\n",
       " '__str__',\n",
       " '__subclasshook__',\n",
       " 'capitalize',\n",
       " 'casefold',\n",
       " 'center',\n",
       " 'count',\n",
       " 'encode',\n",
       " 'endswith',\n",
       " 'expandtabs',\n",
       " 'find',\n",
       " 'format',\n",
       " 'format_map',\n",
       " 'index',\n",
       " 'isalnum',\n",
       " 'isalpha',\n",
       " 'isascii',\n",
       " 'isdecimal',\n",
       " 'isdigit',\n",
       " 'isidentifier',\n",
       " 'islower',\n",
       " 'isnumeric',\n",
       " 'isprintable',\n",
       " 'isspace',\n",
       " 'istitle',\n",
       " 'isupper',\n",
       " 'join',\n",
       " 'ljust',\n",
       " 'lower',\n",
       " 'lstrip',\n",
       " 'maketrans',\n",
       " 'partition',\n",
       " 'replace',\n",
       " 'rfind',\n",
       " 'rindex',\n",
       " 'rjust',\n",
       " 'rpartition',\n",
       " 'rsplit',\n",
       " 'rstrip',\n",
       " 'split',\n",
       " 'splitlines',\n",
       " 'startswith',\n",
       " 'strip',\n",
       " 'swapcase',\n",
       " 'title',\n",
       " 'translate',\n",
       " 'upper',\n",
       " 'zfill']"
      ]
     },
     "execution_count": 26,
     "metadata": {},
     "output_type": "execute_result"
    }
   ],
   "source": [
    "Name='Costanza'\n",
    "dir(Name)"
   ]
  },
  {
   "cell_type": "markdown",
   "id": "b937cac0",
   "metadata": {},
   "source": [
    "\n",
    "# 6. Pulling raw input from the command line (`input()`)\n",
    "We will learn more about getting input of all sorts into our python programs in the coming weeks. During the early weeks, we will most often work with variables we build within scripts. Haddock and Dunn cover the `input()` function in chapter 8, which we will reiterate here, and which you will use for the python assignment exercises this week. **Note: this function was named `raw_input` in python2, and is covered as such in Haddock and Dunn. The updated document available under week6 (\"PythonLesson1_Chapter8.docx\") reflects this and other modifications to python3.**"
   ]
  },
  {
   "cell_type": "code",
   "execution_count": 30,
   "id": "dca33400",
   "metadata": {},
   "outputs": [
    {
     "name": "stdout",
     "output_type": "stream",
     "text": [
      "Enter a string: Bodie\n"
     ]
    }
   ],
   "source": [
    "name3 = input(\"Enter a string: \")"
   ]
  },
  {
   "cell_type": "code",
   "execution_count": 31,
   "id": "1d553a15",
   "metadata": {},
   "outputs": [
    {
     "name": "stdout",
     "output_type": "stream",
     "text": [
      "Bodie\n"
     ]
    }
   ],
   "source": [
    "print(name3)"
   ]
  },
  {
   "cell_type": "markdown",
   "id": "92c864e9",
   "metadata": {},
   "source": [
    "If you add the statement above to a script, two things will happen.\n",
    "After executing the script, you will be prompted at the command line with \"Enter a string\". Here you can enter any string you like, and hit enter. The provided text will then be stored as the variable as specified in your code.\n",
    "\n",
    "\n",
    "# Python documentation and other useful resources\n",
    "\n",
    "[Python documentation](https://www.python.org/doc/)\n",
    "\n",
    "[Python for Biologists](https://pythonforbiologists.com/introduction)\n",
    "\n",
    "### Chapter 8 differences between python2 and python3 (syntax changes that will require slight modification of book examples)\n",
    "\n",
    "1. print statements in python3 should use (). \n",
    "2. `raw_input()` has become just `input()`"
   ]
  },
  {
   "cell_type": "code",
   "execution_count": null,
   "id": "e2b51196",
   "metadata": {},
   "outputs": [],
   "source": []
  }
 ],
 "metadata": {
  "kernelspec": {
   "display_name": "Python 3",
   "language": "python",
   "name": "python3"
  },
  "language_info": {
   "codemirror_mode": {
    "name": "ipython",
    "version": 3
   },
   "file_extension": ".py",
   "mimetype": "text/x-python",
   "name": "python",
   "nbconvert_exporter": "python",
   "pygments_lexer": "ipython3",
   "version": "3.8.8"
  }
 },
 "nbformat": 4,
 "nbformat_minor": 5
}
