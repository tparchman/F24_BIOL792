{
 "cells": [
  {
   "cell_type": "code",
   "execution_count": 5,
   "id": "9435e378",
   "metadata": {},
   "outputs": [
    {
     "name": "stdout",
     "output_type": "stream",
     "text": [
      "ATTTCCCCCC\n"
     ]
    }
   ],
   "source": [
    "Seq=\"ATTTCCCCCC\"\n",
    "print(Seq)"
   ]
  },
  {
   "cell_type": "markdown",
   "id": "0c236093",
   "metadata": {},
   "source": [
    "## here I am going to write a for loop\n",
    "- weather\n",
    "- time\n",
    "- space"
   ]
  },
  {
   "cell_type": "code",
   "execution_count": 10,
   "id": "8b534474",
   "metadata": {},
   "outputs": [
    {
     "name": "stdout",
     "output_type": "stream",
     "text": [
      "1 base is:  A\n",
      "2 base is:  T\n",
      "3 base is:  T\n",
      "4 base is:  T\n",
      "5 base is:  C\n",
      "6 base is:  C\n",
      "7 base is:  C\n",
      "8 base is:  C\n",
      "9 base is:  C\n",
      "10 base is:  C\n"
     ]
    }
   ],
   "source": [
    "ctr=0\n",
    "for i in Seq:\n",
    "    ctr += 1\n",
    "    print(ctr, \"base is: \", i)"
   ]
  },
  {
   "cell_type": "markdown",
   "id": "b7fb513b",
   "metadata": {},
   "source": [
    "## illustrating linux commands in jupyter\n",
    "\n",
    "Using `%` (or `!`) before commands allows executing of linux commands in jupyter notebooks. Play with this, and you will realize that `tab` autocomplete works as well. So, magically, you can navigate your file system and run linux commands within jupyter notebooks. This means that you can hop back and forth between linux and python if you desire to do so. It also means that jupyter notebooks offer a mechanism for documenting linux code that you find repeatably useful, or for keeping a record of linux commands that are useful for you."
   ]
  },
  {
   "cell_type": "code",
   "execution_count": 11,
   "id": "5011d846",
   "metadata": {},
   "outputs": [
    {
     "name": "stdout",
     "output_type": "stream",
     "text": [
      "demo.ipynb                  jupyter_getting_started.md\r\n",
      "\u001b[1m\u001b[36mimages\u001b[m\u001b[m/\r\n"
     ]
    }
   ],
   "source": [
    "%ls"
   ]
  },
  {
   "cell_type": "code",
   "execution_count": 12,
   "id": "2a99524b",
   "metadata": {},
   "outputs": [
    {
     "name": "stdout",
     "output_type": "stream",
     "text": [
      "/Users/thomasparchman/Documents/GitHub/F23_BIOL792/week5\n"
     ]
    },
    {
     "data": {
      "text/plain": [
       "'/Users/thomasparchman/Documents/GitHub/F23_BIOL792/week5'"
      ]
     },
     "execution_count": 12,
     "metadata": {},
     "output_type": "execute_result"
    }
   ],
   "source": [
    "%cd ../\n",
    "%pwd"
   ]
  },
  {
   "cell_type": "code",
   "execution_count": 18,
   "id": "9e634e7c",
   "metadata": {},
   "outputs": [
    {
     "name": "stdout",
     "output_type": "stream",
     "text": [
      "[Errno 2] No such file or directory: 'jupyter_start/'\n",
      "/Users/thomasparchman/Documents/GitHub/F23_BIOL792/week5/jupyter_start\n",
      "demo.ipynb                  jupyter_getting_started.md\n",
      "\u001b[1m\u001b[36mimages\u001b[m\u001b[m/                     new.ipynb\n"
     ]
    }
   ],
   "source": [
    "\n",
    "%cp demo.ipynb new.ipynb\n",
    "%ls"
   ]
  },
  {
   "cell_type": "code",
   "execution_count": null,
   "id": "bc81c6e4",
   "metadata": {},
   "outputs": [],
   "source": []
  }
 ],
 "metadata": {
  "kernelspec": {
   "display_name": "Python 3",
   "language": "python",
   "name": "python3"
  },
  "language_info": {
   "codemirror_mode": {
    "name": "ipython",
    "version": 3
   },
   "file_extension": ".py",
   "mimetype": "text/x-python",
   "name": "python",
   "nbconvert_exporter": "python",
   "pygments_lexer": "ipython3",
   "version": "3.8.8"
  }
 },
 "nbformat": 4,
 "nbformat_minor": 5
}
