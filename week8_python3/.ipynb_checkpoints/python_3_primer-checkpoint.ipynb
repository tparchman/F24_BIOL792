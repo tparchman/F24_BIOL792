{
 "cells": [
  {
   "cell_type": "markdown",
   "id": "9670067f",
   "metadata": {},
   "source": [
    "# Python primer III, Data Science I \n",
    "\n",
    "## Topics to cover\n",
    "- working with files (input/output)\n",
    "- processing command line arguments in your code\n",
    "- introduction to using libraries (`sys`) and (`re`)\n",
    "- Haddock and Dunn chapters 9 and 10, bit of 11 (`sys.argv`)\n",
    "- updated document that has corrections for python3 where necessary (PythonLesson2_Chapter9.pdf, PythonLesson3_Chapter10.docx)\n",
    "\n",
    "\n",
    "# Working with Files\n",
    "\n",
    "For almost every task you attempt with Python, you will need to 1) open and read data from existing text files; and 2) write the products of your code to new text files. Sometimes you will work with one file at a time, while other tasks will involve reading and writing to multiple files and at some times large numbers of files. As hopefully you will see here, all of the above is fairly straightforward with Python. \n",
    "\n",
    "## I. Input\n",
    "\n",
    "Input involves several steps\n",
    "\n",
    "**A.** assigning the name of the file to a variable (based on its location), and opening a connection to the file (creating a file object with `open()`)\n",
    "\n",
    "**B.** reading the contents of the file with `.read` or using a `for` loop, using one of several available methods in Python(detailed below)\n",
    "\n",
    "### A. Establishing file handles: `open()`can be used to open a connection (also could be called a file handle) to files stored in directories on your computer. \n",
    "\n",
    "\n",
    "### This can be done by 'hardcoding' the name of a file or files into your code:\n",
    "\n",
    "If the file is in your working directory:\n"
   ]
  },
  {
   "cell_type": "markdown",
   "id": "db1fb43b",
   "metadata": {},
   "source": [
    "    IN_file=open('data.txt', 'r')\n",
    "\n",
    "Of course, you can also use an absolute path:\n",
    "\n",
    "    IN_file=open('/working/parchman/data.txt', 'r')\n",
    "\n",
    "\n",
    "### Perhaps more usefully, file names can be processed from command line arguments. This is often advantageous in that the same script can be used to process different files or different sets of files without. Let's walk through how to do this below, while also giving you a preview of using python libraries/modules.\n",
    "\n",
    "\n",
    "A strength of python is the enormous number of libraries/packages that exist to facilitate specific tasks. We will soon start to learn more about more libraries in Python; here we will introduce a commonly used library and the process of importing libraries. Importing a library into your python scrip is done with a simple line (below, import function, followed by name of library):\n"
   ]
  },
  {
   "cell_type": "code",
   "execution_count": 2,
   "id": "50f9840b",
   "metadata": {},
   "outputs": [],
   "source": [
    "import sys"
   ]
  },
  {
   "cell_type": "markdown",
   "id": "d85d96cd",
   "metadata": {},
   "source": [
    "Such library statements are typically placed at the top of python scripts. As time goes on, you may find yourself importing multiple libraries:"
   ]
  },
  {
   "cell_type": "code",
   "execution_count": 3,
   "id": "d753acfb",
   "metadata": {},
   "outputs": [],
   "source": [
    "import sys\n",
    "import numpy\n",
    "import pandas"
   ]
  },
  {
   "cell_type": "markdown",
   "id": "47a2ee5c",
   "metadata": {},
   "source": [
    "Or, you can input all on one line:\n"
   ]
  },
  {
   "cell_type": "code",
   "execution_count": 4,
   "id": "2f8b7fac",
   "metadata": {},
   "outputs": [],
   "source": [
    "import sys, numpy, pandas\n"
   ]
  },
  {
   "cell_type": "markdown",
   "id": "42c422b2",
   "metadata": {},
   "source": [
    "Command line arguments can be accessed from you code using `argv` function of the `sys` library. `sys.argv` allows you to directly access a list of command line arguments.  \n",
    "\n",
    "From here, you can see that using the `open()` function to make file objects from filenames contained in the `sys.argv` list is an efficient way to access files in your code. For most cases, this strategy will be more efficient and useful than hardcoding file names into your scripts. This works excellently for providing command line arguments for you script, but does not work well within a jupyter noteboook.\n",
    "    \n",
    "    import sys\n",
    "    IN = open(sys.argv[1], 'r')"
   ]
  },
  {
   "cell_type": "markdown",
   "id": "d73b227a",
   "metadata": {},
   "source": [
    "If you provide a file name as an argument, `sys.argv[1]`, as above, the second element of that list will be the file name (remember that list indexing in Python begins with zero). So if you ran the code below, the file `data.txt` would be opened and assigned to `IN`.\n",
    "\n",
    "If you provide a file name as an argument, `sys.argv[1]`, as above, the second element of that list will be the file name (remember that list indexing in Python begins with zero). So if you ran the code below, the file `data.txt` would be opened and assigned to `IN`.\n",
    "\n",
    "\tpython3 read_file.py data.txt\n",
    "\t\n",
    "\timport sys\n",
    "\tIN = open(sys.argv[1], 'r')\n",
    "\n",
    "The [1:] below skips the first argument in the list (sys.argv[0]), which is the script itself, and will access the remaining command line arguments.\n",
    "\n",
    "    import sys\n",
    "    for Arg in sys.argv[1:]:       \n",
    "        print(Arg)\n",
    "\n",
    "If you had placed just the above in a script, and executed that script as below:\n",
    "\n",
    "    $ python argtest.py Lebron AD Rondo\n",
    "\n",
    "you should see Lebron, AD and Rondo printed consecutively to the screen\n",
    "\n"
   ]
  },
  {
   "cell_type": "markdown",
   "id": "fdce3f71",
   "metadata": {},
   "source": [
    "## B. Reading data from a file.\n",
    "\n",
    "### Below is example sytax for several ways to read data from files:\n",
    "\n",
    "To read the *entire* contents of file (note, this is rarely useful for large files, and in general)\n",
    "\n",
    "    IN = IN_file.read()\n",
    "\n",
    "To read one line at a time:\n",
    "\n",
    "    IN = IN_file.readline()\n",
    "\n",
    "If you wanted to read all of the lines in a file straight into a list:\n",
    "\n",
    "    File_as_List = IN_file.readlines()\n",
    "\n",
    "Or:\n",
    "\n",
    "    list(IN_file)\n",
    "\n",
    "### Looping through file objects with `for`, reading one line at a time. *This is often an ideal way to work with data from files.*\n",
    "\n",
    "What you will often (perhaps usually) want to do is loop over a file to read each line one at a time from the file. In other words, we will run this block of code on the first line of the file, then we will run this block of code on the second line, and so on. This is memory efficient, fast, and leads to simple code:\n"
   ]
  },
  {
   "cell_type": "markdown",
   "id": "e0556d57",
   "metadata": {},
   "source": [
    "    for Line in IN:\n",
    "        print(Line)\n",
    "\n",
    "Once you start processing files one line at a time,  you will realize that line ending characters (`\\n`) often get in the way, and can be most effectively dealt with by removing them right off the bat. We can use the `.strip` function to do this.\n",
    "\n",
    "The below code provides a simple example of specifying a file for reading, opening the file, looping through file one line at a time with a `for` loop, and incrementing to keep track of how many lines are being processed. Note, that once you read each line as a scalar, you can essentially do whatever you want within the `for` loop that is extracting lines from the file.\n",
    "\n"
   ]
  },
  {
   "cell_type": "code",
   "execution_count": 27,
   "id": "9944d233",
   "metadata": {},
   "outputs": [
    {
     "name": "stdout",
     "output_type": "stream",
     "text": [
      "LineNumber 1 : WD1295\tcarB\n",
      "LineNumber 2 : WD1298\trpoD\n",
      "LineNumber 3 : WD1303\trpoZ\n",
      "LineNumber 4 : WD1306\tmutL-1\n",
      "LineNumber 5 : WD1309\tsucA\n",
      "LineNumber 6 : WD1316\tubiA\n",
      "LineNumber 7 : WD1318\tinfB\n"
     ]
    }
   ],
   "source": [
    "IN_Name = \"genenames.txt\" #this file resides in this directory\n",
    "IN = open(IN_Name, 'r')\n",
    "LineNumber = 0  ## setting to 0 to count lines while looping through the file. \n",
    "\n",
    "for Line in IN:\n",
    "    Line = Line.strip('\\n') #### critical, removing line ending\n",
    "    LineNumber += 1 ## incrementing LineNumber to count runs through loop\n",
    "    print(\"LineNumber\", LineNumber, \":\", Line) # this will be the number of lines processed of IN\n",
    "\n",
    "IN.close() #closing IN, OUTSIDE the for loop see below.\n"
   ]
  },
  {
   "cell_type": "markdown",
   "id": "49d766f6",
   "metadata": {},
   "source": [
    "## C. Keeping file names, file objects (also called file handles or file connections), and file contents straight.\n",
    "\n",
    "Below are  lines of code to 1. create a file name, 2. make a file object, or connection, from your code to that file, and 3. read all contents of that file into a single scalar. Each line below is described as a reminder of how they differ. For the code below, substitute a file on your system at the first line, with the `input_file` line."
   ]
  },
  {
   "cell_type": "code",
   "execution_count": 24,
   "id": "0d073a42",
   "metadata": {},
   "outputs": [
    {
     "name": "stdout",
     "output_type": "stream",
     "text": [
      "WD1295\tcarB\n",
      "WD1298\trpoD\n",
      "WD1303\trpoZ\n",
      "WD1306\tmutL-1\n",
      "WD1309\tsucA\n",
      "WD1316\tubiA\n",
      "WD1318\tinfB\n",
      "\n"
     ]
    }
   ],
   "source": [
    "input_file= \"genenames.txt\"\n",
    "IN = open(input_file, 'r')\n",
    "my_file_contents = IN.read()\n",
    "print(my_file_contents)"
   ]
  },
  {
   "cell_type": "markdown",
   "id": "dd1f1e5f",
   "metadata": {},
   "source": [
    "1). Create file name pointing to location on device:\n"
   ]
  },
  {
   "cell_type": "code",
   "execution_count": null,
   "id": "8623e893",
   "metadata": {},
   "outputs": [],
   "source": [
    "input_file= \"genenames.txt\"\n"
   ]
  },
  {
   "cell_type": "markdown",
   "id": "f4d99e0c",
   "metadata": {},
   "source": [
    "2). Making a file object, or connection, from your code to that file:\n"
   ]
  },
  {
   "cell_type": "code",
   "execution_count": null,
   "id": "4d2e2bf5",
   "metadata": {},
   "outputs": [],
   "source": [
    "IN = open(input_file, 'r')\n"
   ]
  },
  {
   "cell_type": "markdown",
   "id": "98b18a15",
   "metadata": {},
   "source": [
    "3). Using the `.read()` function to read all contents of that file into a single scalar:"
   ]
  },
  {
   "cell_type": "code",
   "execution_count": null,
   "id": "e4164a9b",
   "metadata": {},
   "outputs": [],
   "source": [
    "my_file_contents = IN.read()"
   ]
  },
  {
   "cell_type": "markdown",
   "id": "1a356c04",
   "metadata": {},
   "source": [
    "## II. Output\n",
    "\n",
    "Opening a file for output, and writing to that file (as opposed to printing the output to the terminal using `print`), works similarly to the examples above and also uses `open()`. With this function, we use either the \"r\", \"w\", and \"a\" arguments for the `open()` function to specify read, write, or append actions. For writing output from your code, we will use \"w\" or \"a\".\n"
   ]
  },
  {
   "cell_type": "code",
   "execution_count": 7,
   "id": "a3e9a69e",
   "metadata": {},
   "outputs": [
    {
     "data": {
      "text/plain": [
       "43"
      ]
     },
     "execution_count": 7,
     "metadata": {},
     "output_type": "execute_result"
    }
   ],
   "source": [
    "OUT = open(\"outfile.txt\", \"w\")\n",
    "OUT.write(\"Here is the data my python code processed \\n\")"
   ]
  },
  {
   "cell_type": "markdown",
   "id": "8e17236c",
   "metadata": {},
   "source": [
    "The `.write` function above works similarly to `print`. Hence, you can write strings of text, variables, and even  variables processed by functions. A few examples below. Two important points about `.write` in how it differs from `print`. `.write()` is picky about what it will write out, preferring strings, and requiring some specific notation (examples below). Also, while `print` automatically appends line endings to statements, `.write` does not. Thus, you will need to add line endings."
   ]
  },
  {
   "cell_type": "markdown",
   "id": "442ac863",
   "metadata": {},
   "source": [
    "    OUT.write(\"Here is the data my python code processed \\n\") # string of text, note line ending added\n",
    "\n",
    "    OUT.write(\"Data: %d %f\" % (VarA, VarB)) # string and variables\n",
    "    OUT2.write(\"Data %s \\n\" % (Line))\n",
    "    OUT3.write(\"%d\\n\" % (VarName))"
   ]
  },
  {
   "cell_type": "markdown",
   "id": "b32ce6ff",
   "metadata": {},
   "source": [
    "Strings can be written using just a variable name, but Python doesnt like lists\n",
    "\n",
    "    OUT4.write(Name + \"\\n\")\n",
    "\n",
    "For appending to an already existing file, we use option with the \"a\"\n",
    "\n",
    "    OUTa = open(\"existing_file.txt\", \"a\")\n",
    "    OUTa.write(\"%d\\n\" % (VarName)) # will write to end of already existing file\n",
    "\n",
    "Finally, note that you can control output with `print` as well by using unix redirect (`>`), if you only need to send output to one file.\n",
    "\n",
    "    $ python myscript.py > output.txt\n",
    "\n"
   ]
  },
  {
   "cell_type": "markdown",
   "id": "fc1bedb3",
   "metadata": {},
   "source": [
    "## III. Closing files \n",
    "\n",
    "It may take some experience before you realize that closing files  when you are done with them is good form. While learning and writing straightforward scripts, you may not encounter problems when you fail to close files, but that will change as you ramp up what you are doing. Nonetheless, get in the habit of doing this now, and try not to forget. It is simple using the `.close()` function. While you are learning python, you will commonly want to these commands towards the end of your scripts.\n",
    "\n",
    "    IN.close()\n",
    "    OUT.close()\n",
    "\n"
   ]
  },
  {
   "cell_type": "markdown",
   "id": "6d6a8ef9",
   "metadata": {},
   "source": [
    "## IV. Processing lines, one at a time\n",
    "\n",
    "The code below gives an example of looping through every line in a file."
   ]
  },
  {
   "cell_type": "code",
   "execution_count": 18,
   "id": "e3bce149",
   "metadata": {},
   "outputs": [
    {
     "name": "stdout",
     "output_type": "stream",
     "text": [
      "WD1295\tcarB\n",
      "WD1298\trpoD\n",
      "WD1303\trpoZ\n",
      "WD1306\tmutL-1\n",
      "WD1309\tsucA\n",
      "WD1316\tubiA\n",
      "WD1318\tinfB\n"
     ]
    }
   ],
   "source": [
    "InFile=open(\"genenames.txt\", 'r')\n",
    "for Line in InFile:\n",
    "    Line = Line.strip('\\n') #removing line ending\n",
    "    print(Line)"
   ]
  },
  {
   "cell_type": "markdown",
   "id": "85035cba",
   "metadata": {},
   "source": [
    "### Example code for opening a file, looping through one line at a time, and splitting each line into a workable list, extracting a range of values, and writing output to a file\n",
    "\n",
    "After removing line endings, you will often want to split the line (which is read in as a string) into a list using `.split()`. Once the line is split, you can work on each element separately using list notation or you can loop through the list with another for loop."
   ]
  },
  {
   "cell_type": "code",
   "execution_count": 1,
   "id": "ac0a14fc",
   "metadata": {},
   "outputs": [
    {
     "name": "stdout",
     "output_type": "stream",
     "text": [
      "first element of line:  carB\n",
      "first element of line:  rpoD\n",
      "first element of line:  rpoZ\n",
      "first element of line:  mutL-1\n",
      "first element of line:  sucA\n",
      "first element of line:  ubiA\n",
      "first element of line:  infB\n",
      "Total number of lines:  7\n"
     ]
    }
   ],
   "source": [
    "IN=open(\"genenames.txt\", 'r')\n",
    "OUT1=open(\"filetowrite.txt\", 'w')\n",
    "\n",
    "LineNumber = 0\n",
    "for Line in IN:\n",
    "    Line = Line.strip('\\n')\n",
    "    ElementList = Line.split('\\t') #tab delimited text.\n",
    "    print(\"first element of line: \", ElementList[1])\n",
    "    OUT1.write(\"First element is: %s, second element is %s \\n\"  %(ElementList[0], ElementList[1]))\n",
    "    #Note: the above line will write to \"filetowrite.txt, which will be written to whatever directory this is executed from\"\n",
    "    LineNumber += 1  # incrementing lines to keep track.\n",
    "print(\"Total number of lines: \", LineNumber)"
   ]
  },
  {
   "cell_type": "markdown",
   "id": "a30154ea",
   "metadata": {},
   "source": [
    "## V. Introduction to regular expressions\n",
    "Thus far, we have used tools that allow pattern recognition as a basis for completing some task or file manipulation in both Unix (e.g., `grep`, `sed`, `tr`, `awk`) and Python (`str.count()`). However, our use of these tools has largely involved searching for fixed patterns. While working with biological data, and really any other form of big data, we will encounter many problems that will require more flexible match patterns. \n",
    "\n",
    "We will start working with regular expressions using the `re` module. As hinted above with `sys`, modules/libraries will play a major role in enabling your python code. We will cover that in more detail in a few weeks, and we will get into more detail on regular expressions next week. First, lets introduce pattern matching for regular expressions using `re` (which stands for regular expression).\n",
    "\n",
    "To use functionality in the `re` module in your code, you want to add a line near the top of your script (just after your shebang line) that uses the `import` function."
   ]
  },
  {
   "cell_type": "code",
   "execution_count": 9,
   "id": "49938c5f",
   "metadata": {},
   "outputs": [],
   "source": [
    "import re"
   ]
  },
  {
   "cell_type": "markdown",
   "id": "a6c276e3",
   "metadata": {},
   "source": [
    "In general, `re` requires you to specify a pattern to match, followed by a string to match the pattern in. There are numerous functions built into `re`, but lets start here with `re.search`, which simply returns a true/false based on whether the match occurs in the string or not. The general idea is as follows:\n",
    "\n",
    "    re.search(pattern, string)\n",
    "\n",
    "We can search a specified string, using an `if` statement as an example of how to control our code based on the presence or absence of matches:\n"
   ]
  },
  {
   "cell_type": "code",
   "execution_count": 10,
   "id": "af1f56ac",
   "metadata": {},
   "outputs": [
    {
     "name": "stdout",
     "output_type": "stream",
     "text": [
      "Stop codon (TAG) found.\n",
      "\n"
     ]
    }
   ],
   "source": [
    "Seq = \"ATCGGGGCCTAGAAT\"\n",
    "if re.search(\"TAG\", Seq):\n",
    "    print(\"Stop codon (TAG) found.\\n\")"
   ]
  },
  {
   "cell_type": "markdown",
   "id": "406c95c5",
   "metadata": {},
   "source": [
    "The `^` character can be used to anchor the pattern at the beginning of the string, and the `$` anchors the pattern at the end"
   ]
  },
  {
   "cell_type": "code",
   "execution_count": 11,
   "id": "f92ad5eb",
   "metadata": {},
   "outputs": [
    {
     "name": "stdout",
     "output_type": "stream",
     "text": [
      "Seq begins with A.\n",
      "\n",
      "Seq ends with T.\n",
      "\n"
     ]
    }
   ],
   "source": [
    "Seq = \"ATCGGGGCCTAGAAT\"\n",
    "if re.search(\"^A\", Seq):\n",
    "        print(\"Seq begins with A.\\n\")\n",
    "\n",
    "Seq = \"ATCGGGGCCTAGAAT\"\n",
    "if re.search(\"T$\", Seq):\n",
    "    print(\"Seq ends with T.\\n\")\n",
    "else:\n",
    "    print(\"Seq does not end with T.\\n\")"
   ]
  },
  {
   "cell_type": "markdown",
   "id": "8400fab1",
   "metadata": {},
   "source": [
    "This is just a brief introduction to get you started. We will cover more depth on working with regular expressions next week.\n",
    "\n",
    "Starting next week we will learn more detailed and useful use of the `re` library for matching, extracting, and otherwise taking advantage of the power of regular expression searches. The below table summarizes the functions we will learn, and what they can accomplish:\n",
    "\n",
    "\n",
    "| Function | utility |\n",
    "|---------- | ---------- |\n",
    "|`re.search`| returns boolean for match occurrence in string|\n",
    "|`re.iter`| processes multiple matches and returns a list of match objects             |\n",
    "|`re.findall`|Returns all non-overlapping matches of pattern as a list |            |\n",
    "|`re.sub`|Find and replace expression match|\n",
    "|`re.split`|Split string by the occurrences of pattern            |\n",
    "|`re.escape`|Escape special characters in pattern|"
   ]
  },
  {
   "cell_type": "code",
   "execution_count": null,
   "id": "aa868b1a",
   "metadata": {},
   "outputs": [],
   "source": []
  }
 ],
 "metadata": {
  "kernelspec": {
   "display_name": "Python 3 (ipykernel)",
   "language": "python",
   "name": "python3"
  },
  "language_info": {
   "codemirror_mode": {
    "name": "ipython",
    "version": 3
   },
   "file_extension": ".py",
   "mimetype": "text/x-python",
   "name": "python",
   "nbconvert_exporter": "python",
   "pygments_lexer": "ipython3",
   "version": "3.11.5"
  }
 },
 "nbformat": 4,
 "nbformat_minor": 5
}
