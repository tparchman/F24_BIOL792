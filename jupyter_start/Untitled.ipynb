{
 "cells": [
  {
   "cell_type": "code",
   "execution_count": 1,
   "id": "9435e378",
   "metadata": {},
   "outputs": [
    {
     "name": "stdout",
     "output_type": "stream",
     "text": [
      "ATTTCCCCCC\n"
     ]
    }
   ],
   "source": [
    "Seq=\"ATTTCCCCCC\"\n",
    "print(Seq)"
   ]
  },
  {
   "cell_type": "markdown",
   "id": "0c236093",
   "metadata": {},
   "source": [
    "## here I am going to write a for loop\n",
    "- weather\n",
    "- time\n",
    "- space"
   ]
  },
  {
   "cell_type": "code",
   "execution_count": 10,
   "id": "5011d846",
   "metadata": {},
   "outputs": [
    {
     "name": "stdout",
     "output_type": "stream",
     "text": [
      "\u001b[1m\u001b[36mGitHub\u001b[m\u001b[m/ \u001b[1m\u001b[36mZoom\u001b[m\u001b[m/\r\n"
     ]
    }
   ],
   "source": [
    "%ls"
   ]
  },
  {
   "cell_type": "code",
   "execution_count": 9,
   "id": "2a99524b",
   "metadata": {},
   "outputs": [
    {
     "name": "stdout",
     "output_type": "stream",
     "text": [
      "/Users/thomasparchman/Documents\n"
     ]
    },
    {
     "data": {
      "text/plain": [
       "'/Users/thomasparchman/Documents'"
      ]
     },
     "execution_count": 9,
     "metadata": {},
     "output_type": "execute_result"
    }
   ],
   "source": [
    "%cd ../\n",
    "%pwd\n"
   ]
  },
  {
   "cell_type": "code",
   "execution_count": 5,
   "id": "9e634e7c",
   "metadata": {},
   "outputs": [
    {
     "name": "stdout",
     "output_type": "stream",
     "text": [
      "Untitled.ipynb             jupyter_getting_started.md\r\n",
      "\u001b[1m\u001b[36mimages\u001b[m\u001b[m\r\n"
     ]
    }
   ],
   "source": [
    "!cd ../../\n",
    "!ls\n"
   ]
  },
  {
   "cell_type": "code",
   "execution_count": null,
   "id": "e6256e23",
   "metadata": {},
   "outputs": [],
   "source": []
  }
 ],
 "metadata": {
  "kernelspec": {
   "display_name": "Python 3",
   "language": "python",
   "name": "python3"
  },
  "language_info": {
   "codemirror_mode": {
    "name": "ipython",
    "version": 3
   },
   "file_extension": ".py",
   "mimetype": "text/x-python",
   "name": "python",
   "nbconvert_exporter": "python",
   "pygments_lexer": "ipython3",
   "version": "3.8.8"
  }
 },
 "nbformat": 4,
 "nbformat_minor": 5
}
